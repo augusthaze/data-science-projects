{
 "cells": [
  {
   "cell_type": "markdown",
   "metadata": {},
   "source": [
    "1. Prepare data \n",
    "    * Open files, look into data\n",
    "    * Calculate recovery feature by hand, check `rougher.output.recovery` feature\n",
    "    * Analyze features not available in the test set\n",
    "    * Data preprocessing\n",
    "2. Analyze data\n",
    "    * Concentrations of metals at different stages of purification\n",
    "    * Feed particle size distributions in training and test sets\n",
    "    * Total concentrations of all substances at different stages\n",
    "3. Build model\n",
    "    * Write function to calculate final sMAPE value\n",
    "    * Train models, evaluate using cross-validation\n",
    "    * Pick the best model, test using test sample\n",
    "4. Conclusion\n",
    " "
   ]
  },
  {
   "cell_type": "markdown",
   "metadata": {},
   "source": [
    "**Objective**"
   ]
  },
  {
   "cell_type": "markdown",
   "metadata": {},
   "source": [
    "Build a machine learning model for [Zyfra](https://www.zyfra.com/) to optimize production of gold and eliminate unprofitable parameters. Final model will predict the amount of gold recovered from gold ore. "
   ]
  },
  {
   "cell_type": "markdown",
   "metadata": {},
   "source": [
    "# 1. Prepare data"
   ]
  },
  {
   "cell_type": "markdown",
   "metadata": {},
   "source": [
    "**Open files, look into data**"
   ]
  },
  {
   "cell_type": "code",
   "execution_count": 66,
   "metadata": {},
   "outputs": [],
   "source": [
    "import pandas as pd\n",
    "import numpy as np\n",
    "import matplotlib as mpl\n",
    "import matplotlib.pyplot as plt\n",
    "from sklearn.metrics import mean_absolute_error, make_scorer\n",
    "from sklearn.preprocessing import StandardScaler\n",
    "from sklearn.linear_model import LinearRegression\n",
    "from sklearn.tree import DecisionTreeRegressor\n",
    "from sklearn.ensemble import RandomForestRegressor\n",
    "from sklearn.model_selection import GridSearchCV, cross_val_score"
   ]
  },
  {
   "cell_type": "code",
   "execution_count": 5,
   "metadata": {},
   "outputs": [
    {
     "data": {
      "text/html": [
       "<div>\n",
       "<style scoped>\n",
       "    .dataframe tbody tr th:only-of-type {\n",
       "        vertical-align: middle;\n",
       "    }\n",
       "\n",
       "    .dataframe tbody tr th {\n",
       "        vertical-align: top;\n",
       "    }\n",
       "\n",
       "    .dataframe thead th {\n",
       "        text-align: right;\n",
       "    }\n",
       "</style>\n",
       "<table border=\"1\" class=\"dataframe\">\n",
       "  <thead>\n",
       "    <tr style=\"text-align: right;\">\n",
       "      <th></th>\n",
       "      <th>date</th>\n",
       "      <th>final.output.concentrate_ag</th>\n",
       "      <th>final.output.concentrate_pb</th>\n",
       "      <th>final.output.concentrate_sol</th>\n",
       "      <th>final.output.concentrate_au</th>\n",
       "      <th>final.output.recovery</th>\n",
       "      <th>final.output.tail_ag</th>\n",
       "      <th>final.output.tail_pb</th>\n",
       "      <th>final.output.tail_sol</th>\n",
       "      <th>final.output.tail_au</th>\n",
       "      <th>...</th>\n",
       "      <th>secondary_cleaner.state.floatbank4_a_air</th>\n",
       "      <th>secondary_cleaner.state.floatbank4_a_level</th>\n",
       "      <th>secondary_cleaner.state.floatbank4_b_air</th>\n",
       "      <th>secondary_cleaner.state.floatbank4_b_level</th>\n",
       "      <th>secondary_cleaner.state.floatbank5_a_air</th>\n",
       "      <th>secondary_cleaner.state.floatbank5_a_level</th>\n",
       "      <th>secondary_cleaner.state.floatbank5_b_air</th>\n",
       "      <th>secondary_cleaner.state.floatbank5_b_level</th>\n",
       "      <th>secondary_cleaner.state.floatbank6_a_air</th>\n",
       "      <th>secondary_cleaner.state.floatbank6_a_level</th>\n",
       "    </tr>\n",
       "  </thead>\n",
       "  <tbody>\n",
       "    <tr>\n",
       "      <td>0</td>\n",
       "      <td>2016-01-15 00:00:00</td>\n",
       "      <td>6.055403</td>\n",
       "      <td>9.889648</td>\n",
       "      <td>5.507324</td>\n",
       "      <td>42.192020</td>\n",
       "      <td>70.541216</td>\n",
       "      <td>10.411962</td>\n",
       "      <td>0.895447</td>\n",
       "      <td>16.904297</td>\n",
       "      <td>2.143149</td>\n",
       "      <td>...</td>\n",
       "      <td>14.016835</td>\n",
       "      <td>-502.488007</td>\n",
       "      <td>12.099931</td>\n",
       "      <td>-504.715942</td>\n",
       "      <td>9.925633</td>\n",
       "      <td>-498.310211</td>\n",
       "      <td>8.079666</td>\n",
       "      <td>-500.470978</td>\n",
       "      <td>14.151341</td>\n",
       "      <td>-605.841980</td>\n",
       "    </tr>\n",
       "    <tr>\n",
       "      <td>1</td>\n",
       "      <td>2016-01-15 01:00:00</td>\n",
       "      <td>6.029369</td>\n",
       "      <td>9.968944</td>\n",
       "      <td>5.257781</td>\n",
       "      <td>42.701629</td>\n",
       "      <td>69.266198</td>\n",
       "      <td>10.462676</td>\n",
       "      <td>0.927452</td>\n",
       "      <td>16.634514</td>\n",
       "      <td>2.224930</td>\n",
       "      <td>...</td>\n",
       "      <td>13.992281</td>\n",
       "      <td>-505.503262</td>\n",
       "      <td>11.950531</td>\n",
       "      <td>-501.331529</td>\n",
       "      <td>10.039245</td>\n",
       "      <td>-500.169983</td>\n",
       "      <td>7.984757</td>\n",
       "      <td>-500.582168</td>\n",
       "      <td>13.998353</td>\n",
       "      <td>-599.787184</td>\n",
       "    </tr>\n",
       "    <tr>\n",
       "      <td>2</td>\n",
       "      <td>2016-01-15 02:00:00</td>\n",
       "      <td>6.055926</td>\n",
       "      <td>10.213995</td>\n",
       "      <td>5.383759</td>\n",
       "      <td>42.657501</td>\n",
       "      <td>68.116445</td>\n",
       "      <td>10.507046</td>\n",
       "      <td>0.953716</td>\n",
       "      <td>16.208849</td>\n",
       "      <td>2.257889</td>\n",
       "      <td>...</td>\n",
       "      <td>14.015015</td>\n",
       "      <td>-502.520901</td>\n",
       "      <td>11.912783</td>\n",
       "      <td>-501.133383</td>\n",
       "      <td>10.070913</td>\n",
       "      <td>-500.129135</td>\n",
       "      <td>8.013877</td>\n",
       "      <td>-500.517572</td>\n",
       "      <td>14.028663</td>\n",
       "      <td>-601.427363</td>\n",
       "    </tr>\n",
       "    <tr>\n",
       "      <td>3</td>\n",
       "      <td>2016-01-15 03:00:00</td>\n",
       "      <td>6.047977</td>\n",
       "      <td>9.977019</td>\n",
       "      <td>4.858634</td>\n",
       "      <td>42.689819</td>\n",
       "      <td>68.347543</td>\n",
       "      <td>10.422762</td>\n",
       "      <td>0.883763</td>\n",
       "      <td>16.532835</td>\n",
       "      <td>2.146849</td>\n",
       "      <td>...</td>\n",
       "      <td>14.036510</td>\n",
       "      <td>-500.857308</td>\n",
       "      <td>11.999550</td>\n",
       "      <td>-501.193686</td>\n",
       "      <td>9.970366</td>\n",
       "      <td>-499.201640</td>\n",
       "      <td>7.977324</td>\n",
       "      <td>-500.255908</td>\n",
       "      <td>14.005551</td>\n",
       "      <td>-599.996129</td>\n",
       "    </tr>\n",
       "    <tr>\n",
       "      <td>4</td>\n",
       "      <td>2016-01-15 04:00:00</td>\n",
       "      <td>6.148599</td>\n",
       "      <td>10.142511</td>\n",
       "      <td>4.939416</td>\n",
       "      <td>42.774141</td>\n",
       "      <td>66.927016</td>\n",
       "      <td>10.360302</td>\n",
       "      <td>0.792826</td>\n",
       "      <td>16.525686</td>\n",
       "      <td>2.055292</td>\n",
       "      <td>...</td>\n",
       "      <td>14.027298</td>\n",
       "      <td>-499.838632</td>\n",
       "      <td>11.953070</td>\n",
       "      <td>-501.053894</td>\n",
       "      <td>9.925709</td>\n",
       "      <td>-501.686727</td>\n",
       "      <td>7.894242</td>\n",
       "      <td>-500.356035</td>\n",
       "      <td>13.996647</td>\n",
       "      <td>-601.496691</td>\n",
       "    </tr>\n",
       "  </tbody>\n",
       "</table>\n",
       "<p>5 rows × 87 columns</p>\n",
       "</div>"
      ],
      "text/plain": [
       "                  date  final.output.concentrate_ag  \\\n",
       "0  2016-01-15 00:00:00                     6.055403   \n",
       "1  2016-01-15 01:00:00                     6.029369   \n",
       "2  2016-01-15 02:00:00                     6.055926   \n",
       "3  2016-01-15 03:00:00                     6.047977   \n",
       "4  2016-01-15 04:00:00                     6.148599   \n",
       "\n",
       "   final.output.concentrate_pb  final.output.concentrate_sol  \\\n",
       "0                     9.889648                      5.507324   \n",
       "1                     9.968944                      5.257781   \n",
       "2                    10.213995                      5.383759   \n",
       "3                     9.977019                      4.858634   \n",
       "4                    10.142511                      4.939416   \n",
       "\n",
       "   final.output.concentrate_au  final.output.recovery  final.output.tail_ag  \\\n",
       "0                    42.192020              70.541216             10.411962   \n",
       "1                    42.701629              69.266198             10.462676   \n",
       "2                    42.657501              68.116445             10.507046   \n",
       "3                    42.689819              68.347543             10.422762   \n",
       "4                    42.774141              66.927016             10.360302   \n",
       "\n",
       "   final.output.tail_pb  final.output.tail_sol  final.output.tail_au  ...  \\\n",
       "0              0.895447              16.904297              2.143149  ...   \n",
       "1              0.927452              16.634514              2.224930  ...   \n",
       "2              0.953716              16.208849              2.257889  ...   \n",
       "3              0.883763              16.532835              2.146849  ...   \n",
       "4              0.792826              16.525686              2.055292  ...   \n",
       "\n",
       "   secondary_cleaner.state.floatbank4_a_air  \\\n",
       "0                                 14.016835   \n",
       "1                                 13.992281   \n",
       "2                                 14.015015   \n",
       "3                                 14.036510   \n",
       "4                                 14.027298   \n",
       "\n",
       "   secondary_cleaner.state.floatbank4_a_level  \\\n",
       "0                                 -502.488007   \n",
       "1                                 -505.503262   \n",
       "2                                 -502.520901   \n",
       "3                                 -500.857308   \n",
       "4                                 -499.838632   \n",
       "\n",
       "   secondary_cleaner.state.floatbank4_b_air  \\\n",
       "0                                 12.099931   \n",
       "1                                 11.950531   \n",
       "2                                 11.912783   \n",
       "3                                 11.999550   \n",
       "4                                 11.953070   \n",
       "\n",
       "   secondary_cleaner.state.floatbank4_b_level  \\\n",
       "0                                 -504.715942   \n",
       "1                                 -501.331529   \n",
       "2                                 -501.133383   \n",
       "3                                 -501.193686   \n",
       "4                                 -501.053894   \n",
       "\n",
       "   secondary_cleaner.state.floatbank5_a_air  \\\n",
       "0                                  9.925633   \n",
       "1                                 10.039245   \n",
       "2                                 10.070913   \n",
       "3                                  9.970366   \n",
       "4                                  9.925709   \n",
       "\n",
       "   secondary_cleaner.state.floatbank5_a_level  \\\n",
       "0                                 -498.310211   \n",
       "1                                 -500.169983   \n",
       "2                                 -500.129135   \n",
       "3                                 -499.201640   \n",
       "4                                 -501.686727   \n",
       "\n",
       "   secondary_cleaner.state.floatbank5_b_air  \\\n",
       "0                                  8.079666   \n",
       "1                                  7.984757   \n",
       "2                                  8.013877   \n",
       "3                                  7.977324   \n",
       "4                                  7.894242   \n",
       "\n",
       "   secondary_cleaner.state.floatbank5_b_level  \\\n",
       "0                                 -500.470978   \n",
       "1                                 -500.582168   \n",
       "2                                 -500.517572   \n",
       "3                                 -500.255908   \n",
       "4                                 -500.356035   \n",
       "\n",
       "   secondary_cleaner.state.floatbank6_a_air  \\\n",
       "0                                 14.151341   \n",
       "1                                 13.998353   \n",
       "2                                 14.028663   \n",
       "3                                 14.005551   \n",
       "4                                 13.996647   \n",
       "\n",
       "   secondary_cleaner.state.floatbank6_a_level  \n",
       "0                                 -605.841980  \n",
       "1                                 -599.787184  \n",
       "2                                 -601.427363  \n",
       "3                                 -599.996129  \n",
       "4                                 -601.496691  \n",
       "\n",
       "[5 rows x 87 columns]"
      ]
     },
     "execution_count": 5,
     "metadata": {},
     "output_type": "execute_result"
    }
   ],
   "source": [
    "train_df = pd.read_csv('/datasets/gold_recovery_train.csv')\n",
    "train_df.head()"
   ]
  },
  {
   "cell_type": "code",
   "execution_count": 6,
   "metadata": {},
   "outputs": [
    {
     "name": "stdout",
     "output_type": "stream",
     "text": [
      "<class 'pandas.core.frame.DataFrame'>\n",
      "RangeIndex: 16860 entries, 0 to 16859\n",
      "Data columns (total 87 columns):\n",
      "date                                                  16860 non-null object\n",
      "final.output.concentrate_ag                           16788 non-null float64\n",
      "final.output.concentrate_pb                           16788 non-null float64\n",
      "final.output.concentrate_sol                          16490 non-null float64\n",
      "final.output.concentrate_au                           16789 non-null float64\n",
      "final.output.recovery                                 15339 non-null float64\n",
      "final.output.tail_ag                                  16794 non-null float64\n",
      "final.output.tail_pb                                  16677 non-null float64\n",
      "final.output.tail_sol                                 16715 non-null float64\n",
      "final.output.tail_au                                  16794 non-null float64\n",
      "primary_cleaner.input.sulfate                         15553 non-null float64\n",
      "primary_cleaner.input.depressant                      15598 non-null float64\n",
      "primary_cleaner.input.feed_size                       16860 non-null float64\n",
      "primary_cleaner.input.xanthate                        15875 non-null float64\n",
      "primary_cleaner.output.concentrate_ag                 16778 non-null float64\n",
      "primary_cleaner.output.concentrate_pb                 16502 non-null float64\n",
      "primary_cleaner.output.concentrate_sol                16224 non-null float64\n",
      "primary_cleaner.output.concentrate_au                 16778 non-null float64\n",
      "primary_cleaner.output.tail_ag                        16777 non-null float64\n",
      "primary_cleaner.output.tail_pb                        16761 non-null float64\n",
      "primary_cleaner.output.tail_sol                       16579 non-null float64\n",
      "primary_cleaner.output.tail_au                        16777 non-null float64\n",
      "primary_cleaner.state.floatbank8_a_air                16820 non-null float64\n",
      "primary_cleaner.state.floatbank8_a_level              16827 non-null float64\n",
      "primary_cleaner.state.floatbank8_b_air                16820 non-null float64\n",
      "primary_cleaner.state.floatbank8_b_level              16833 non-null float64\n",
      "primary_cleaner.state.floatbank8_c_air                16822 non-null float64\n",
      "primary_cleaner.state.floatbank8_c_level              16833 non-null float64\n",
      "primary_cleaner.state.floatbank8_d_air                16821 non-null float64\n",
      "primary_cleaner.state.floatbank8_d_level              16833 non-null float64\n",
      "rougher.calculation.sulfate_to_au_concentrate         16833 non-null float64\n",
      "rougher.calculation.floatbank10_sulfate_to_au_feed    16833 non-null float64\n",
      "rougher.calculation.floatbank11_sulfate_to_au_feed    16833 non-null float64\n",
      "rougher.calculation.au_pb_ratio                       15618 non-null float64\n",
      "rougher.input.feed_ag                                 16778 non-null float64\n",
      "rougher.input.feed_pb                                 16632 non-null float64\n",
      "rougher.input.feed_rate                               16347 non-null float64\n",
      "rougher.input.feed_size                               16443 non-null float64\n",
      "rougher.input.feed_sol                                16568 non-null float64\n",
      "rougher.input.feed_au                                 16777 non-null float64\n",
      "rougher.input.floatbank10_sulfate                     15816 non-null float64\n",
      "rougher.input.floatbank10_xanthate                    16514 non-null float64\n",
      "rougher.input.floatbank11_sulfate                     16237 non-null float64\n",
      "rougher.input.floatbank11_xanthate                    14956 non-null float64\n",
      "rougher.output.concentrate_ag                         16778 non-null float64\n",
      "rougher.output.concentrate_pb                         16778 non-null float64\n",
      "rougher.output.concentrate_sol                        16698 non-null float64\n",
      "rougher.output.concentrate_au                         16778 non-null float64\n",
      "rougher.output.recovery                               14287 non-null float64\n",
      "rougher.output.tail_ag                                14610 non-null float64\n",
      "rougher.output.tail_pb                                16778 non-null float64\n",
      "rougher.output.tail_sol                               14611 non-null float64\n",
      "rougher.output.tail_au                                14611 non-null float64\n",
      "rougher.state.floatbank10_a_air                       16807 non-null float64\n",
      "rougher.state.floatbank10_a_level                     16807 non-null float64\n",
      "rougher.state.floatbank10_b_air                       16807 non-null float64\n",
      "rougher.state.floatbank10_b_level                     16807 non-null float64\n",
      "rougher.state.floatbank10_c_air                       16807 non-null float64\n",
      "rougher.state.floatbank10_c_level                     16814 non-null float64\n",
      "rougher.state.floatbank10_d_air                       16802 non-null float64\n",
      "rougher.state.floatbank10_d_level                     16809 non-null float64\n",
      "rougher.state.floatbank10_e_air                       16257 non-null float64\n",
      "rougher.state.floatbank10_e_level                     16809 non-null float64\n",
      "rougher.state.floatbank10_f_air                       16802 non-null float64\n",
      "rougher.state.floatbank10_f_level                     16802 non-null float64\n",
      "secondary_cleaner.output.tail_ag                      16776 non-null float64\n",
      "secondary_cleaner.output.tail_pb                      16764 non-null float64\n",
      "secondary_cleaner.output.tail_sol                     14874 non-null float64\n",
      "secondary_cleaner.output.tail_au                      16778 non-null float64\n",
      "secondary_cleaner.state.floatbank2_a_air              16497 non-null float64\n",
      "secondary_cleaner.state.floatbank2_a_level            16751 non-null float64\n",
      "secondary_cleaner.state.floatbank2_b_air              16705 non-null float64\n",
      "secondary_cleaner.state.floatbank2_b_level            16748 non-null float64\n",
      "secondary_cleaner.state.floatbank3_a_air              16763 non-null float64\n",
      "secondary_cleaner.state.floatbank3_a_level            16747 non-null float64\n",
      "secondary_cleaner.state.floatbank3_b_air              16752 non-null float64\n",
      "secondary_cleaner.state.floatbank3_b_level            16750 non-null float64\n",
      "secondary_cleaner.state.floatbank4_a_air              16731 non-null float64\n",
      "secondary_cleaner.state.floatbank4_a_level            16747 non-null float64\n",
      "secondary_cleaner.state.floatbank4_b_air              16768 non-null float64\n",
      "secondary_cleaner.state.floatbank4_b_level            16767 non-null float64\n",
      "secondary_cleaner.state.floatbank5_a_air              16775 non-null float64\n",
      "secondary_cleaner.state.floatbank5_a_level            16775 non-null float64\n",
      "secondary_cleaner.state.floatbank5_b_air              16775 non-null float64\n",
      "secondary_cleaner.state.floatbank5_b_level            16776 non-null float64\n",
      "secondary_cleaner.state.floatbank6_a_air              16757 non-null float64\n",
      "secondary_cleaner.state.floatbank6_a_level            16775 non-null float64\n",
      "dtypes: float64(86), object(1)\n",
      "memory usage: 11.2+ MB\n"
     ]
    }
   ],
   "source": [
    "train_df.info()"
   ]
  },
  {
   "cell_type": "code",
   "execution_count": 7,
   "metadata": {},
   "outputs": [
    {
     "data": {
      "text/html": [
       "<div>\n",
       "<style scoped>\n",
       "    .dataframe tbody tr th:only-of-type {\n",
       "        vertical-align: middle;\n",
       "    }\n",
       "\n",
       "    .dataframe tbody tr th {\n",
       "        vertical-align: top;\n",
       "    }\n",
       "\n",
       "    .dataframe thead th {\n",
       "        text-align: right;\n",
       "    }\n",
       "</style>\n",
       "<table border=\"1\" class=\"dataframe\">\n",
       "  <thead>\n",
       "    <tr style=\"text-align: right;\">\n",
       "      <th></th>\n",
       "      <th>date</th>\n",
       "      <th>primary_cleaner.input.sulfate</th>\n",
       "      <th>primary_cleaner.input.depressant</th>\n",
       "      <th>primary_cleaner.input.feed_size</th>\n",
       "      <th>primary_cleaner.input.xanthate</th>\n",
       "      <th>primary_cleaner.state.floatbank8_a_air</th>\n",
       "      <th>primary_cleaner.state.floatbank8_a_level</th>\n",
       "      <th>primary_cleaner.state.floatbank8_b_air</th>\n",
       "      <th>primary_cleaner.state.floatbank8_b_level</th>\n",
       "      <th>primary_cleaner.state.floatbank8_c_air</th>\n",
       "      <th>...</th>\n",
       "      <th>secondary_cleaner.state.floatbank4_a_air</th>\n",
       "      <th>secondary_cleaner.state.floatbank4_a_level</th>\n",
       "      <th>secondary_cleaner.state.floatbank4_b_air</th>\n",
       "      <th>secondary_cleaner.state.floatbank4_b_level</th>\n",
       "      <th>secondary_cleaner.state.floatbank5_a_air</th>\n",
       "      <th>secondary_cleaner.state.floatbank5_a_level</th>\n",
       "      <th>secondary_cleaner.state.floatbank5_b_air</th>\n",
       "      <th>secondary_cleaner.state.floatbank5_b_level</th>\n",
       "      <th>secondary_cleaner.state.floatbank6_a_air</th>\n",
       "      <th>secondary_cleaner.state.floatbank6_a_level</th>\n",
       "    </tr>\n",
       "  </thead>\n",
       "  <tbody>\n",
       "    <tr>\n",
       "      <td>0</td>\n",
       "      <td>2016-09-01 00:59:59</td>\n",
       "      <td>210.800909</td>\n",
       "      <td>14.993118</td>\n",
       "      <td>8.080000</td>\n",
       "      <td>1.005021</td>\n",
       "      <td>1398.981301</td>\n",
       "      <td>-500.225577</td>\n",
       "      <td>1399.144926</td>\n",
       "      <td>-499.919735</td>\n",
       "      <td>1400.102998</td>\n",
       "      <td>...</td>\n",
       "      <td>12.023554</td>\n",
       "      <td>-497.795834</td>\n",
       "      <td>8.016656</td>\n",
       "      <td>-501.289139</td>\n",
       "      <td>7.946562</td>\n",
       "      <td>-432.317850</td>\n",
       "      <td>4.872511</td>\n",
       "      <td>-500.037437</td>\n",
       "      <td>26.705889</td>\n",
       "      <td>-499.709414</td>\n",
       "    </tr>\n",
       "    <tr>\n",
       "      <td>1</td>\n",
       "      <td>2016-09-01 01:59:59</td>\n",
       "      <td>215.392455</td>\n",
       "      <td>14.987471</td>\n",
       "      <td>8.080000</td>\n",
       "      <td>0.990469</td>\n",
       "      <td>1398.777912</td>\n",
       "      <td>-500.057435</td>\n",
       "      <td>1398.055362</td>\n",
       "      <td>-499.778182</td>\n",
       "      <td>1396.151033</td>\n",
       "      <td>...</td>\n",
       "      <td>12.058140</td>\n",
       "      <td>-498.695773</td>\n",
       "      <td>8.130979</td>\n",
       "      <td>-499.634209</td>\n",
       "      <td>7.958270</td>\n",
       "      <td>-525.839648</td>\n",
       "      <td>4.878850</td>\n",
       "      <td>-500.162375</td>\n",
       "      <td>25.019940</td>\n",
       "      <td>-499.819438</td>\n",
       "    </tr>\n",
       "    <tr>\n",
       "      <td>2</td>\n",
       "      <td>2016-09-01 02:59:59</td>\n",
       "      <td>215.259946</td>\n",
       "      <td>12.884934</td>\n",
       "      <td>7.786667</td>\n",
       "      <td>0.996043</td>\n",
       "      <td>1398.493666</td>\n",
       "      <td>-500.868360</td>\n",
       "      <td>1398.860436</td>\n",
       "      <td>-499.764529</td>\n",
       "      <td>1398.075709</td>\n",
       "      <td>...</td>\n",
       "      <td>11.962366</td>\n",
       "      <td>-498.767484</td>\n",
       "      <td>8.096893</td>\n",
       "      <td>-500.827423</td>\n",
       "      <td>8.071056</td>\n",
       "      <td>-500.801673</td>\n",
       "      <td>4.905125</td>\n",
       "      <td>-499.828510</td>\n",
       "      <td>24.994862</td>\n",
       "      <td>-500.622559</td>\n",
       "    </tr>\n",
       "    <tr>\n",
       "      <td>3</td>\n",
       "      <td>2016-09-01 03:59:59</td>\n",
       "      <td>215.336236</td>\n",
       "      <td>12.006805</td>\n",
       "      <td>7.640000</td>\n",
       "      <td>0.863514</td>\n",
       "      <td>1399.618111</td>\n",
       "      <td>-498.863574</td>\n",
       "      <td>1397.440120</td>\n",
       "      <td>-499.211024</td>\n",
       "      <td>1400.129303</td>\n",
       "      <td>...</td>\n",
       "      <td>12.033091</td>\n",
       "      <td>-498.350935</td>\n",
       "      <td>8.074946</td>\n",
       "      <td>-499.474407</td>\n",
       "      <td>7.897085</td>\n",
       "      <td>-500.868509</td>\n",
       "      <td>4.931400</td>\n",
       "      <td>-499.963623</td>\n",
       "      <td>24.948919</td>\n",
       "      <td>-498.709987</td>\n",
       "    </tr>\n",
       "    <tr>\n",
       "      <td>4</td>\n",
       "      <td>2016-09-01 04:59:59</td>\n",
       "      <td>199.099327</td>\n",
       "      <td>10.682530</td>\n",
       "      <td>7.530000</td>\n",
       "      <td>0.805575</td>\n",
       "      <td>1401.268123</td>\n",
       "      <td>-500.808305</td>\n",
       "      <td>1398.128818</td>\n",
       "      <td>-499.504543</td>\n",
       "      <td>1402.172226</td>\n",
       "      <td>...</td>\n",
       "      <td>12.025367</td>\n",
       "      <td>-500.786497</td>\n",
       "      <td>8.054678</td>\n",
       "      <td>-500.397500</td>\n",
       "      <td>8.107890</td>\n",
       "      <td>-509.526725</td>\n",
       "      <td>4.957674</td>\n",
       "      <td>-500.360026</td>\n",
       "      <td>25.003331</td>\n",
       "      <td>-500.856333</td>\n",
       "    </tr>\n",
       "  </tbody>\n",
       "</table>\n",
       "<p>5 rows × 53 columns</p>\n",
       "</div>"
      ],
      "text/plain": [
       "                  date  primary_cleaner.input.sulfate  \\\n",
       "0  2016-09-01 00:59:59                     210.800909   \n",
       "1  2016-09-01 01:59:59                     215.392455   \n",
       "2  2016-09-01 02:59:59                     215.259946   \n",
       "3  2016-09-01 03:59:59                     215.336236   \n",
       "4  2016-09-01 04:59:59                     199.099327   \n",
       "\n",
       "   primary_cleaner.input.depressant  primary_cleaner.input.feed_size  \\\n",
       "0                         14.993118                         8.080000   \n",
       "1                         14.987471                         8.080000   \n",
       "2                         12.884934                         7.786667   \n",
       "3                         12.006805                         7.640000   \n",
       "4                         10.682530                         7.530000   \n",
       "\n",
       "   primary_cleaner.input.xanthate  primary_cleaner.state.floatbank8_a_air  \\\n",
       "0                        1.005021                             1398.981301   \n",
       "1                        0.990469                             1398.777912   \n",
       "2                        0.996043                             1398.493666   \n",
       "3                        0.863514                             1399.618111   \n",
       "4                        0.805575                             1401.268123   \n",
       "\n",
       "   primary_cleaner.state.floatbank8_a_level  \\\n",
       "0                               -500.225577   \n",
       "1                               -500.057435   \n",
       "2                               -500.868360   \n",
       "3                               -498.863574   \n",
       "4                               -500.808305   \n",
       "\n",
       "   primary_cleaner.state.floatbank8_b_air  \\\n",
       "0                             1399.144926   \n",
       "1                             1398.055362   \n",
       "2                             1398.860436   \n",
       "3                             1397.440120   \n",
       "4                             1398.128818   \n",
       "\n",
       "   primary_cleaner.state.floatbank8_b_level  \\\n",
       "0                               -499.919735   \n",
       "1                               -499.778182   \n",
       "2                               -499.764529   \n",
       "3                               -499.211024   \n",
       "4                               -499.504543   \n",
       "\n",
       "   primary_cleaner.state.floatbank8_c_air  ...  \\\n",
       "0                             1400.102998  ...   \n",
       "1                             1396.151033  ...   \n",
       "2                             1398.075709  ...   \n",
       "3                             1400.129303  ...   \n",
       "4                             1402.172226  ...   \n",
       "\n",
       "   secondary_cleaner.state.floatbank4_a_air  \\\n",
       "0                                 12.023554   \n",
       "1                                 12.058140   \n",
       "2                                 11.962366   \n",
       "3                                 12.033091   \n",
       "4                                 12.025367   \n",
       "\n",
       "   secondary_cleaner.state.floatbank4_a_level  \\\n",
       "0                                 -497.795834   \n",
       "1                                 -498.695773   \n",
       "2                                 -498.767484   \n",
       "3                                 -498.350935   \n",
       "4                                 -500.786497   \n",
       "\n",
       "   secondary_cleaner.state.floatbank4_b_air  \\\n",
       "0                                  8.016656   \n",
       "1                                  8.130979   \n",
       "2                                  8.096893   \n",
       "3                                  8.074946   \n",
       "4                                  8.054678   \n",
       "\n",
       "   secondary_cleaner.state.floatbank4_b_level  \\\n",
       "0                                 -501.289139   \n",
       "1                                 -499.634209   \n",
       "2                                 -500.827423   \n",
       "3                                 -499.474407   \n",
       "4                                 -500.397500   \n",
       "\n",
       "   secondary_cleaner.state.floatbank5_a_air  \\\n",
       "0                                  7.946562   \n",
       "1                                  7.958270   \n",
       "2                                  8.071056   \n",
       "3                                  7.897085   \n",
       "4                                  8.107890   \n",
       "\n",
       "   secondary_cleaner.state.floatbank5_a_level  \\\n",
       "0                                 -432.317850   \n",
       "1                                 -525.839648   \n",
       "2                                 -500.801673   \n",
       "3                                 -500.868509   \n",
       "4                                 -509.526725   \n",
       "\n",
       "   secondary_cleaner.state.floatbank5_b_air  \\\n",
       "0                                  4.872511   \n",
       "1                                  4.878850   \n",
       "2                                  4.905125   \n",
       "3                                  4.931400   \n",
       "4                                  4.957674   \n",
       "\n",
       "   secondary_cleaner.state.floatbank5_b_level  \\\n",
       "0                                 -500.037437   \n",
       "1                                 -500.162375   \n",
       "2                                 -499.828510   \n",
       "3                                 -499.963623   \n",
       "4                                 -500.360026   \n",
       "\n",
       "   secondary_cleaner.state.floatbank6_a_air  \\\n",
       "0                                 26.705889   \n",
       "1                                 25.019940   \n",
       "2                                 24.994862   \n",
       "3                                 24.948919   \n",
       "4                                 25.003331   \n",
       "\n",
       "   secondary_cleaner.state.floatbank6_a_level  \n",
       "0                                 -499.709414  \n",
       "1                                 -499.819438  \n",
       "2                                 -500.622559  \n",
       "3                                 -498.709987  \n",
       "4                                 -500.856333  \n",
       "\n",
       "[5 rows x 53 columns]"
      ]
     },
     "execution_count": 7,
     "metadata": {},
     "output_type": "execute_result"
    }
   ],
   "source": [
    "test_df = pd.read_csv('/datasets/gold_recovery_test.csv')\n",
    "test_df.head()"
   ]
  },
  {
   "cell_type": "code",
   "execution_count": 8,
   "metadata": {},
   "outputs": [
    {
     "name": "stdout",
     "output_type": "stream",
     "text": [
      "<class 'pandas.core.frame.DataFrame'>\n",
      "RangeIndex: 5856 entries, 0 to 5855\n",
      "Data columns (total 53 columns):\n",
      "date                                          5856 non-null object\n",
      "primary_cleaner.input.sulfate                 5554 non-null float64\n",
      "primary_cleaner.input.depressant              5572 non-null float64\n",
      "primary_cleaner.input.feed_size               5856 non-null float64\n",
      "primary_cleaner.input.xanthate                5690 non-null float64\n",
      "primary_cleaner.state.floatbank8_a_air        5840 non-null float64\n",
      "primary_cleaner.state.floatbank8_a_level      5840 non-null float64\n",
      "primary_cleaner.state.floatbank8_b_air        5840 non-null float64\n",
      "primary_cleaner.state.floatbank8_b_level      5840 non-null float64\n",
      "primary_cleaner.state.floatbank8_c_air        5840 non-null float64\n",
      "primary_cleaner.state.floatbank8_c_level      5840 non-null float64\n",
      "primary_cleaner.state.floatbank8_d_air        5840 non-null float64\n",
      "primary_cleaner.state.floatbank8_d_level      5840 non-null float64\n",
      "rougher.input.feed_ag                         5840 non-null float64\n",
      "rougher.input.feed_pb                         5840 non-null float64\n",
      "rougher.input.feed_rate                       5816 non-null float64\n",
      "rougher.input.feed_size                       5834 non-null float64\n",
      "rougher.input.feed_sol                        5789 non-null float64\n",
      "rougher.input.feed_au                         5840 non-null float64\n",
      "rougher.input.floatbank10_sulfate             5599 non-null float64\n",
      "rougher.input.floatbank10_xanthate            5733 non-null float64\n",
      "rougher.input.floatbank11_sulfate             5801 non-null float64\n",
      "rougher.input.floatbank11_xanthate            5503 non-null float64\n",
      "rougher.state.floatbank10_a_air               5839 non-null float64\n",
      "rougher.state.floatbank10_a_level             5840 non-null float64\n",
      "rougher.state.floatbank10_b_air               5839 non-null float64\n",
      "rougher.state.floatbank10_b_level             5840 non-null float64\n",
      "rougher.state.floatbank10_c_air               5839 non-null float64\n",
      "rougher.state.floatbank10_c_level             5840 non-null float64\n",
      "rougher.state.floatbank10_d_air               5839 non-null float64\n",
      "rougher.state.floatbank10_d_level             5840 non-null float64\n",
      "rougher.state.floatbank10_e_air               5839 non-null float64\n",
      "rougher.state.floatbank10_e_level             5840 non-null float64\n",
      "rougher.state.floatbank10_f_air               5839 non-null float64\n",
      "rougher.state.floatbank10_f_level             5840 non-null float64\n",
      "secondary_cleaner.state.floatbank2_a_air      5836 non-null float64\n",
      "secondary_cleaner.state.floatbank2_a_level    5840 non-null float64\n",
      "secondary_cleaner.state.floatbank2_b_air      5833 non-null float64\n",
      "secondary_cleaner.state.floatbank2_b_level    5840 non-null float64\n",
      "secondary_cleaner.state.floatbank3_a_air      5822 non-null float64\n",
      "secondary_cleaner.state.floatbank3_a_level    5840 non-null float64\n",
      "secondary_cleaner.state.floatbank3_b_air      5840 non-null float64\n",
      "secondary_cleaner.state.floatbank3_b_level    5840 non-null float64\n",
      "secondary_cleaner.state.floatbank4_a_air      5840 non-null float64\n",
      "secondary_cleaner.state.floatbank4_a_level    5840 non-null float64\n",
      "secondary_cleaner.state.floatbank4_b_air      5840 non-null float64\n",
      "secondary_cleaner.state.floatbank4_b_level    5840 non-null float64\n",
      "secondary_cleaner.state.floatbank5_a_air      5840 non-null float64\n",
      "secondary_cleaner.state.floatbank5_a_level    5840 non-null float64\n",
      "secondary_cleaner.state.floatbank5_b_air      5840 non-null float64\n",
      "secondary_cleaner.state.floatbank5_b_level    5840 non-null float64\n",
      "secondary_cleaner.state.floatbank6_a_air      5840 non-null float64\n",
      "secondary_cleaner.state.floatbank6_a_level    5840 non-null float64\n",
      "dtypes: float64(52), object(1)\n",
      "memory usage: 2.4+ MB\n"
     ]
    }
   ],
   "source": [
    "test_df.info()"
   ]
  },
  {
   "cell_type": "code",
   "execution_count": 9,
   "metadata": {},
   "outputs": [
    {
     "data": {
      "text/html": [
       "<div>\n",
       "<style scoped>\n",
       "    .dataframe tbody tr th:only-of-type {\n",
       "        vertical-align: middle;\n",
       "    }\n",
       "\n",
       "    .dataframe tbody tr th {\n",
       "        vertical-align: top;\n",
       "    }\n",
       "\n",
       "    .dataframe thead th {\n",
       "        text-align: right;\n",
       "    }\n",
       "</style>\n",
       "<table border=\"1\" class=\"dataframe\">\n",
       "  <thead>\n",
       "    <tr style=\"text-align: right;\">\n",
       "      <th></th>\n",
       "      <th>date</th>\n",
       "      <th>final.output.concentrate_ag</th>\n",
       "      <th>final.output.concentrate_pb</th>\n",
       "      <th>final.output.concentrate_sol</th>\n",
       "      <th>final.output.concentrate_au</th>\n",
       "      <th>final.output.recovery</th>\n",
       "      <th>final.output.tail_ag</th>\n",
       "      <th>final.output.tail_pb</th>\n",
       "      <th>final.output.tail_sol</th>\n",
       "      <th>final.output.tail_au</th>\n",
       "      <th>...</th>\n",
       "      <th>secondary_cleaner.state.floatbank4_a_air</th>\n",
       "      <th>secondary_cleaner.state.floatbank4_a_level</th>\n",
       "      <th>secondary_cleaner.state.floatbank4_b_air</th>\n",
       "      <th>secondary_cleaner.state.floatbank4_b_level</th>\n",
       "      <th>secondary_cleaner.state.floatbank5_a_air</th>\n",
       "      <th>secondary_cleaner.state.floatbank5_a_level</th>\n",
       "      <th>secondary_cleaner.state.floatbank5_b_air</th>\n",
       "      <th>secondary_cleaner.state.floatbank5_b_level</th>\n",
       "      <th>secondary_cleaner.state.floatbank6_a_air</th>\n",
       "      <th>secondary_cleaner.state.floatbank6_a_level</th>\n",
       "    </tr>\n",
       "  </thead>\n",
       "  <tbody>\n",
       "    <tr>\n",
       "      <td>0</td>\n",
       "      <td>2016-01-15 00:00:00</td>\n",
       "      <td>6.055403</td>\n",
       "      <td>9.889648</td>\n",
       "      <td>5.507324</td>\n",
       "      <td>42.192020</td>\n",
       "      <td>70.541216</td>\n",
       "      <td>10.411962</td>\n",
       "      <td>0.895447</td>\n",
       "      <td>16.904297</td>\n",
       "      <td>2.143149</td>\n",
       "      <td>...</td>\n",
       "      <td>14.016835</td>\n",
       "      <td>-502.488007</td>\n",
       "      <td>12.099931</td>\n",
       "      <td>-504.715942</td>\n",
       "      <td>9.925633</td>\n",
       "      <td>-498.310211</td>\n",
       "      <td>8.079666</td>\n",
       "      <td>-500.470978</td>\n",
       "      <td>14.151341</td>\n",
       "      <td>-605.841980</td>\n",
       "    </tr>\n",
       "    <tr>\n",
       "      <td>1</td>\n",
       "      <td>2016-01-15 01:00:00</td>\n",
       "      <td>6.029369</td>\n",
       "      <td>9.968944</td>\n",
       "      <td>5.257781</td>\n",
       "      <td>42.701629</td>\n",
       "      <td>69.266198</td>\n",
       "      <td>10.462676</td>\n",
       "      <td>0.927452</td>\n",
       "      <td>16.634514</td>\n",
       "      <td>2.224930</td>\n",
       "      <td>...</td>\n",
       "      <td>13.992281</td>\n",
       "      <td>-505.503262</td>\n",
       "      <td>11.950531</td>\n",
       "      <td>-501.331529</td>\n",
       "      <td>10.039245</td>\n",
       "      <td>-500.169983</td>\n",
       "      <td>7.984757</td>\n",
       "      <td>-500.582168</td>\n",
       "      <td>13.998353</td>\n",
       "      <td>-599.787184</td>\n",
       "    </tr>\n",
       "    <tr>\n",
       "      <td>2</td>\n",
       "      <td>2016-01-15 02:00:00</td>\n",
       "      <td>6.055926</td>\n",
       "      <td>10.213995</td>\n",
       "      <td>5.383759</td>\n",
       "      <td>42.657501</td>\n",
       "      <td>68.116445</td>\n",
       "      <td>10.507046</td>\n",
       "      <td>0.953716</td>\n",
       "      <td>16.208849</td>\n",
       "      <td>2.257889</td>\n",
       "      <td>...</td>\n",
       "      <td>14.015015</td>\n",
       "      <td>-502.520901</td>\n",
       "      <td>11.912783</td>\n",
       "      <td>-501.133383</td>\n",
       "      <td>10.070913</td>\n",
       "      <td>-500.129135</td>\n",
       "      <td>8.013877</td>\n",
       "      <td>-500.517572</td>\n",
       "      <td>14.028663</td>\n",
       "      <td>-601.427363</td>\n",
       "    </tr>\n",
       "    <tr>\n",
       "      <td>3</td>\n",
       "      <td>2016-01-15 03:00:00</td>\n",
       "      <td>6.047977</td>\n",
       "      <td>9.977019</td>\n",
       "      <td>4.858634</td>\n",
       "      <td>42.689819</td>\n",
       "      <td>68.347543</td>\n",
       "      <td>10.422762</td>\n",
       "      <td>0.883763</td>\n",
       "      <td>16.532835</td>\n",
       "      <td>2.146849</td>\n",
       "      <td>...</td>\n",
       "      <td>14.036510</td>\n",
       "      <td>-500.857308</td>\n",
       "      <td>11.999550</td>\n",
       "      <td>-501.193686</td>\n",
       "      <td>9.970366</td>\n",
       "      <td>-499.201640</td>\n",
       "      <td>7.977324</td>\n",
       "      <td>-500.255908</td>\n",
       "      <td>14.005551</td>\n",
       "      <td>-599.996129</td>\n",
       "    </tr>\n",
       "    <tr>\n",
       "      <td>4</td>\n",
       "      <td>2016-01-15 04:00:00</td>\n",
       "      <td>6.148599</td>\n",
       "      <td>10.142511</td>\n",
       "      <td>4.939416</td>\n",
       "      <td>42.774141</td>\n",
       "      <td>66.927016</td>\n",
       "      <td>10.360302</td>\n",
       "      <td>0.792826</td>\n",
       "      <td>16.525686</td>\n",
       "      <td>2.055292</td>\n",
       "      <td>...</td>\n",
       "      <td>14.027298</td>\n",
       "      <td>-499.838632</td>\n",
       "      <td>11.953070</td>\n",
       "      <td>-501.053894</td>\n",
       "      <td>9.925709</td>\n",
       "      <td>-501.686727</td>\n",
       "      <td>7.894242</td>\n",
       "      <td>-500.356035</td>\n",
       "      <td>13.996647</td>\n",
       "      <td>-601.496691</td>\n",
       "    </tr>\n",
       "  </tbody>\n",
       "</table>\n",
       "<p>5 rows × 87 columns</p>\n",
       "</div>"
      ],
      "text/plain": [
       "                  date  final.output.concentrate_ag  \\\n",
       "0  2016-01-15 00:00:00                     6.055403   \n",
       "1  2016-01-15 01:00:00                     6.029369   \n",
       "2  2016-01-15 02:00:00                     6.055926   \n",
       "3  2016-01-15 03:00:00                     6.047977   \n",
       "4  2016-01-15 04:00:00                     6.148599   \n",
       "\n",
       "   final.output.concentrate_pb  final.output.concentrate_sol  \\\n",
       "0                     9.889648                      5.507324   \n",
       "1                     9.968944                      5.257781   \n",
       "2                    10.213995                      5.383759   \n",
       "3                     9.977019                      4.858634   \n",
       "4                    10.142511                      4.939416   \n",
       "\n",
       "   final.output.concentrate_au  final.output.recovery  final.output.tail_ag  \\\n",
       "0                    42.192020              70.541216             10.411962   \n",
       "1                    42.701629              69.266198             10.462676   \n",
       "2                    42.657501              68.116445             10.507046   \n",
       "3                    42.689819              68.347543             10.422762   \n",
       "4                    42.774141              66.927016             10.360302   \n",
       "\n",
       "   final.output.tail_pb  final.output.tail_sol  final.output.tail_au  ...  \\\n",
       "0              0.895447              16.904297              2.143149  ...   \n",
       "1              0.927452              16.634514              2.224930  ...   \n",
       "2              0.953716              16.208849              2.257889  ...   \n",
       "3              0.883763              16.532835              2.146849  ...   \n",
       "4              0.792826              16.525686              2.055292  ...   \n",
       "\n",
       "   secondary_cleaner.state.floatbank4_a_air  \\\n",
       "0                                 14.016835   \n",
       "1                                 13.992281   \n",
       "2                                 14.015015   \n",
       "3                                 14.036510   \n",
       "4                                 14.027298   \n",
       "\n",
       "   secondary_cleaner.state.floatbank4_a_level  \\\n",
       "0                                 -502.488007   \n",
       "1                                 -505.503262   \n",
       "2                                 -502.520901   \n",
       "3                                 -500.857308   \n",
       "4                                 -499.838632   \n",
       "\n",
       "   secondary_cleaner.state.floatbank4_b_air  \\\n",
       "0                                 12.099931   \n",
       "1                                 11.950531   \n",
       "2                                 11.912783   \n",
       "3                                 11.999550   \n",
       "4                                 11.953070   \n",
       "\n",
       "   secondary_cleaner.state.floatbank4_b_level  \\\n",
       "0                                 -504.715942   \n",
       "1                                 -501.331529   \n",
       "2                                 -501.133383   \n",
       "3                                 -501.193686   \n",
       "4                                 -501.053894   \n",
       "\n",
       "   secondary_cleaner.state.floatbank5_a_air  \\\n",
       "0                                  9.925633   \n",
       "1                                 10.039245   \n",
       "2                                 10.070913   \n",
       "3                                  9.970366   \n",
       "4                                  9.925709   \n",
       "\n",
       "   secondary_cleaner.state.floatbank5_a_level  \\\n",
       "0                                 -498.310211   \n",
       "1                                 -500.169983   \n",
       "2                                 -500.129135   \n",
       "3                                 -499.201640   \n",
       "4                                 -501.686727   \n",
       "\n",
       "   secondary_cleaner.state.floatbank5_b_air  \\\n",
       "0                                  8.079666   \n",
       "1                                  7.984757   \n",
       "2                                  8.013877   \n",
       "3                                  7.977324   \n",
       "4                                  7.894242   \n",
       "\n",
       "   secondary_cleaner.state.floatbank5_b_level  \\\n",
       "0                                 -500.470978   \n",
       "1                                 -500.582168   \n",
       "2                                 -500.517572   \n",
       "3                                 -500.255908   \n",
       "4                                 -500.356035   \n",
       "\n",
       "   secondary_cleaner.state.floatbank6_a_air  \\\n",
       "0                                 14.151341   \n",
       "1                                 13.998353   \n",
       "2                                 14.028663   \n",
       "3                                 14.005551   \n",
       "4                                 13.996647   \n",
       "\n",
       "   secondary_cleaner.state.floatbank6_a_level  \n",
       "0                                 -605.841980  \n",
       "1                                 -599.787184  \n",
       "2                                 -601.427363  \n",
       "3                                 -599.996129  \n",
       "4                                 -601.496691  \n",
       "\n",
       "[5 rows x 87 columns]"
      ]
     },
     "execution_count": 9,
     "metadata": {},
     "output_type": "execute_result"
    }
   ],
   "source": [
    "full_df = pd.read_csv('/datasets/gold_recovery_full.csv')\n",
    "full_df.head()"
   ]
  },
  {
   "cell_type": "code",
   "execution_count": 10,
   "metadata": {},
   "outputs": [
    {
     "name": "stdout",
     "output_type": "stream",
     "text": [
      "<class 'pandas.core.frame.DataFrame'>\n",
      "RangeIndex: 22716 entries, 0 to 22715\n",
      "Data columns (total 87 columns):\n",
      "date                                                  22716 non-null object\n",
      "final.output.concentrate_ag                           22627 non-null float64\n",
      "final.output.concentrate_pb                           22629 non-null float64\n",
      "final.output.concentrate_sol                          22331 non-null float64\n",
      "final.output.concentrate_au                           22630 non-null float64\n",
      "final.output.recovery                                 20753 non-null float64\n",
      "final.output.tail_ag                                  22633 non-null float64\n",
      "final.output.tail_pb                                  22516 non-null float64\n",
      "final.output.tail_sol                                 22445 non-null float64\n",
      "final.output.tail_au                                  22635 non-null float64\n",
      "primary_cleaner.input.sulfate                         21107 non-null float64\n",
      "primary_cleaner.input.depressant                      21170 non-null float64\n",
      "primary_cleaner.input.feed_size                       22716 non-null float64\n",
      "primary_cleaner.input.xanthate                        21565 non-null float64\n",
      "primary_cleaner.output.concentrate_ag                 22618 non-null float64\n",
      "primary_cleaner.output.concentrate_pb                 22268 non-null float64\n",
      "primary_cleaner.output.concentrate_sol                21918 non-null float64\n",
      "primary_cleaner.output.concentrate_au                 22618 non-null float64\n",
      "primary_cleaner.output.tail_ag                        22614 non-null float64\n",
      "primary_cleaner.output.tail_pb                        22594 non-null float64\n",
      "primary_cleaner.output.tail_sol                       22365 non-null float64\n",
      "primary_cleaner.output.tail_au                        22617 non-null float64\n",
      "primary_cleaner.state.floatbank8_a_air                22660 non-null float64\n",
      "primary_cleaner.state.floatbank8_a_level              22667 non-null float64\n",
      "primary_cleaner.state.floatbank8_b_air                22660 non-null float64\n",
      "primary_cleaner.state.floatbank8_b_level              22673 non-null float64\n",
      "primary_cleaner.state.floatbank8_c_air                22662 non-null float64\n",
      "primary_cleaner.state.floatbank8_c_level              22673 non-null float64\n",
      "primary_cleaner.state.floatbank8_d_air                22661 non-null float64\n",
      "primary_cleaner.state.floatbank8_d_level              22673 non-null float64\n",
      "rougher.calculation.sulfate_to_au_concentrate         22672 non-null float64\n",
      "rougher.calculation.floatbank10_sulfate_to_au_feed    22672 non-null float64\n",
      "rougher.calculation.floatbank11_sulfate_to_au_feed    22672 non-null float64\n",
      "rougher.calculation.au_pb_ratio                       21089 non-null float64\n",
      "rougher.input.feed_ag                                 22618 non-null float64\n",
      "rougher.input.feed_pb                                 22472 non-null float64\n",
      "rougher.input.feed_rate                               22163 non-null float64\n",
      "rougher.input.feed_size                               22277 non-null float64\n",
      "rougher.input.feed_sol                                22357 non-null float64\n",
      "rougher.input.feed_au                                 22617 non-null float64\n",
      "rougher.input.floatbank10_sulfate                     21415 non-null float64\n",
      "rougher.input.floatbank10_xanthate                    22247 non-null float64\n",
      "rougher.input.floatbank11_sulfate                     22038 non-null float64\n",
      "rougher.input.floatbank11_xanthate                    20459 non-null float64\n",
      "rougher.output.concentrate_ag                         22618 non-null float64\n",
      "rougher.output.concentrate_pb                         22618 non-null float64\n",
      "rougher.output.concentrate_sol                        22526 non-null float64\n",
      "rougher.output.concentrate_au                         22618 non-null float64\n",
      "rougher.output.recovery                               19597 non-null float64\n",
      "rougher.output.tail_ag                                19979 non-null float64\n",
      "rougher.output.tail_pb                                22618 non-null float64\n",
      "rougher.output.tail_sol                               19980 non-null float64\n",
      "rougher.output.tail_au                                19980 non-null float64\n",
      "rougher.state.floatbank10_a_air                       22646 non-null float64\n",
      "rougher.state.floatbank10_a_level                     22647 non-null float64\n",
      "rougher.state.floatbank10_b_air                       22646 non-null float64\n",
      "rougher.state.floatbank10_b_level                     22647 non-null float64\n",
      "rougher.state.floatbank10_c_air                       22646 non-null float64\n",
      "rougher.state.floatbank10_c_level                     22654 non-null float64\n",
      "rougher.state.floatbank10_d_air                       22641 non-null float64\n",
      "rougher.state.floatbank10_d_level                     22649 non-null float64\n",
      "rougher.state.floatbank10_e_air                       22096 non-null float64\n",
      "rougher.state.floatbank10_e_level                     22649 non-null float64\n",
      "rougher.state.floatbank10_f_air                       22641 non-null float64\n",
      "rougher.state.floatbank10_f_level                     22642 non-null float64\n",
      "secondary_cleaner.output.tail_ag                      22616 non-null float64\n",
      "secondary_cleaner.output.tail_pb                      22600 non-null float64\n",
      "secondary_cleaner.output.tail_sol                     20501 non-null float64\n",
      "secondary_cleaner.output.tail_au                      22618 non-null float64\n",
      "secondary_cleaner.state.floatbank2_a_air              22333 non-null float64\n",
      "secondary_cleaner.state.floatbank2_a_level            22591 non-null float64\n",
      "secondary_cleaner.state.floatbank2_b_air              22538 non-null float64\n",
      "secondary_cleaner.state.floatbank2_b_level            22588 non-null float64\n",
      "secondary_cleaner.state.floatbank3_a_air              22585 non-null float64\n",
      "secondary_cleaner.state.floatbank3_a_level            22587 non-null float64\n",
      "secondary_cleaner.state.floatbank3_b_air              22592 non-null float64\n",
      "secondary_cleaner.state.floatbank3_b_level            22590 non-null float64\n",
      "secondary_cleaner.state.floatbank4_a_air              22571 non-null float64\n",
      "secondary_cleaner.state.floatbank4_a_level            22587 non-null float64\n",
      "secondary_cleaner.state.floatbank4_b_air              22608 non-null float64\n",
      "secondary_cleaner.state.floatbank4_b_level            22607 non-null float64\n",
      "secondary_cleaner.state.floatbank5_a_air              22615 non-null float64\n",
      "secondary_cleaner.state.floatbank5_a_level            22615 non-null float64\n",
      "secondary_cleaner.state.floatbank5_b_air              22615 non-null float64\n",
      "secondary_cleaner.state.floatbank5_b_level            22616 non-null float64\n",
      "secondary_cleaner.state.floatbank6_a_air              22597 non-null float64\n",
      "secondary_cleaner.state.floatbank6_a_level            22615 non-null float64\n",
      "dtypes: float64(86), object(1)\n",
      "memory usage: 15.1+ MB\n"
     ]
    }
   ],
   "source": [
    "full_df.info()"
   ]
  },
  {
   "cell_type": "code",
   "execution_count": 11,
   "metadata": {},
   "outputs": [
    {
     "data": {
      "text/plain": [
       "0"
      ]
     },
     "execution_count": 11,
     "metadata": {},
     "output_type": "execute_result"
    }
   ],
   "source": [
    "train_df.duplicated().sum()"
   ]
  },
  {
   "cell_type": "code",
   "execution_count": 12,
   "metadata": {},
   "outputs": [
    {
     "data": {
      "text/plain": [
       "0"
      ]
     },
     "execution_count": 12,
     "metadata": {},
     "output_type": "execute_result"
    }
   ],
   "source": [
    "test_df.duplicated().sum()"
   ]
  },
  {
   "cell_type": "markdown",
   "metadata": {},
   "source": [
    "**Calculate the recovery feature by hand, and check against `rougher.output.recovery` feature**"
   ]
  },
  {
   "cell_type": "code",
   "execution_count": 13,
   "metadata": {},
   "outputs": [
    {
     "data": {
      "text/plain": [
       "count    14287.000000\n",
       "mean        82.394201\n",
       "std         15.096808\n",
       "min          0.000000\n",
       "25%         79.818372\n",
       "50%         85.235997\n",
       "75%         90.131691\n",
       "max        100.000000\n",
       "Name: rougher.output.recovery, dtype: float64"
      ]
     },
     "execution_count": 13,
     "metadata": {},
     "output_type": "execute_result"
    }
   ],
   "source": [
    "train_df['rougher.output.recovery'].describe()"
   ]
  },
  {
   "cell_type": "code",
   "execution_count": 14,
   "metadata": {},
   "outputs": [],
   "source": [
    "# values for calculating the rougher concentrate recovery\n",
    "\n",
    "C = train_df['rougher.output.concentrate_au'] # share of gold in concentrate, after flotation\n",
    "F = train_df['rougher.input.feed_au'] # share of gold in feed, before flotation\n",
    "T = train_df['rougher.output.tail_au'] # share of gold in rougher tails, after flotation\n",
    "\n",
    "recovery_calc = ((C * (F - T)) / (F * (C - T))) * 100"
   ]
  },
  {
   "cell_type": "code",
   "execution_count": 15,
   "metadata": {},
   "outputs": [
    {
     "data": {
      "text/plain": [
       "2313"
      ]
     },
     "execution_count": 15,
     "metadata": {},
     "output_type": "execute_result"
    }
   ],
   "source": [
    "pd.set_option('mode.use_inf_as_na', True)\n",
    "\n",
    "recovery_calc.isna().sum()"
   ]
  },
  {
   "cell_type": "code",
   "execution_count": 16,
   "metadata": {},
   "outputs": [
    {
     "data": {
      "text/plain": [
       "count    14411.000000\n",
       "mean        85.206568\n",
       "std        155.955847\n",
       "min         -0.000000\n",
       "25%         79.888241\n",
       "50%         85.310848\n",
       "75%         90.265816\n",
       "max      13802.071756\n",
       "dtype: float64"
      ]
     },
     "execution_count": 16,
     "metadata": {},
     "output_type": "execute_result"
    }
   ],
   "source": [
    "recovery_calc = recovery_calc.dropna()\n",
    "recovery_calc = recovery_calc[(recovery_calc >= 0.0)]\n",
    "recovery_calc.describe()"
   ]
  },
  {
   "cell_type": "code",
   "execution_count": 17,
   "metadata": {},
   "outputs": [
    {
     "name": "stdout",
     "output_type": "stream",
     "text": [
      "9.444891926100695e-15\n"
     ]
    }
   ],
   "source": [
    "target = train_df['rougher.output.recovery']\n",
    "target = target.dropna()\n",
    "\n",
    "mae = mean_absolute_error(target, recovery_calc[target.index])\n",
    "print(mae)"
   ]
  },
  {
   "cell_type": "markdown",
   "metadata": {},
   "source": [
    "To check that the recovery value is calculated correctly, I wrote a formula that used the related column values. Since there were infinite values in these columns, I set `mode.use_inf_as_na` to True, and then dropped them, along with negative values (which I presume are impossible), and NaN values. I could then compare the hand calculated recovery values to the raw data from the training dataset, as well as calculate the MAE. The resulting MAE is infinitesimally small, which indicates that the recovery column is indeed calculated correctly."
   ]
  },
  {
   "cell_type": "markdown",
   "metadata": {},
   "source": [
    "**Analyze parameters not in test set**"
   ]
  },
  {
   "cell_type": "code",
   "execution_count": 18,
   "metadata": {},
   "outputs": [
    {
     "name": "stdout",
     "output_type": "stream",
     "text": [
      "['final.output.concentrate_ag' 'final.output.concentrate_au'\n",
      " 'final.output.concentrate_pb' 'final.output.concentrate_sol'\n",
      " 'final.output.recovery' 'final.output.tail_ag' 'final.output.tail_au'\n",
      " 'final.output.tail_pb' 'final.output.tail_sol'\n",
      " 'primary_cleaner.output.concentrate_ag'\n",
      " 'primary_cleaner.output.concentrate_au'\n",
      " 'primary_cleaner.output.concentrate_pb'\n",
      " 'primary_cleaner.output.concentrate_sol' 'primary_cleaner.output.tail_ag'\n",
      " 'primary_cleaner.output.tail_au' 'primary_cleaner.output.tail_pb'\n",
      " 'primary_cleaner.output.tail_sol' 'rougher.calculation.au_pb_ratio'\n",
      " 'rougher.calculation.floatbank10_sulfate_to_au_feed'\n",
      " 'rougher.calculation.floatbank11_sulfate_to_au_feed'\n",
      " 'rougher.calculation.sulfate_to_au_concentrate'\n",
      " 'rougher.output.concentrate_ag' 'rougher.output.concentrate_au'\n",
      " 'rougher.output.concentrate_pb' 'rougher.output.concentrate_sol'\n",
      " 'rougher.output.recovery' 'rougher.output.tail_ag'\n",
      " 'rougher.output.tail_au' 'rougher.output.tail_pb'\n",
      " 'rougher.output.tail_sol' 'secondary_cleaner.output.tail_ag'\n",
      " 'secondary_cleaner.output.tail_au' 'secondary_cleaner.output.tail_pb'\n",
      " 'secondary_cleaner.output.tail_sol']\n"
     ]
    }
   ],
   "source": [
    "missing = np.setdiff1d(train_df.columns, test_df.columns)\n",
    "print(missing)"
   ]
  },
  {
   "cell_type": "markdown",
   "metadata": {},
   "source": [
    "The features that are missing in the test set are calculation characteristics of the flotation stage - gold to lead ratio, the sulphate reagent additions to floatbank 10 and 11, and the sulphate to gold concentrate. The test set still includes the actual amount of sulphate and lead input for floatboanks 10 and 11, as well as feed rate and size, so the data to make these calculations is present if these calculations are necessary."
   ]
  },
  {
   "cell_type": "markdown",
   "metadata": {},
   "source": [
    "**Data preprocessing**"
   ]
  },
  {
   "cell_type": "code",
   "execution_count": 19,
   "metadata": {},
   "outputs": [
    {
     "data": {
      "text/plain": [
       "dtype('<M8[ns]')"
      ]
     },
     "execution_count": 19,
     "metadata": {},
     "output_type": "execute_result"
    }
   ],
   "source": [
    "train_df['date'] = pd.to_datetime(train_df['date'], format='%Y-%m-%d %H:%M:%S')\n",
    "train_df['date'].dtypes"
   ]
  },
  {
   "cell_type": "code",
   "execution_count": 20,
   "metadata": {},
   "outputs": [
    {
     "data": {
      "text/plain": [
       "dtype('<M8[ns]')"
      ]
     },
     "execution_count": 20,
     "metadata": {},
     "output_type": "execute_result"
    }
   ],
   "source": [
    "test_df['date'] = pd.to_datetime(test_df['date'], format='%Y-%m-%d %H:%M:%S')\n",
    "test_df['date'].dtypes"
   ]
  },
  {
   "cell_type": "code",
   "execution_count": 21,
   "metadata": {},
   "outputs": [
    {
     "data": {
      "text/plain": [
       "dtype('<M8[ns]')"
      ]
     },
     "execution_count": 21,
     "metadata": {},
     "output_type": "execute_result"
    }
   ],
   "source": [
    "full_df['date'] = pd.to_datetime(full_df['date'], format='%Y-%m-%d %H:%M:%S')\n",
    "full_df['date'].dtypes"
   ]
  },
  {
   "cell_type": "code",
   "execution_count": 22,
   "metadata": {},
   "outputs": [
    {
     "name": "stdout",
     "output_type": "stream",
     "text": [
      "5843\n",
      "473\n",
      "6622\n"
     ]
    }
   ],
   "source": [
    "train_is_nan = train_df.isna()\n",
    "print(train_is_nan.any(axis=1).sum())\n",
    "\n",
    "test_is_nan = test_df.isna()\n",
    "print(test_is_nan.any(axis=1).sum())\n",
    "\n",
    "full_is_nan = full_df.isna()\n",
    "print(full_is_nan.any(axis=1).sum())"
   ]
  },
  {
   "cell_type": "code",
   "execution_count": 23,
   "metadata": {},
   "outputs": [],
   "source": [
    "train_numerical = [col for col in train_df.columns if 'date' not in col]\n",
    "\n",
    "for col in train_numerical:\n",
    "    train_df[col] = train_df[col].replace(np.nan, train_df[col].mean())\n",
    "    \n",
    "test_numerical = [col for col in test_df.columns if 'date' not in col]\n",
    "\n",
    "for col in test_numerical:\n",
    "    test_df[col] = test_df[col].replace(np.nan, test_df[col].mean())"
   ]
  },
  {
   "cell_type": "code",
   "execution_count": 24,
   "metadata": {},
   "outputs": [],
   "source": [
    "train_df = train_df.drop(['rougher.calculation.au_pb_ratio',\n",
    "                                'rougher.calculation.floatbank10_sulfate_to_au_feed',\n",
    "                                'rougher.calculation.floatbank11_sulfate_to_au_feed',\n",
    "                                'rougher.calculation.sulfate_to_au_concentrate'], axis=1)"
   ]
  },
  {
   "cell_type": "markdown",
   "metadata": {},
   "source": [
    "For preprocessing, I first changed the datatype of the `date` column to datetime, so that it would be easier to work with later on. I also found the rest of the NaN values, and counted them. Since there were so many (~30% of the training and full datasets, closer to 10% for the test dataset), I decided to fill them with mean values for the column instead of eliminating the rows with NA values altogether. Finally, I removed the `rougher.calculation` features from the training set features, since the test set wouldn't have them."
   ]
  },
  {
   "cell_type": "markdown",
   "metadata": {},
   "source": [
    "# 2. Analyze the data"
   ]
  },
  {
   "cell_type": "code",
   "execution_count": 25,
   "metadata": {},
   "outputs": [],
   "source": [
    "au_rougher_in = train_df['rougher.input.feed_au']\n",
    "au_rougher_out = train_df['rougher.output.concentrate_au']\n",
    "au_prim_out = train_df['primary_cleaner.output.concentrate_au'].values\n",
    "au_final_out = train_df['final.output.concentrate_au'].values\n",
    "\n",
    "ag_rougher_in = train_df['rougher.input.feed_ag']\n",
    "ag_rougher_out = train_df['rougher.output.concentrate_ag'].values\n",
    "ag_prim_out = train_df['primary_cleaner.output.concentrate_ag'].values\n",
    "ag_final_out = train_df['final.output.concentrate_ag'].values\n",
    "\n",
    "pb_rougher_in = train_df['rougher.input.feed_pb']\n",
    "pb_rougher_out = train_df['rougher.output.concentrate_pb'].values\n",
    "pb_prim_out = train_df['primary_cleaner.output.concentrate_pb'].values\n",
    "pb_final_out = train_df['final.output.concentrate_pb'].values"
   ]
  },
  {
   "cell_type": "code",
   "execution_count": 26,
   "metadata": {},
   "outputs": [
    {
     "data": {
      "text/plain": [
       "Text(0, 0.5, 'Count (normalized)')"
      ]
     },
     "execution_count": 26,
     "metadata": {},
     "output_type": "execute_result"
    },
    {
     "data": {
      "image/png": "[encoded data removed]",
      "text/plain": [
       "<Figure size 432x288 with 1 Axes>"
      ]
     },
     "metadata": {
      "needs_background": "light"
     },
     "output_type": "display_data"
    }
   ],
   "source": [
    "labels = ['Rougher input feed', 'Rougher output concentrate','Primary purification output concentrate', \n",
    "          'Final output concentrate']\n",
    "\n",
    "au_data = [au_rougher_in, au_rougher_out, au_prim_out, au_final_out]\n",
    "\n",
    "fig, ax = plt.subplots()\n",
    "\n",
    "ax.hist(au_data, bins=50, density=True, histtype='bar', stacked=True, label=labels)\n",
    "ax.legend()\n",
    "ax.set_title('Concentration of Au at each purification stage')\n",
    "ax.set_xlabel('Share of gold')\n",
    "ax.set_ylabel('Count (normalized)')"
   ]
  },
  {
   "cell_type": "code",
   "execution_count": 27,
   "metadata": {},
   "outputs": [
    {
     "data": {
      "text/plain": [
       "Text(0, 0.5, 'Count (normalized)')"
      ]
     },
     "execution_count": 27,
     "metadata": {},
     "output_type": "execute_result"
    },
    {
     "data": {
      "image/png": "[encoded data removed]",
      "text/plain": [
       "<Figure size 432x288 with 1 Axes>"
      ]
     },
     "metadata": {
      "needs_background": "light"
     },
     "output_type": "display_data"
    }
   ],
   "source": [
    "ag_data = [ag_rougher_in, ag_rougher_out, ag_prim_out, ag_final_out]\n",
    "\n",
    "fig, ax = plt.subplots()\n",
    "\n",
    "ax.hist(ag_data, bins=50, density=True, histtype='bar', stacked=True, label=labels)\n",
    "ax.legend()\n",
    "ax.set_title('Concentration of Ag at each purification stage')\n",
    "ax.set_xlabel('Share of silver')\n",
    "ax.set_ylabel('Count (normalized)')"
   ]
  },
  {
   "cell_type": "code",
   "execution_count": 28,
   "metadata": {},
   "outputs": [
    {
     "data": {
      "text/plain": [
       "Text(0, 0.5, 'Count (normalized)')"
      ]
     },
     "execution_count": 28,
     "metadata": {},
     "output_type": "execute_result"
    },
    {
     "data": {
      "image/png": "[encoded data removed]",
      "text/plain": [
       "<Figure size 432x288 with 1 Axes>"
      ]
     },
     "metadata": {
      "needs_background": "light"
     },
     "output_type": "display_data"
    }
   ],
   "source": [
    "pb_data = [pb_rougher_in, pb_rougher_out, pb_prim_out, pb_final_out]\n",
    "\n",
    "fig, ax = plt.subplots()\n",
    "\n",
    "ax.hist(pb_data, bins=50, density=True, histtype='bar', stacked=True, label=labels)\n",
    "ax.legend()\n",
    "ax.set_title('Concentration of Pb at each purification stage')\n",
    "ax.set_xlabel('Share of lead')\n",
    "ax.set_ylabel('Count (normalized)')"
   ]
  },
  {
   "cell_type": "markdown",
   "metadata": {},
   "source": [
    "To examine how the concentrations of each metal change at the individual stages of purification, I used stacked histograms. I appears that concentrations of gold increase at each stage, concentrations of silver reduce, and lead stays more consistent. "
   ]
  },
  {
   "cell_type": "markdown",
   "metadata": {},
   "source": [
    "**Check feed particle size**"
   ]
  },
  {
   "cell_type": "code",
   "execution_count": 29,
   "metadata": {},
   "outputs": [
    {
     "name": "stdout",
     "output_type": "stream",
     "text": [
      "count    16860.000000\n",
      "mean        58.676444\n",
      "std         23.624881\n",
      "min          9.659576\n",
      "25%         47.597875\n",
      "50%         54.475704\n",
      "75%         64.587648\n",
      "max        484.967466\n",
      "Name: rougher.input.feed_size, dtype: float64\n",
      "count    5856.000000\n",
      "mean       55.937535\n",
      "std        22.681521\n",
      "min         0.046369\n",
      "25%        43.898467\n",
      "50%        50.109024\n",
      "75%        61.608216\n",
      "max       477.445473\n",
      "Name: rougher.input.feed_size, dtype: float64\n"
     ]
    }
   ],
   "source": [
    "print(train_df['rougher.input.feed_size'].describe())\n",
    "print(test_df['rougher.input.feed_size'].describe())"
   ]
  },
  {
   "cell_type": "code",
   "execution_count": 30,
   "metadata": {},
   "outputs": [
    {
     "name": "stderr",
     "output_type": "stream",
     "text": [
      "/opt/conda/lib/python3.7/site-packages/numpy/core/_asarray.py:83: VisibleDeprecationWarning: Creating an ndarray from ragged nested sequences (which is a list-or-tuple of lists-or-tuples-or ndarrays with different lengths or shapes) is deprecated. If you meant to do this, you must specify 'dtype=object' when creating the ndarray\n",
      "  return array(a, dtype, copy=False, order=order)\n"
     ]
    },
    {
     "data": {
      "text/plain": [
       "Text(0, 0.5, 'Count (normalized)')"
      ]
     },
     "execution_count": 30,
     "metadata": {},
     "output_type": "execute_result"
    },
    {
     "data": {
      "image/png": "[encoded data removed]",
      "text/plain": [
       "<Figure size 432x288 with 1 Axes>"
      ]
     },
     "metadata": {
      "needs_background": "light"
     },
     "output_type": "display_data"
    }
   ],
   "source": [
    "rougher_data = [train_df['rougher.input.feed_size'], test_df['rougher.input.feed_size']]\n",
    "\n",
    "fig, ax = plt.subplots()\n",
    "                \n",
    "labels = ['Training data', 'Test data']                \n",
    "\n",
    "ax.hist(rougher_data, bins=50, density=True, histtype='bar', stacked=True, label=labels)\n",
    "ax.legend()\n",
    "ax.set_title('Feed size (Flotation)')\n",
    "ax.set_xlabel('Particle size')\n",
    "ax.set_ylabel('Count (normalized)')"
   ]
  },
  {
   "cell_type": "code",
   "execution_count": 31,
   "metadata": {},
   "outputs": [
    {
     "name": "stdout",
     "output_type": "stream",
     "text": [
      "count    16860.000000\n",
      "mean         7.297285\n",
      "std          0.619166\n",
      "min          1.080000\n",
      "25%          6.940000\n",
      "50%          7.285000\n",
      "75%          7.700000\n",
      "max         10.470000\n",
      "Name: primary_cleaner.input.feed_size, dtype: float64\n",
      "count    5856.000000\n",
      "mean        7.264651\n",
      "std         0.611526\n",
      "min         5.650000\n",
      "25%         6.885625\n",
      "50%         7.259333\n",
      "75%         7.650000\n",
      "max        15.500000\n",
      "Name: primary_cleaner.input.feed_size, dtype: float64\n"
     ]
    }
   ],
   "source": [
    "print(train_df['primary_cleaner.input.feed_size'].describe())\n",
    "print(test_df['primary_cleaner.input.feed_size'].describe())"
   ]
  },
  {
   "cell_type": "code",
   "execution_count": 32,
   "metadata": {},
   "outputs": [
    {
     "data": {
      "text/plain": [
       "Text(0, 0.5, 'Count (normalized)')"
      ]
     },
     "execution_count": 32,
     "metadata": {},
     "output_type": "execute_result"
    },
    {
     "data": {
      "image/png": "[encoded data removed]",
      "text/plain": [
       "<Figure size 432x288 with 1 Axes>"
      ]
     },
     "metadata": {
      "needs_background": "light"
     },
     "output_type": "display_data"
    }
   ],
   "source": [
    "prim_data = [train_df['primary_cleaner.input.feed_size'], \n",
    "             test_df['primary_cleaner.input.feed_size']]\n",
    "\n",
    "fig, ax = plt.subplots()\n",
    "                \n",
    "labels = ['Training data', 'Test data']                \n",
    "\n",
    "ax.hist(prim_data, bins=50, density=True, histtype='bar', stacked=True, label=labels)\n",
    "ax.legend()\n",
    "ax.set_title('Feed size (Primary Purification)')\n",
    "ax.set_xlabel('Particle size')\n",
    "ax.set_ylabel('Count (normalized)')"
   ]
  },
  {
   "cell_type": "markdown",
   "metadata": {},
   "source": [
    "I used `describe()` to compare the distributions of feed particle size of both the training and test datasets at the rougher and primary purification stages. While there was a small discrepancy in rougher feed size between the training and test data, it does not seem significant enough to address. The purification feed sizes were even closer."
   ]
  },
  {
   "cell_type": "markdown",
   "metadata": {},
   "source": [
    "**Look at total concentration of all substances at different stages**"
   ]
  },
  {
   "cell_type": "code",
   "execution_count": 33,
   "metadata": {},
   "outputs": [
    {
     "data": {
      "image/png": "[encoded data removed]",
      "text/plain": [
       "<Figure size 576x1080 with 1 Axes>"
      ]
     },
     "metadata": {
      "needs_background": "light"
     },
     "output_type": "display_data"
    }
   ],
   "source": [
    "# Au\n",
    "\n",
    "au_raw = train_df['rougher.input.feed_au'].values\n",
    "au_rough = train_df['rougher.output.concentrate_au'].values\n",
    "\n",
    "au_data = [au_raw, au_rough, au_final_out]\n",
    "\n",
    "labels = ['Raw feed concentrate', 'Rougher concentrate', 'Final concentrate']\n",
    "\n",
    "fig, ax = plt.subplots(figsize=(8,15))\n",
    "\n",
    "\n",
    "bplot = ax.boxplot(au_data, vert=True, patch_artist=True, labels=labels)  \n",
    "ax.set_title('Concentrations of Au at all stages')\n",
    "\n",
    "colors = ['bisque', 'lightsteelblue', 'mistyrose']\n",
    "for patch, color in zip(bplot['boxes'], colors):\n",
    "        patch.set_facecolor(color)\n",
    "ax.yaxis.grid(True)\n",
    "plt.show()"
   ]
  },
  {
   "cell_type": "code",
   "execution_count": 34,
   "metadata": {},
   "outputs": [
    {
     "data": {
      "image/png": "[encoded data removed]",
      "text/plain": [
       "<Figure size 576x1080 with 1 Axes>"
      ]
     },
     "metadata": {
      "needs_background": "light"
     },
     "output_type": "display_data"
    }
   ],
   "source": [
    "# Ag\n",
    "\n",
    "ag_raw = train_df['rougher.input.feed_ag'].values\n",
    "ag_rough = train_df['rougher.output.concentrate_ag'].values\n",
    "\n",
    "ag_data = [ag_raw, ag_rough, ag_final_out]\n",
    "\n",
    "labels = ['Raw feed concentrate', 'Rougher concentrate', 'Final concentrate']\n",
    "\n",
    "fig, ax = plt.subplots(figsize=(8,15))\n",
    "\n",
    "\n",
    "bplot = ax.boxplot(ag_data, vert=True, patch_artist=True, labels=labels)  \n",
    "ax.set_title('Concentrations of Ag at all stages')\n",
    "\n",
    "colors = ['bisque', 'lightsteelblue', 'mistyrose']\n",
    "for patch, color in zip(bplot['boxes'], colors):\n",
    "        patch.set_facecolor(color)\n",
    "ax.yaxis.grid(True)\n",
    "plt.show()"
   ]
  },
  {
   "cell_type": "code",
   "execution_count": 35,
   "metadata": {},
   "outputs": [
    {
     "data": {
      "image/png": "[encoded data removed]",
      "text/plain": [
       "<Figure size 576x1080 with 1 Axes>"
      ]
     },
     "metadata": {
      "needs_background": "light"
     },
     "output_type": "display_data"
    }
   ],
   "source": [
    "# Pb\n",
    "\n",
    "pb_raw = train_df['rougher.input.feed_pb'].values\n",
    "pb_rough = train_df['rougher.output.concentrate_pb'].values\n",
    "\n",
    "pb_data = [pb_raw, pb_rough, pb_final_out]\n",
    "\n",
    "labels = ['Raw feed concentrate', 'Rougher concentrate', 'Final concentrate']\n",
    "\n",
    "fig, ax = plt.subplots(figsize=(8,15))\n",
    "\n",
    "\n",
    "bplot = ax.boxplot(pb_data, vert=True, patch_artist=True, labels=labels)  \n",
    "ax.set_title('Concentrations of Pb at all stages')\n",
    "\n",
    "colors = ['bisque', 'lightsteelblue', 'mistyrose']\n",
    "for patch, color in zip(bplot['boxes'], colors):\n",
    "        patch.set_facecolor(color)\n",
    "ax.yaxis.grid(True)\n",
    "plt.show()"
   ]
  },
  {
   "cell_type": "code",
   "execution_count": 36,
   "metadata": {},
   "outputs": [
    {
     "data": {
      "image/png": "[encoded data removed]",
      "text/plain": [
       "<Figure size 576x1080 with 1 Axes>"
      ]
     },
     "metadata": {
      "needs_background": "light"
     },
     "output_type": "display_data"
    }
   ],
   "source": [
    "# Sol\n",
    "\n",
    "sol_raw = train_df['rougher.input.feed_sol'].values\n",
    "sol_rough = train_df['rougher.output.concentrate_sol'].values\n",
    "sol_final_out = train_df['final.output.concentrate_sol'].values\n",
    "\n",
    "sol_data = [sol_raw, sol_rough, sol_final_out]\n",
    "\n",
    "labels = ['Raw feed concentrate', 'Rougher concentrate', 'Final concentrate']\n",
    "\n",
    "fig, ax = plt.subplots(figsize=(8,15))\n",
    "\n",
    "\n",
    "bplot = ax.boxplot(sol_data, vert=True, patch_artist=True, labels=labels)  \n",
    "ax.set_title('Concentrations of Sol at all stages')\n",
    "\n",
    "colors = ['bisque', 'lightsteelblue', 'mistyrose']\n",
    "for patch, color in zip(bplot['boxes'], colors):\n",
    "        patch.set_facecolor(color)\n",
    "ax.yaxis.grid(True)\n",
    "plt.show()"
   ]
  },
  {
   "cell_type": "markdown",
   "metadata": {},
   "source": [
    "I used box plots to examine the concentrations of all the substances (Au, Ag, Pb, Sol) at each stage, so I could see outlying values as well as IQRs and medians. All four substances show a huge number of outlying values near zero."
   ]
  },
  {
   "cell_type": "code",
   "execution_count": 37,
   "metadata": {},
   "outputs": [
    {
     "data": {
      "text/html": [
       "<div>\n",
       "<style scoped>\n",
       "    .dataframe tbody tr th:only-of-type {\n",
       "        vertical-align: middle;\n",
       "    }\n",
       "\n",
       "    .dataframe tbody tr th {\n",
       "        vertical-align: top;\n",
       "    }\n",
       "\n",
       "    .dataframe thead th {\n",
       "        text-align: right;\n",
       "    }\n",
       "</style>\n",
       "<table border=\"1\" class=\"dataframe\">\n",
       "  <thead>\n",
       "    <tr style=\"text-align: right;\">\n",
       "      <th></th>\n",
       "      <th>date</th>\n",
       "      <th>final.output.concentrate_ag</th>\n",
       "      <th>final.output.concentrate_pb</th>\n",
       "      <th>final.output.concentrate_sol</th>\n",
       "      <th>final.output.concentrate_au</th>\n",
       "      <th>final.output.recovery</th>\n",
       "      <th>final.output.tail_ag</th>\n",
       "      <th>final.output.tail_pb</th>\n",
       "      <th>final.output.tail_sol</th>\n",
       "      <th>final.output.tail_au</th>\n",
       "      <th>...</th>\n",
       "      <th>secondary_cleaner.state.floatbank4_a_air</th>\n",
       "      <th>secondary_cleaner.state.floatbank4_a_level</th>\n",
       "      <th>secondary_cleaner.state.floatbank4_b_air</th>\n",
       "      <th>secondary_cleaner.state.floatbank4_b_level</th>\n",
       "      <th>secondary_cleaner.state.floatbank5_a_air</th>\n",
       "      <th>secondary_cleaner.state.floatbank5_a_level</th>\n",
       "      <th>secondary_cleaner.state.floatbank5_b_air</th>\n",
       "      <th>secondary_cleaner.state.floatbank5_b_level</th>\n",
       "      <th>secondary_cleaner.state.floatbank6_a_air</th>\n",
       "      <th>secondary_cleaner.state.floatbank6_a_level</th>\n",
       "    </tr>\n",
       "  </thead>\n",
       "  <tbody>\n",
       "    <tr>\n",
       "      <td>99</td>\n",
       "      <td>2016-01-19 03:00:00</td>\n",
       "      <td>0.0</td>\n",
       "      <td>0.0</td>\n",
       "      <td>0.0</td>\n",
       "      <td>0.0</td>\n",
       "      <td>67.213166</td>\n",
       "      <td>0.0</td>\n",
       "      <td>0.0</td>\n",
       "      <td>0.0</td>\n",
       "      <td>0.0</td>\n",
       "      <td>...</td>\n",
       "      <td>13.985160</td>\n",
       "      <td>-799.601232</td>\n",
       "      <td>12.036072</td>\n",
       "      <td>-603.234250</td>\n",
       "      <td>9.974968</td>\n",
       "      <td>-497.092974</td>\n",
       "      <td>7.953962</td>\n",
       "      <td>-499.698442</td>\n",
       "      <td>11.941642</td>\n",
       "      <td>-598.541756</td>\n",
       "    </tr>\n",
       "    <tr>\n",
       "      <td>100</td>\n",
       "      <td>2016-01-19 04:00:00</td>\n",
       "      <td>0.0</td>\n",
       "      <td>0.0</td>\n",
       "      <td>0.0</td>\n",
       "      <td>0.0</td>\n",
       "      <td>67.213166</td>\n",
       "      <td>0.0</td>\n",
       "      <td>0.0</td>\n",
       "      <td>0.0</td>\n",
       "      <td>0.0</td>\n",
       "      <td>...</td>\n",
       "      <td>14.034374</td>\n",
       "      <td>-799.600946</td>\n",
       "      <td>12.040491</td>\n",
       "      <td>-623.446329</td>\n",
       "      <td>9.898782</td>\n",
       "      <td>-499.623262</td>\n",
       "      <td>7.979302</td>\n",
       "      <td>-500.283366</td>\n",
       "      <td>11.959950</td>\n",
       "      <td>-600.998301</td>\n",
       "    </tr>\n",
       "    <tr>\n",
       "      <td>101</td>\n",
       "      <td>2016-01-19 05:00:00</td>\n",
       "      <td>0.0</td>\n",
       "      <td>0.0</td>\n",
       "      <td>0.0</td>\n",
       "      <td>0.0</td>\n",
       "      <td>67.213166</td>\n",
       "      <td>0.0</td>\n",
       "      <td>0.0</td>\n",
       "      <td>0.0</td>\n",
       "      <td>0.0</td>\n",
       "      <td>...</td>\n",
       "      <td>13.943929</td>\n",
       "      <td>-799.600659</td>\n",
       "      <td>12.040238</td>\n",
       "      <td>-638.103348</td>\n",
       "      <td>9.956309</td>\n",
       "      <td>-499.791870</td>\n",
       "      <td>7.978806</td>\n",
       "      <td>-500.202026</td>\n",
       "      <td>11.987839</td>\n",
       "      <td>-600.302819</td>\n",
       "    </tr>\n",
       "    <tr>\n",
       "      <td>102</td>\n",
       "      <td>2016-01-19 06:00:00</td>\n",
       "      <td>0.0</td>\n",
       "      <td>0.0</td>\n",
       "      <td>0.0</td>\n",
       "      <td>0.0</td>\n",
       "      <td>67.213166</td>\n",
       "      <td>0.0</td>\n",
       "      <td>0.0</td>\n",
       "      <td>0.0</td>\n",
       "      <td>0.0</td>\n",
       "      <td>...</td>\n",
       "      <td>14.040873</td>\n",
       "      <td>-799.600372</td>\n",
       "      <td>12.030771</td>\n",
       "      <td>-641.310327</td>\n",
       "      <td>9.966952</td>\n",
       "      <td>-499.842458</td>\n",
       "      <td>8.053455</td>\n",
       "      <td>-499.588522</td>\n",
       "      <td>11.987935</td>\n",
       "      <td>-600.523057</td>\n",
       "    </tr>\n",
       "    <tr>\n",
       "      <td>103</td>\n",
       "      <td>2016-01-19 07:00:00</td>\n",
       "      <td>0.0</td>\n",
       "      <td>0.0</td>\n",
       "      <td>0.0</td>\n",
       "      <td>0.0</td>\n",
       "      <td>67.213166</td>\n",
       "      <td>0.0</td>\n",
       "      <td>0.0</td>\n",
       "      <td>0.0</td>\n",
       "      <td>0.0</td>\n",
       "      <td>...</td>\n",
       "      <td>13.972371</td>\n",
       "      <td>-799.600085</td>\n",
       "      <td>12.021058</td>\n",
       "      <td>-641.457227</td>\n",
       "      <td>10.033820</td>\n",
       "      <td>-501.291438</td>\n",
       "      <td>7.985956</td>\n",
       "      <td>-499.934267</td>\n",
       "      <td>12.027556</td>\n",
       "      <td>-600.108918</td>\n",
       "    </tr>\n",
       "    <tr>\n",
       "      <td>104</td>\n",
       "      <td>2016-01-19 08:00:00</td>\n",
       "      <td>0.0</td>\n",
       "      <td>0.0</td>\n",
       "      <td>0.0</td>\n",
       "      <td>0.0</td>\n",
       "      <td>67.213166</td>\n",
       "      <td>0.0</td>\n",
       "      <td>0.0</td>\n",
       "      <td>0.0</td>\n",
       "      <td>0.0</td>\n",
       "      <td>...</td>\n",
       "      <td>13.932580</td>\n",
       "      <td>-799.599799</td>\n",
       "      <td>12.011345</td>\n",
       "      <td>-640.936879</td>\n",
       "      <td>10.004522</td>\n",
       "      <td>-500.021534</td>\n",
       "      <td>7.931758</td>\n",
       "      <td>-500.294773</td>\n",
       "      <td>12.026439</td>\n",
       "      <td>-600.301833</td>\n",
       "    </tr>\n",
       "    <tr>\n",
       "      <td>105</td>\n",
       "      <td>2016-01-19 09:00:00</td>\n",
       "      <td>0.0</td>\n",
       "      <td>0.0</td>\n",
       "      <td>0.0</td>\n",
       "      <td>0.0</td>\n",
       "      <td>67.213166</td>\n",
       "      <td>0.0</td>\n",
       "      <td>0.0</td>\n",
       "      <td>0.0</td>\n",
       "      <td>0.0</td>\n",
       "      <td>...</td>\n",
       "      <td>13.989449</td>\n",
       "      <td>-799.599512</td>\n",
       "      <td>12.001631</td>\n",
       "      <td>-640.633205</td>\n",
       "      <td>9.932505</td>\n",
       "      <td>-499.399448</td>\n",
       "      <td>7.920371</td>\n",
       "      <td>-499.619457</td>\n",
       "      <td>11.997944</td>\n",
       "      <td>-600.538013</td>\n",
       "    </tr>\n",
       "    <tr>\n",
       "      <td>106</td>\n",
       "      <td>2016-01-19 10:00:00</td>\n",
       "      <td>0.0</td>\n",
       "      <td>0.0</td>\n",
       "      <td>0.0</td>\n",
       "      <td>0.0</td>\n",
       "      <td>67.213166</td>\n",
       "      <td>0.0</td>\n",
       "      <td>0.0</td>\n",
       "      <td>0.0</td>\n",
       "      <td>0.0</td>\n",
       "      <td>...</td>\n",
       "      <td>13.990517</td>\n",
       "      <td>-799.598096</td>\n",
       "      <td>11.991918</td>\n",
       "      <td>-643.907378</td>\n",
       "      <td>9.956062</td>\n",
       "      <td>-499.882675</td>\n",
       "      <td>8.014221</td>\n",
       "      <td>-499.688721</td>\n",
       "      <td>11.998413</td>\n",
       "      <td>-600.345361</td>\n",
       "    </tr>\n",
       "    <tr>\n",
       "      <td>107</td>\n",
       "      <td>2016-01-19 11:00:00</td>\n",
       "      <td>0.0</td>\n",
       "      <td>0.0</td>\n",
       "      <td>0.0</td>\n",
       "      <td>0.0</td>\n",
       "      <td>67.213166</td>\n",
       "      <td>0.0</td>\n",
       "      <td>0.0</td>\n",
       "      <td>0.0</td>\n",
       "      <td>0.0</td>\n",
       "      <td>...</td>\n",
       "      <td>13.904059</td>\n",
       "      <td>-799.591368</td>\n",
       "      <td>11.982703</td>\n",
       "      <td>-641.874749</td>\n",
       "      <td>10.016539</td>\n",
       "      <td>-498.372830</td>\n",
       "      <td>8.073042</td>\n",
       "      <td>-500.407344</td>\n",
       "      <td>11.981264</td>\n",
       "      <td>-599.271485</td>\n",
       "    </tr>\n",
       "    <tr>\n",
       "      <td>108</td>\n",
       "      <td>2016-01-19 12:00:00</td>\n",
       "      <td>0.0</td>\n",
       "      <td>0.0</td>\n",
       "      <td>0.0</td>\n",
       "      <td>0.0</td>\n",
       "      <td>67.213166</td>\n",
       "      <td>0.0</td>\n",
       "      <td>0.0</td>\n",
       "      <td>0.0</td>\n",
       "      <td>0.0</td>\n",
       "      <td>...</td>\n",
       "      <td>13.944915</td>\n",
       "      <td>-799.583961</td>\n",
       "      <td>11.981382</td>\n",
       "      <td>-640.686792</td>\n",
       "      <td>9.943380</td>\n",
       "      <td>-500.557792</td>\n",
       "      <td>8.037255</td>\n",
       "      <td>-500.747732</td>\n",
       "      <td>12.008122</td>\n",
       "      <td>-600.379091</td>\n",
       "    </tr>\n",
       "    <tr>\n",
       "      <td>109</td>\n",
       "      <td>2016-01-19 13:00:00</td>\n",
       "      <td>0.0</td>\n",
       "      <td>0.0</td>\n",
       "      <td>0.0</td>\n",
       "      <td>0.0</td>\n",
       "      <td>67.213166</td>\n",
       "      <td>0.0</td>\n",
       "      <td>0.0</td>\n",
       "      <td>0.0</td>\n",
       "      <td>0.0</td>\n",
       "      <td>...</td>\n",
       "      <td>13.980098</td>\n",
       "      <td>-799.576554</td>\n",
       "      <td>11.982791</td>\n",
       "      <td>-641.814509</td>\n",
       "      <td>9.974010</td>\n",
       "      <td>-500.252149</td>\n",
       "      <td>8.093746</td>\n",
       "      <td>-499.255138</td>\n",
       "      <td>12.030920</td>\n",
       "      <td>-600.341767</td>\n",
       "    </tr>\n",
       "    <tr>\n",
       "      <td>110</td>\n",
       "      <td>2016-01-19 14:00:00</td>\n",
       "      <td>0.0</td>\n",
       "      <td>0.0</td>\n",
       "      <td>0.0</td>\n",
       "      <td>0.0</td>\n",
       "      <td>67.213166</td>\n",
       "      <td>0.0</td>\n",
       "      <td>0.0</td>\n",
       "      <td>0.0</td>\n",
       "      <td>0.0</td>\n",
       "      <td>...</td>\n",
       "      <td>14.008858</td>\n",
       "      <td>-799.569147</td>\n",
       "      <td>11.984200</td>\n",
       "      <td>-642.065606</td>\n",
       "      <td>9.958506</td>\n",
       "      <td>-499.421952</td>\n",
       "      <td>7.924256</td>\n",
       "      <td>-499.916608</td>\n",
       "      <td>12.025867</td>\n",
       "      <td>-600.388806</td>\n",
       "    </tr>\n",
       "    <tr>\n",
       "      <td>111</td>\n",
       "      <td>2016-01-19 15:00:00</td>\n",
       "      <td>0.0</td>\n",
       "      <td>0.0</td>\n",
       "      <td>0.0</td>\n",
       "      <td>0.0</td>\n",
       "      <td>67.213166</td>\n",
       "      <td>0.0</td>\n",
       "      <td>0.0</td>\n",
       "      <td>0.0</td>\n",
       "      <td>0.0</td>\n",
       "      <td>...</td>\n",
       "      <td>14.015427</td>\n",
       "      <td>-799.561740</td>\n",
       "      <td>11.985609</td>\n",
       "      <td>-642.166978</td>\n",
       "      <td>10.070057</td>\n",
       "      <td>-500.552562</td>\n",
       "      <td>7.932313</td>\n",
       "      <td>-500.421331</td>\n",
       "      <td>11.994482</td>\n",
       "      <td>-600.693678</td>\n",
       "    </tr>\n",
       "    <tr>\n",
       "      <td>112</td>\n",
       "      <td>2016-01-19 16:00:00</td>\n",
       "      <td>0.0</td>\n",
       "      <td>0.0</td>\n",
       "      <td>0.0</td>\n",
       "      <td>0.0</td>\n",
       "      <td>67.213166</td>\n",
       "      <td>0.0</td>\n",
       "      <td>0.0</td>\n",
       "      <td>0.0</td>\n",
       "      <td>0.0</td>\n",
       "      <td>...</td>\n",
       "      <td>14.007384</td>\n",
       "      <td>-799.554333</td>\n",
       "      <td>11.987019</td>\n",
       "      <td>-642.264342</td>\n",
       "      <td>10.028140</td>\n",
       "      <td>-499.618528</td>\n",
       "      <td>7.994857</td>\n",
       "      <td>-500.566332</td>\n",
       "      <td>12.021908</td>\n",
       "      <td>-600.388449</td>\n",
       "    </tr>\n",
       "    <tr>\n",
       "      <td>113</td>\n",
       "      <td>2016-01-19 17:00:00</td>\n",
       "      <td>0.0</td>\n",
       "      <td>0.0</td>\n",
       "      <td>0.0</td>\n",
       "      <td>0.0</td>\n",
       "      <td>67.213166</td>\n",
       "      <td>0.0</td>\n",
       "      <td>0.0</td>\n",
       "      <td>0.0</td>\n",
       "      <td>0.0</td>\n",
       "      <td>...</td>\n",
       "      <td>13.905965</td>\n",
       "      <td>-799.546926</td>\n",
       "      <td>11.988428</td>\n",
       "      <td>-642.357347</td>\n",
       "      <td>10.044748</td>\n",
       "      <td>-499.991021</td>\n",
       "      <td>8.056943</td>\n",
       "      <td>-499.860671</td>\n",
       "      <td>11.946428</td>\n",
       "      <td>-600.661737</td>\n",
       "    </tr>\n",
       "    <tr>\n",
       "      <td>114</td>\n",
       "      <td>2016-01-19 18:00:00</td>\n",
       "      <td>0.0</td>\n",
       "      <td>0.0</td>\n",
       "      <td>0.0</td>\n",
       "      <td>0.0</td>\n",
       "      <td>67.213166</td>\n",
       "      <td>0.0</td>\n",
       "      <td>0.0</td>\n",
       "      <td>0.0</td>\n",
       "      <td>0.0</td>\n",
       "      <td>...</td>\n",
       "      <td>14.058701</td>\n",
       "      <td>-799.541032</td>\n",
       "      <td>11.989837</td>\n",
       "      <td>-642.349922</td>\n",
       "      <td>10.021100</td>\n",
       "      <td>-499.748762</td>\n",
       "      <td>8.006305</td>\n",
       "      <td>-499.589568</td>\n",
       "      <td>11.964440</td>\n",
       "      <td>-600.335918</td>\n",
       "    </tr>\n",
       "    <tr>\n",
       "      <td>115</td>\n",
       "      <td>2016-01-19 19:00:00</td>\n",
       "      <td>0.0</td>\n",
       "      <td>0.0</td>\n",
       "      <td>0.0</td>\n",
       "      <td>0.0</td>\n",
       "      <td>67.213166</td>\n",
       "      <td>0.0</td>\n",
       "      <td>0.0</td>\n",
       "      <td>0.0</td>\n",
       "      <td>0.0</td>\n",
       "      <td>...</td>\n",
       "      <td>13.997086</td>\n",
       "      <td>-799.539490</td>\n",
       "      <td>11.988335</td>\n",
       "      <td>-642.300527</td>\n",
       "      <td>10.009645</td>\n",
       "      <td>-499.463509</td>\n",
       "      <td>8.050774</td>\n",
       "      <td>-500.646675</td>\n",
       "      <td>12.007749</td>\n",
       "      <td>-600.104121</td>\n",
       "    </tr>\n",
       "    <tr>\n",
       "      <td>116</td>\n",
       "      <td>2016-01-19 20:00:00</td>\n",
       "      <td>0.0</td>\n",
       "      <td>0.0</td>\n",
       "      <td>0.0</td>\n",
       "      <td>0.0</td>\n",
       "      <td>67.213166</td>\n",
       "      <td>0.0</td>\n",
       "      <td>0.0</td>\n",
       "      <td>0.0</td>\n",
       "      <td>0.0</td>\n",
       "      <td>...</td>\n",
       "      <td>13.987319</td>\n",
       "      <td>-799.538222</td>\n",
       "      <td>11.961377</td>\n",
       "      <td>-642.251133</td>\n",
       "      <td>9.969640</td>\n",
       "      <td>-500.155953</td>\n",
       "      <td>8.065858</td>\n",
       "      <td>-500.499826</td>\n",
       "      <td>11.985633</td>\n",
       "      <td>-599.829116</td>\n",
       "    </tr>\n",
       "    <tr>\n",
       "      <td>117</td>\n",
       "      <td>2016-01-19 21:00:00</td>\n",
       "      <td>0.0</td>\n",
       "      <td>0.0</td>\n",
       "      <td>0.0</td>\n",
       "      <td>0.0</td>\n",
       "      <td>67.213166</td>\n",
       "      <td>0.0</td>\n",
       "      <td>0.0</td>\n",
       "      <td>0.0</td>\n",
       "      <td>0.0</td>\n",
       "      <td>...</td>\n",
       "      <td>14.030291</td>\n",
       "      <td>-799.536953</td>\n",
       "      <td>11.939495</td>\n",
       "      <td>-642.201738</td>\n",
       "      <td>9.956859</td>\n",
       "      <td>-499.421851</td>\n",
       "      <td>7.954371</td>\n",
       "      <td>-499.291409</td>\n",
       "      <td>11.994935</td>\n",
       "      <td>-600.185905</td>\n",
       "    </tr>\n",
       "    <tr>\n",
       "      <td>118</td>\n",
       "      <td>2016-01-19 22:00:00</td>\n",
       "      <td>0.0</td>\n",
       "      <td>0.0</td>\n",
       "      <td>0.0</td>\n",
       "      <td>0.0</td>\n",
       "      <td>67.213166</td>\n",
       "      <td>0.0</td>\n",
       "      <td>0.0</td>\n",
       "      <td>0.0</td>\n",
       "      <td>0.0</td>\n",
       "      <td>...</td>\n",
       "      <td>14.038947</td>\n",
       "      <td>-799.535684</td>\n",
       "      <td>11.940394</td>\n",
       "      <td>-642.150306</td>\n",
       "      <td>10.050426</td>\n",
       "      <td>-499.513047</td>\n",
       "      <td>7.971748</td>\n",
       "      <td>-500.019623</td>\n",
       "      <td>12.053271</td>\n",
       "      <td>-600.081804</td>\n",
       "    </tr>\n",
       "    <tr>\n",
       "      <td>119</td>\n",
       "      <td>2016-01-19 23:00:00</td>\n",
       "      <td>0.0</td>\n",
       "      <td>0.0</td>\n",
       "      <td>0.0</td>\n",
       "      <td>0.0</td>\n",
       "      <td>67.213166</td>\n",
       "      <td>0.0</td>\n",
       "      <td>0.0</td>\n",
       "      <td>0.0</td>\n",
       "      <td>0.0</td>\n",
       "      <td>...</td>\n",
       "      <td>14.051893</td>\n",
       "      <td>-799.534415</td>\n",
       "      <td>11.963798</td>\n",
       "      <td>-641.564684</td>\n",
       "      <td>10.007466</td>\n",
       "      <td>-499.605472</td>\n",
       "      <td>7.984844</td>\n",
       "      <td>-500.095774</td>\n",
       "      <td>11.991984</td>\n",
       "      <td>-599.259246</td>\n",
       "    </tr>\n",
       "    <tr>\n",
       "      <td>120</td>\n",
       "      <td>2016-01-20 00:00:00</td>\n",
       "      <td>0.0</td>\n",
       "      <td>0.0</td>\n",
       "      <td>0.0</td>\n",
       "      <td>0.0</td>\n",
       "      <td>67.213166</td>\n",
       "      <td>0.0</td>\n",
       "      <td>0.0</td>\n",
       "      <td>0.0</td>\n",
       "      <td>0.0</td>\n",
       "      <td>...</td>\n",
       "      <td>14.117845</td>\n",
       "      <td>-799.533146</td>\n",
       "      <td>11.987201</td>\n",
       "      <td>-643.101049</td>\n",
       "      <td>9.974653</td>\n",
       "      <td>-500.933764</td>\n",
       "      <td>7.985085</td>\n",
       "      <td>-499.813460</td>\n",
       "      <td>12.042875</td>\n",
       "      <td>-600.391304</td>\n",
       "    </tr>\n",
       "    <tr>\n",
       "      <td>121</td>\n",
       "      <td>2016-01-20 01:00:00</td>\n",
       "      <td>0.0</td>\n",
       "      <td>0.0</td>\n",
       "      <td>0.0</td>\n",
       "      <td>0.0</td>\n",
       "      <td>67.213166</td>\n",
       "      <td>0.0</td>\n",
       "      <td>0.0</td>\n",
       "      <td>0.0</td>\n",
       "      <td>0.0</td>\n",
       "      <td>...</td>\n",
       "      <td>14.078874</td>\n",
       "      <td>-799.531877</td>\n",
       "      <td>12.010605</td>\n",
       "      <td>-645.832816</td>\n",
       "      <td>10.036847</td>\n",
       "      <td>-500.281955</td>\n",
       "      <td>7.984818</td>\n",
       "      <td>-499.680964</td>\n",
       "      <td>11.995484</td>\n",
       "      <td>-599.994252</td>\n",
       "    </tr>\n",
       "    <tr>\n",
       "      <td>122</td>\n",
       "      <td>2016-01-20 02:00:00</td>\n",
       "      <td>0.0</td>\n",
       "      <td>0.0</td>\n",
       "      <td>0.0</td>\n",
       "      <td>0.0</td>\n",
       "      <td>67.213166</td>\n",
       "      <td>0.0</td>\n",
       "      <td>0.0</td>\n",
       "      <td>0.0</td>\n",
       "      <td>0.0</td>\n",
       "      <td>...</td>\n",
       "      <td>14.052224</td>\n",
       "      <td>-799.397568</td>\n",
       "      <td>12.034008</td>\n",
       "      <td>-654.906952</td>\n",
       "      <td>10.053951</td>\n",
       "      <td>-500.421964</td>\n",
       "      <td>7.946670</td>\n",
       "      <td>-500.206490</td>\n",
       "      <td>12.011665</td>\n",
       "      <td>-598.407725</td>\n",
       "    </tr>\n",
       "  </tbody>\n",
       "</table>\n",
       "<p>24 rows × 83 columns</p>\n",
       "</div>"
      ],
      "text/plain": [
       "                   date  final.output.concentrate_ag  \\\n",
       "99  2016-01-19 03:00:00                          0.0   \n",
       "100 2016-01-19 04:00:00                          0.0   \n",
       "101 2016-01-19 05:00:00                          0.0   \n",
       "102 2016-01-19 06:00:00                          0.0   \n",
       "103 2016-01-19 07:00:00                          0.0   \n",
       "104 2016-01-19 08:00:00                          0.0   \n",
       "105 2016-01-19 09:00:00                          0.0   \n",
       "106 2016-01-19 10:00:00                          0.0   \n",
       "107 2016-01-19 11:00:00                          0.0   \n",
       "108 2016-01-19 12:00:00                          0.0   \n",
       "109 2016-01-19 13:00:00                          0.0   \n",
       "110 2016-01-19 14:00:00                          0.0   \n",
       "111 2016-01-19 15:00:00                          0.0   \n",
       "112 2016-01-19 16:00:00                          0.0   \n",
       "113 2016-01-19 17:00:00                          0.0   \n",
       "114 2016-01-19 18:00:00                          0.0   \n",
       "115 2016-01-19 19:00:00                          0.0   \n",
       "116 2016-01-19 20:00:00                          0.0   \n",
       "117 2016-01-19 21:00:00                          0.0   \n",
       "118 2016-01-19 22:00:00                          0.0   \n",
       "119 2016-01-19 23:00:00                          0.0   \n",
       "120 2016-01-20 00:00:00                          0.0   \n",
       "121 2016-01-20 01:00:00                          0.0   \n",
       "122 2016-01-20 02:00:00                          0.0   \n",
       "\n",
       "     final.output.concentrate_pb  final.output.concentrate_sol  \\\n",
       "99                           0.0                           0.0   \n",
       "100                          0.0                           0.0   \n",
       "101                          0.0                           0.0   \n",
       "102                          0.0                           0.0   \n",
       "103                          0.0                           0.0   \n",
       "104                          0.0                           0.0   \n",
       "105                          0.0                           0.0   \n",
       "106                          0.0                           0.0   \n",
       "107                          0.0                           0.0   \n",
       "108                          0.0                           0.0   \n",
       "109                          0.0                           0.0   \n",
       "110                          0.0                           0.0   \n",
       "111                          0.0                           0.0   \n",
       "112                          0.0                           0.0   \n",
       "113                          0.0                           0.0   \n",
       "114                          0.0                           0.0   \n",
       "115                          0.0                           0.0   \n",
       "116                          0.0                           0.0   \n",
       "117                          0.0                           0.0   \n",
       "118                          0.0                           0.0   \n",
       "119                          0.0                           0.0   \n",
       "120                          0.0                           0.0   \n",
       "121                          0.0                           0.0   \n",
       "122                          0.0                           0.0   \n",
       "\n",
       "     final.output.concentrate_au  final.output.recovery  final.output.tail_ag  \\\n",
       "99                           0.0              67.213166                   0.0   \n",
       "100                          0.0              67.213166                   0.0   \n",
       "101                          0.0              67.213166                   0.0   \n",
       "102                          0.0              67.213166                   0.0   \n",
       "103                          0.0              67.213166                   0.0   \n",
       "104                          0.0              67.213166                   0.0   \n",
       "105                          0.0              67.213166                   0.0   \n",
       "106                          0.0              67.213166                   0.0   \n",
       "107                          0.0              67.213166                   0.0   \n",
       "108                          0.0              67.213166                   0.0   \n",
       "109                          0.0              67.213166                   0.0   \n",
       "110                          0.0              67.213166                   0.0   \n",
       "111                          0.0              67.213166                   0.0   \n",
       "112                          0.0              67.213166                   0.0   \n",
       "113                          0.0              67.213166                   0.0   \n",
       "114                          0.0              67.213166                   0.0   \n",
       "115                          0.0              67.213166                   0.0   \n",
       "116                          0.0              67.213166                   0.0   \n",
       "117                          0.0              67.213166                   0.0   \n",
       "118                          0.0              67.213166                   0.0   \n",
       "119                          0.0              67.213166                   0.0   \n",
       "120                          0.0              67.213166                   0.0   \n",
       "121                          0.0              67.213166                   0.0   \n",
       "122                          0.0              67.213166                   0.0   \n",
       "\n",
       "     final.output.tail_pb  final.output.tail_sol  final.output.tail_au  ...  \\\n",
       "99                    0.0                    0.0                   0.0  ...   \n",
       "100                   0.0                    0.0                   0.0  ...   \n",
       "101                   0.0                    0.0                   0.0  ...   \n",
       "102                   0.0                    0.0                   0.0  ...   \n",
       "103                   0.0                    0.0                   0.0  ...   \n",
       "104                   0.0                    0.0                   0.0  ...   \n",
       "105                   0.0                    0.0                   0.0  ...   \n",
       "106                   0.0                    0.0                   0.0  ...   \n",
       "107                   0.0                    0.0                   0.0  ...   \n",
       "108                   0.0                    0.0                   0.0  ...   \n",
       "109                   0.0                    0.0                   0.0  ...   \n",
       "110                   0.0                    0.0                   0.0  ...   \n",
       "111                   0.0                    0.0                   0.0  ...   \n",
       "112                   0.0                    0.0                   0.0  ...   \n",
       "113                   0.0                    0.0                   0.0  ...   \n",
       "114                   0.0                    0.0                   0.0  ...   \n",
       "115                   0.0                    0.0                   0.0  ...   \n",
       "116                   0.0                    0.0                   0.0  ...   \n",
       "117                   0.0                    0.0                   0.0  ...   \n",
       "118                   0.0                    0.0                   0.0  ...   \n",
       "119                   0.0                    0.0                   0.0  ...   \n",
       "120                   0.0                    0.0                   0.0  ...   \n",
       "121                   0.0                    0.0                   0.0  ...   \n",
       "122                   0.0                    0.0                   0.0  ...   \n",
       "\n",
       "     secondary_cleaner.state.floatbank4_a_air  \\\n",
       "99                                  13.985160   \n",
       "100                                 14.034374   \n",
       "101                                 13.943929   \n",
       "102                                 14.040873   \n",
       "103                                 13.972371   \n",
       "104                                 13.932580   \n",
       "105                                 13.989449   \n",
       "106                                 13.990517   \n",
       "107                                 13.904059   \n",
       "108                                 13.944915   \n",
       "109                                 13.980098   \n",
       "110                                 14.008858   \n",
       "111                                 14.015427   \n",
       "112                                 14.007384   \n",
       "113                                 13.905965   \n",
       "114                                 14.058701   \n",
       "115                                 13.997086   \n",
       "116                                 13.987319   \n",
       "117                                 14.030291   \n",
       "118                                 14.038947   \n",
       "119                                 14.051893   \n",
       "120                                 14.117845   \n",
       "121                                 14.078874   \n",
       "122                                 14.052224   \n",
       "\n",
       "     secondary_cleaner.state.floatbank4_a_level  \\\n",
       "99                                  -799.601232   \n",
       "100                                 -799.600946   \n",
       "101                                 -799.600659   \n",
       "102                                 -799.600372   \n",
       "103                                 -799.600085   \n",
       "104                                 -799.599799   \n",
       "105                                 -799.599512   \n",
       "106                                 -799.598096   \n",
       "107                                 -799.591368   \n",
       "108                                 -799.583961   \n",
       "109                                 -799.576554   \n",
       "110                                 -799.569147   \n",
       "111                                 -799.561740   \n",
       "112                                 -799.554333   \n",
       "113                                 -799.546926   \n",
       "114                                 -799.541032   \n",
       "115                                 -799.539490   \n",
       "116                                 -799.538222   \n",
       "117                                 -799.536953   \n",
       "118                                 -799.535684   \n",
       "119                                 -799.534415   \n",
       "120                                 -799.533146   \n",
       "121                                 -799.531877   \n",
       "122                                 -799.397568   \n",
       "\n",
       "     secondary_cleaner.state.floatbank4_b_air  \\\n",
       "99                                  12.036072   \n",
       "100                                 12.040491   \n",
       "101                                 12.040238   \n",
       "102                                 12.030771   \n",
       "103                                 12.021058   \n",
       "104                                 12.011345   \n",
       "105                                 12.001631   \n",
       "106                                 11.991918   \n",
       "107                                 11.982703   \n",
       "108                                 11.981382   \n",
       "109                                 11.982791   \n",
       "110                                 11.984200   \n",
       "111                                 11.985609   \n",
       "112                                 11.987019   \n",
       "113                                 11.988428   \n",
       "114                                 11.989837   \n",
       "115                                 11.988335   \n",
       "116                                 11.961377   \n",
       "117                                 11.939495   \n",
       "118                                 11.940394   \n",
       "119                                 11.963798   \n",
       "120                                 11.987201   \n",
       "121                                 12.010605   \n",
       "122                                 12.034008   \n",
       "\n",
       "     secondary_cleaner.state.floatbank4_b_level  \\\n",
       "99                                  -603.234250   \n",
       "100                                 -623.446329   \n",
       "101                                 -638.103348   \n",
       "102                                 -641.310327   \n",
       "103                                 -641.457227   \n",
       "104                                 -640.936879   \n",
       "105                                 -640.633205   \n",
       "106                                 -643.907378   \n",
       "107                                 -641.874749   \n",
       "108                                 -640.686792   \n",
       "109                                 -641.814509   \n",
       "110                                 -642.065606   \n",
       "111                                 -642.166978   \n",
       "112                                 -642.264342   \n",
       "113                                 -642.357347   \n",
       "114                                 -642.349922   \n",
       "115                                 -642.300527   \n",
       "116                                 -642.251133   \n",
       "117                                 -642.201738   \n",
       "118                                 -642.150306   \n",
       "119                                 -641.564684   \n",
       "120                                 -643.101049   \n",
       "121                                 -645.832816   \n",
       "122                                 -654.906952   \n",
       "\n",
       "     secondary_cleaner.state.floatbank5_a_air  \\\n",
       "99                                   9.974968   \n",
       "100                                  9.898782   \n",
       "101                                  9.956309   \n",
       "102                                  9.966952   \n",
       "103                                 10.033820   \n",
       "104                                 10.004522   \n",
       "105                                  9.932505   \n",
       "106                                  9.956062   \n",
       "107                                 10.016539   \n",
       "108                                  9.943380   \n",
       "109                                  9.974010   \n",
       "110                                  9.958506   \n",
       "111                                 10.070057   \n",
       "112                                 10.028140   \n",
       "113                                 10.044748   \n",
       "114                                 10.021100   \n",
       "115                                 10.009645   \n",
       "116                                  9.969640   \n",
       "117                                  9.956859   \n",
       "118                                 10.050426   \n",
       "119                                 10.007466   \n",
       "120                                  9.974653   \n",
       "121                                 10.036847   \n",
       "122                                 10.053951   \n",
       "\n",
       "     secondary_cleaner.state.floatbank5_a_level  \\\n",
       "99                                  -497.092974   \n",
       "100                                 -499.623262   \n",
       "101                                 -499.791870   \n",
       "102                                 -499.842458   \n",
       "103                                 -501.291438   \n",
       "104                                 -500.021534   \n",
       "105                                 -499.399448   \n",
       "106                                 -499.882675   \n",
       "107                                 -498.372830   \n",
       "108                                 -500.557792   \n",
       "109                                 -500.252149   \n",
       "110                                 -499.421952   \n",
       "111                                 -500.552562   \n",
       "112                                 -499.618528   \n",
       "113                                 -499.991021   \n",
       "114                                 -499.748762   \n",
       "115                                 -499.463509   \n",
       "116                                 -500.155953   \n",
       "117                                 -499.421851   \n",
       "118                                 -499.513047   \n",
       "119                                 -499.605472   \n",
       "120                                 -500.933764   \n",
       "121                                 -500.281955   \n",
       "122                                 -500.421964   \n",
       "\n",
       "     secondary_cleaner.state.floatbank5_b_air  \\\n",
       "99                                   7.953962   \n",
       "100                                  7.979302   \n",
       "101                                  7.978806   \n",
       "102                                  8.053455   \n",
       "103                                  7.985956   \n",
       "104                                  7.931758   \n",
       "105                                  7.920371   \n",
       "106                                  8.014221   \n",
       "107                                  8.073042   \n",
       "108                                  8.037255   \n",
       "109                                  8.093746   \n",
       "110                                  7.924256   \n",
       "111                                  7.932313   \n",
       "112                                  7.994857   \n",
       "113                                  8.056943   \n",
       "114                                  8.006305   \n",
       "115                                  8.050774   \n",
       "116                                  8.065858   \n",
       "117                                  7.954371   \n",
       "118                                  7.971748   \n",
       "119                                  7.984844   \n",
       "120                                  7.985085   \n",
       "121                                  7.984818   \n",
       "122                                  7.946670   \n",
       "\n",
       "     secondary_cleaner.state.floatbank5_b_level  \\\n",
       "99                                  -499.698442   \n",
       "100                                 -500.283366   \n",
       "101                                 -500.202026   \n",
       "102                                 -499.588522   \n",
       "103                                 -499.934267   \n",
       "104                                 -500.294773   \n",
       "105                                 -499.619457   \n",
       "106                                 -499.688721   \n",
       "107                                 -500.407344   \n",
       "108                                 -500.747732   \n",
       "109                                 -499.255138   \n",
       "110                                 -499.916608   \n",
       "111                                 -500.421331   \n",
       "112                                 -500.566332   \n",
       "113                                 -499.860671   \n",
       "114                                 -499.589568   \n",
       "115                                 -500.646675   \n",
       "116                                 -500.499826   \n",
       "117                                 -499.291409   \n",
       "118                                 -500.019623   \n",
       "119                                 -500.095774   \n",
       "120                                 -499.813460   \n",
       "121                                 -499.680964   \n",
       "122                                 -500.206490   \n",
       "\n",
       "     secondary_cleaner.state.floatbank6_a_air  \\\n",
       "99                                  11.941642   \n",
       "100                                 11.959950   \n",
       "101                                 11.987839   \n",
       "102                                 11.987935   \n",
       "103                                 12.027556   \n",
       "104                                 12.026439   \n",
       "105                                 11.997944   \n",
       "106                                 11.998413   \n",
       "107                                 11.981264   \n",
       "108                                 12.008122   \n",
       "109                                 12.030920   \n",
       "110                                 12.025867   \n",
       "111                                 11.994482   \n",
       "112                                 12.021908   \n",
       "113                                 11.946428   \n",
       "114                                 11.964440   \n",
       "115                                 12.007749   \n",
       "116                                 11.985633   \n",
       "117                                 11.994935   \n",
       "118                                 12.053271   \n",
       "119                                 11.991984   \n",
       "120                                 12.042875   \n",
       "121                                 11.995484   \n",
       "122                                 12.011665   \n",
       "\n",
       "     secondary_cleaner.state.floatbank6_a_level  \n",
       "99                                  -598.541756  \n",
       "100                                 -600.998301  \n",
       "101                                 -600.302819  \n",
       "102                                 -600.523057  \n",
       "103                                 -600.108918  \n",
       "104                                 -600.301833  \n",
       "105                                 -600.538013  \n",
       "106                                 -600.345361  \n",
       "107                                 -599.271485  \n",
       "108                                 -600.379091  \n",
       "109                                 -600.341767  \n",
       "110                                 -600.388806  \n",
       "111                                 -600.693678  \n",
       "112                                 -600.388449  \n",
       "113                                 -600.661737  \n",
       "114                                 -600.335918  \n",
       "115                                 -600.104121  \n",
       "116                                 -599.829116  \n",
       "117                                 -600.185905  \n",
       "118                                 -600.081804  \n",
       "119                                 -599.259246  \n",
       "120                                 -600.391304  \n",
       "121                                 -599.994252  \n",
       "122                                 -598.407725  \n",
       "\n",
       "[24 rows x 83 columns]"
      ]
     },
     "execution_count": 37,
     "metadata": {},
     "output_type": "execute_result"
    }
   ],
   "source": [
    "train_df[train_df['rougher.input.feed_au'] <= 0].head(24)"
   ]
  },
  {
   "cell_type": "markdown",
   "metadata": {},
   "source": [
    "A quick examination of rows in the training dataset with zero values show that they are recorded for *all* of the concentrations of the four substances at each stage. They also seem to be observations taken in succession - for example, every observation in at least one 24 hour period, as indicated above. Other features, like the final output and flotation unit parameters are recorded for these observations, but the `final.output.recovery` feature is the exact same for the entire 24 hour period shown, which is suspicious. It is possible that whatever reads and records the inputs and outputs of substances had some sort of failure, or that these were days that processing didn't happen at all (perhaps the final output values are simply the last one recorded). Regardless, they will affect the accuracy of a model, so I will remove these observations from the data."
   ]
  },
  {
   "cell_type": "code",
   "execution_count": 38,
   "metadata": {},
   "outputs": [],
   "source": [
    "train_cols = ['rougher.input.feed_au', 'rougher.output.concentrate_au', 'final.output.concentrate_au',\n",
    "          'rougher.input.feed_ag', 'rougher.output.concentrate_ag', 'final.output.concentrate_ag',\n",
    "          'rougher.input.feed_pb', 'rougher.output.concentrate_pb', 'final.output.concentrate_pb',\n",
    "          'rougher.input.feed_sol', 'rougher.output.concentrate_sol', 'final.output.concentrate_sol']\n",
    "for col in train_cols:\n",
    "    train_df = train_df[train_df[col] > 0]\n",
    "\n",
    "test_cols = ['rougher.input.feed_au', 'rougher.input.feed_ag', 'rougher.input.feed_pb',\n",
    "            'rougher.input.feed_sol']\n",
    "for col in test_cols:\n",
    "    test_df = test_df[test_df[col] > 0]\n"
   ]
  },
  {
   "cell_type": "markdown",
   "metadata": {},
   "source": [
    "To address the outlying zeroes, I filtered the test and train datasets for values greater than zero."
   ]
  },
  {
   "cell_type": "markdown",
   "metadata": {},
   "source": [
    "# 3. Build a model"
   ]
  },
  {
   "cell_type": "markdown",
   "metadata": {},
   "source": [
    "**Function to model sMAPE value**"
   ]
  },
  {
   "cell_type": "code",
   "execution_count": 39,
   "metadata": {},
   "outputs": [],
   "source": [
    "def calculate_smape(t, p):\n",
    "    n = len(p)\n",
    "            \n",
    "    result = np.sum(2 * np.abs(t - p) / (np.abs(t) + np.abs(p))) * (100/n)\n",
    "    return result\n",
    "\n",
    "sMAPE_score = make_scorer(calculate_smape, greater_is_better=False)"
   ]
  },
  {
   "cell_type": "markdown",
   "metadata": {},
   "source": [
    "**Train models, use cross-validation to evaluate**"
   ]
  },
  {
   "cell_type": "markdown",
   "metadata": {},
   "source": [
    "**Rougher recovery** "
   ]
  },
  {
   "cell_type": "code",
   "execution_count": 40,
   "metadata": {},
   "outputs": [],
   "source": [
    "rougher_columns = train_df.loc[:, train_df.columns.str.contains('rougher')] \n",
    "\n",
    "features_train_rougher = rougher_columns.drop(['rougher.output.recovery'], axis=1)\n",
    "\n",
    "target_train_rougher = rougher_columns['rougher.output.recovery']"
   ]
  },
  {
   "cell_type": "code",
   "execution_count": 41,
   "metadata": {},
   "outputs": [
    {
     "data": {
      "text/plain": [
       "{'max_depth': 5}"
      ]
     },
     "execution_count": 41,
     "metadata": {},
     "output_type": "execute_result"
    }
   ],
   "source": [
    "params = {'max_depth': [1,2,3,4,5]}\n",
    "\n",
    "dtree_cv = GridSearchCV(DecisionTreeRegressor(), params, scoring=sMAPE_score, cv=3)\n",
    "dtree_cv.fit(features_train_rougher, target_train_rougher)\n",
    "dtree_cv.best_params_"
   ]
  },
  {
   "cell_type": "code",
   "execution_count": 42,
   "metadata": {},
   "outputs": [
    {
     "data": {
      "text/plain": [
       "array([-7.51990351, -7.00358987, -5.78153258, -6.07292575, -4.63161011])"
      ]
     },
     "execution_count": 42,
     "metadata": {},
     "output_type": "execute_result"
    }
   ],
   "source": [
    "dtree_cv.cv_results_['mean_test_score']"
   ]
  },
  {
   "cell_type": "code",
   "execution_count": 62,
   "metadata": {},
   "outputs": [
    {
     "data": {
      "text/plain": [
       "{'max_depth': 10, 'n_estimators': 40}"
      ]
     },
     "execution_count": 62,
     "metadata": {},
     "output_type": "execute_result"
    }
   ],
   "source": [
    "params = {'max_depth': [10], 'n_estimators': [10, 20, 30, 40, 50]}\n",
    "\n",
    "rf_cv_rougher = GridSearchCV(RandomForestRegressor(), params, scoring=sMAPE_score, cv=3)\n",
    "rf_cv_rougher.fit(features_train_rougher, target_train_rougher)\n",
    "rf_cv_rougher.best_params_"
   ]
  },
  {
   "cell_type": "code",
   "execution_count": 64,
   "metadata": {},
   "outputs": [
    {
     "data": {
      "text/plain": [
       "array([-2.52165051, -2.36147209, -2.30308743, -2.0877422 , -2.13107802])"
      ]
     },
     "execution_count": 64,
     "metadata": {},
     "output_type": "execute_result"
    }
   ],
   "source": [
    "rf_cv_rougher.cv_results_['mean_test_score']"
   ]
  },
  {
   "cell_type": "code",
   "execution_count": 44,
   "metadata": {},
   "outputs": [
    {
     "data": {
      "text/plain": [
       "array([-4.25085472, -2.41602916, -4.78404641])"
      ]
     },
     "execution_count": 44,
     "metadata": {},
     "output_type": "execute_result"
    }
   ],
   "source": [
    "cross_val_score(\n",
    "    LinearRegression(), features_train_rougher, \n",
    "    target_train_rougher, scoring=sMAPE_score, cv=3)"
   ]
  },
  {
   "cell_type": "markdown",
   "metadata": {},
   "source": [
    "**Final recovery**"
   ]
  },
  {
   "cell_type": "code",
   "execution_count": 45,
   "metadata": {},
   "outputs": [],
   "source": [
    "features_train_final = train_df.drop(['final.output.recovery','date'], axis=1)\n",
    "\n",
    "target_train_final = train_df['final.output.recovery']"
   ]
  },
  {
   "cell_type": "code",
   "execution_count": 46,
   "metadata": {},
   "outputs": [
    {
     "data": {
      "text/plain": [
       "{'max_depth': 4}"
      ]
     },
     "execution_count": 46,
     "metadata": {},
     "output_type": "execute_result"
    }
   ],
   "source": [
    "params = {'max_depth': [1,2,3,4,5]}\n",
    "\n",
    "dtree_cv_final = GridSearchCV(DecisionTreeRegressor(), params, scoring=sMAPE_score, cv=3)\n",
    "dtree_cv_final.fit(features_train_final, target_train_final)\n",
    "dtree_cv_final.best_params_"
   ]
  },
  {
   "cell_type": "code",
   "execution_count": 47,
   "metadata": {},
   "outputs": [
    {
     "data": {
      "text/plain": [
       "array([-10.76348671,  -9.75184035,  -9.36182868,  -8.80477552,\n",
       "        -8.8324515 ])"
      ]
     },
     "execution_count": 47,
     "metadata": {},
     "output_type": "execute_result"
    }
   ],
   "source": [
    "dtree_cv_final.cv_results_['mean_test_score']"
   ]
  },
  {
   "cell_type": "code",
   "execution_count": 51,
   "metadata": {},
   "outputs": [
    {
     "data": {
      "text/plain": [
       "{'max_depth': 10, 'n_estimators': 50}"
      ]
     },
     "execution_count": 51,
     "metadata": {},
     "output_type": "execute_result"
    }
   ],
   "source": [
    "params = {'max_depth': [10], 'n_estimators': [10, 20, 30, 40, 50]}\n",
    "\n",
    "rf_cv = GridSearchCV(RandomForestRegressor(), params, scoring=sMAPE_score, cv=3)\n",
    "rf_cv.fit(features_train_final, target_train_final)\n",
    "rf_cv.best_params_"
   ]
  },
  {
   "cell_type": "code",
   "execution_count": 68,
   "metadata": {},
   "outputs": [
    {
     "data": {
      "text/plain": [
       "array([-6.10835664, -5.92233784, -6.03858811, -5.87511916, -5.78369472])"
      ]
     },
     "execution_count": 68,
     "metadata": {},
     "output_type": "execute_result"
    }
   ],
   "source": [
    "rf_cv.cv_results_['mean_test_score']"
   ]
  },
  {
   "cell_type": "code",
   "execution_count": 48,
   "metadata": {},
   "outputs": [
    {
     "data": {
      "text/plain": [
       "array([-5.52696574, -3.89696735, -6.78447508])"
      ]
     },
     "execution_count": 48,
     "metadata": {},
     "output_type": "execute_result"
    }
   ],
   "source": [
    "cross_val_score(LinearRegression(), features_train_final, target_train_final, \n",
    "                scoring=sMAPE_score, cv=3)"
   ]
  },
  {
   "cell_type": "markdown",
   "metadata": {},
   "source": [
    "I trained Decision Tree, Random Forest, and Linear regression models on the training data, and evaluated them using cross-validation. I determined that the Random Forest model scored the highest for the rougher recovery target, and the Linear model scored the highest for the final recovery target."
   ]
  },
  {
   "cell_type": "markdown",
   "metadata": {},
   "source": [
    "**Test models using test set**"
   ]
  },
  {
   "cell_type": "code",
   "execution_count": 96,
   "metadata": {},
   "outputs": [],
   "source": [
    "full_test_match = full_df[full_df['date'].isin(test_df['date'])]\n",
    "full_test_match = full_test_match[(full_test_match['rougher.output.recovery'] > 0) & \n",
    "                                 (full_test_match['final.output.recovery'] > 0)]\n",
    "full_test_match = full_test_match.dropna()\n",
    "\n",
    "rougher_features_test = full_test_match.loc[:, full_test_match.columns.str.contains('rougher')]\n",
    "final_features_test = full_test_match.drop('date', axis=1)\n",
    "\n",
    "rougher_target = full_test_match['rougher.output.recovery']\n",
    "final_target = full_test_match['final.output.recovery']"
   ]
  },
  {
   "cell_type": "code",
   "execution_count": 97,
   "metadata": {},
   "outputs": [],
   "source": [
    "r_feat_test_train, r_feat_test_valid, r_target_test_train, r_target_test_valid = train_test_split(\n",
    "    rougher_features_test, rougher_target, test_size=.25)\n",
    "\n",
    "f_feat_test_train, f_feat_test_valid, f_target_test_train, f_target_test_valid = train_test_split(\n",
    "    final_features_test, final_target, test_size=.25)"
   ]
  },
  {
   "cell_type": "markdown",
   "metadata": {},
   "source": [
    "To use the test data, I needed to find the correct target values, since they weren't in the dataset already. To do this, I matched the target values in the full dataset on the date and time the observations were collected."
   ]
  },
  {
   "cell_type": "code",
   "execution_count": 105,
   "metadata": {},
   "outputs": [],
   "source": [
    "rougher_rf_model = RandomForestRegressor(max_depth=10, n_estimators=40, random_state=12345)\n",
    "rougher_rf_model.fit(r_feat_test_train, r_target_test_train)\n",
    "r_predictions = rougher_rf_model.predict(r_feat_test_valid)"
   ]
  },
  {
   "cell_type": "code",
   "execution_count": 108,
   "metadata": {},
   "outputs": [
    {
     "name": "stdout",
     "output_type": "stream",
     "text": [
      "0.02325520868433255\n"
     ]
    }
   ],
   "source": [
    "rougher_sMAPE = calculate_smape(r_target_test_valid, r_predictions)\n",
    "print(rougher_sMAPE)"
   ]
  },
  {
   "cell_type": "code",
   "execution_count": 110,
   "metadata": {},
   "outputs": [],
   "source": [
    "final_lin_model = LinearRegression()\n",
    "final_lin_model.fit(f_feat_test_train, f_target_test_train)\n",
    "final_predictions = final_lin_model.predict(f_feat_test_valid)"
   ]
  },
  {
   "cell_type": "code",
   "execution_count": 112,
   "metadata": {},
   "outputs": [
    {
     "name": "stdout",
     "output_type": "stream",
     "text": [
      "2.384093542352926e-13\n"
     ]
    }
   ],
   "source": [
    "final_sMAPE = calculate_smape(f_target_test_valid, final_predictions)\n",
    "print(final_sMAPE)"
   ]
  },
  {
   "cell_type": "markdown",
   "metadata": {},
   "source": [
    "Finally, I tested my models on the test dataset, and calculated the sMAPE for both the rougher recovery target and the final recovery target."
   ]
  },
  {
   "cell_type": "markdown",
   "metadata": {},
   "source": [
    "**Final evaluation metrics**"
   ]
  },
  {
   "cell_type": "code",
   "execution_count": 113,
   "metadata": {},
   "outputs": [
    {
     "name": "stdout",
     "output_type": "stream",
     "text": [
      "0.005813802171261944\n"
     ]
    }
   ],
   "source": [
    "total_sMAPE = (.25 * rougher_sMAPE) + (.75 * final_sMAPE)\n",
    "print(total_sMAPE)"
   ]
  },
  {
   "cell_type": "markdown",
   "metadata": {},
   "source": [
    "# 4. Conclusion"
   ]
  },
  {
   "cell_type": "markdown",
   "metadata": {},
   "source": [
    "The total sMAPE value calculated above gives an average percent error for the rougher and final outputs of each observation that is close to zero. This metric needs context in order to understand if my model's predictions are useful or not. To do so, I found a baseline to compare it against. "
   ]
  },
  {
   "cell_type": "code",
   "execution_count": 114,
   "metadata": {},
   "outputs": [
    {
     "name": "stdout",
     "output_type": "stream",
     "text": [
      "4.077764865703773\n"
     ]
    }
   ],
   "source": [
    "r_target_mean = np.array([rougher_target.mean() for i in range(len(rougher_target))])\n",
    "rough_baseline = calculate_smape(rougher_target, r_target_mean)\n",
    "print(rough_baseline)"
   ]
  },
  {
   "cell_type": "code",
   "execution_count": 115,
   "metadata": {},
   "outputs": [
    {
     "name": "stdout",
     "output_type": "stream",
     "text": [
      "7.206181494710076\n"
     ]
    }
   ],
   "source": [
    "f_target_mean = np.array([final_target.mean() for i in range(len(rougher_target))])\n",
    "final_baseline = calculate_smape(final_target, f_target_mean)\n",
    "print(final_baseline)"
   ]
  },
  {
   "cell_type": "code",
   "execution_count": 116,
   "metadata": {},
   "outputs": [
    {
     "name": "stdout",
     "output_type": "stream",
     "text": [
      "6.424077337458501\n"
     ]
    }
   ],
   "source": [
    "total_mean_smape = (.25 * rough_baseline) + (.75 * final_baseline)\n",
    "print(total_mean_smape)"
   ]
  },
  {
   "cell_type": "markdown",
   "metadata": {},
   "source": [
    "After comparing the final sMAPE of my model to the \"baseline\" sMAPE (which simply used a mean value for every prediction), it seems that it is quite accurate in predicting gold output from the parameters."
   ]
  }
 ],
 "metadata": {
  "kernelspec": {
   "display_name": "Python 3",
   "language": "python",
   "name": "python3"
  },
  "language_info": {
   "codemirror_mode": {
    "name": "ipython",
    "version": 3
   },
   "file_extension": ".py",
   "mimetype": "text/x-python",
   "name": "python",
   "nbconvert_exporter": "python",
   "pygments_lexer": "ipython3",
   "version": "3.7.8"
  },
  "toc": {
   "base_numbering": 1,
   "nav_menu": {},
   "number_sections": true,
   "sideBar": true,
   "skip_h1_title": true,
   "title_cell": "Table of Contents",
   "title_sidebar": "Contents",
   "toc_cell": false,
   "toc_position": {},
   "toc_section_display": true,
   "toc_window_display": false
  }
 },
 "nbformat": 4,
 "nbformat_minor": 2
}
