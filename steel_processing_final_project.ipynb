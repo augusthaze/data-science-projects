{
 "cells": [
  {
   "cell_type": "markdown",
   "metadata": {},
   "source": [
    "## Outline\n",
    "1. Import/review data\n",
    "2. Preprocessing\n",
    "    * Preprocessing and feature engineering of individual datasets\n",
    "        * Eliminate unecessary parameters, change datatypes, feature extraction\n",
    "    * Join datasets together, final preprocessing of full dataset\n",
    "        * Imputations, further feature extraction\n",
    "3. EDA\n",
    "    * Calculate Pearson correlation coefficients and interpret\n",
    "    * Reduce multicollinearity\n",
    "4. Model training\n",
    "    * Dummy (baseline) model\n",
    "    * Linear Regression model\n",
    "    * Random Forest Regression model\n",
    "    * CatBoost model\n",
    "5. Final testing of best performing models\n",
    "6. Interpretation of results and conclusion\n",
    "\n",
    "### Objective\n",
    "Predict temperature while processing steel to reduce energy consumption and optimize production costs. "
   ]
  },
  {
   "cell_type": "markdown",
   "metadata": {},
   "source": [
    "# 1. Import/review data"
   ]
  },
  {
   "cell_type": "code",
   "execution_count": 1,
   "metadata": {},
   "outputs": [],
   "source": [
    "import pandas as pd\n",
    "import numpy as np\n",
    "from matplotlib import pyplot as plt\n",
    "from sklearn.model_selection import train_test_split, GridSearchCV\n",
    "from sklearn.dummy import DummyRegressor\n",
    "from sklearn.metrics import mean_absolute_error\n",
    "from sklearn.preprocessing import StandardScaler\n",
    "from sklearn.linear_model import LinearRegression\n",
    "from sklearn.ensemble import RandomForestRegressor\n",
    "from catboost import CatBoostRegressor"
   ]
  },
  {
   "cell_type": "code",
   "execution_count": 2,
   "metadata": {},
   "outputs": [],
   "source": [
    "electrode_df = pd.read_csv('/datasets/data_arc_en.csv')\n",
    "bulk_supply_df = pd.read_csv('/datasets/data_bulk_en.csv')\n",
    "bulk_delivery_df = pd.read_csv('/datasets/data_bulk_time_en.csv')\n",
    "gas_df = pd.read_csv('/datasets/data_gas_en.csv')\n",
    "temp_df = pd.read_csv('/datasets/data_temp_en.csv')\n",
    "wire_vol_df = pd.read_csv('/datasets/data_wire_en.csv')\n",
    "wire_time_df = pd.read_csv('/datasets/data_wire_time_en.csv')"
   ]
  },
  {
   "cell_type": "code",
   "execution_count": 3,
   "metadata": {},
   "outputs": [
    {
     "name": "stdout",
     "output_type": "stream",
     "text": [
      "<class 'pandas.core.frame.DataFrame'>\n",
      "RangeIndex: 14876 entries, 0 to 14875\n",
      "Data columns (total 5 columns):\n",
      "key                  14876 non-null int64\n",
      "Arc heating start    14876 non-null object\n",
      "Arc heating end      14876 non-null object\n",
      "Active power         14876 non-null float64\n",
      "Reactive power       14876 non-null float64\n",
      "dtypes: float64(2), int64(1), object(2)\n",
      "memory usage: 581.2+ KB\n"
     ]
    }
   ],
   "source": [
    "electrode_df.info()"
   ]
  },
  {
   "cell_type": "code",
   "execution_count": 4,
   "metadata": {},
   "outputs": [
    {
     "data": {
      "text/html": [
       "<div>\n",
       "<style scoped>\n",
       "    .dataframe tbody tr th:only-of-type {\n",
       "        vertical-align: middle;\n",
       "    }\n",
       "\n",
       "    .dataframe tbody tr th {\n",
       "        vertical-align: top;\n",
       "    }\n",
       "\n",
       "    .dataframe thead th {\n",
       "        text-align: right;\n",
       "    }\n",
       "</style>\n",
       "<table border=\"1\" class=\"dataframe\">\n",
       "  <thead>\n",
       "    <tr style=\"text-align: right;\">\n",
       "      <th></th>\n",
       "      <th>key</th>\n",
       "      <th>Arc heating start</th>\n",
       "      <th>Arc heating end</th>\n",
       "      <th>Active power</th>\n",
       "      <th>Reactive power</th>\n",
       "    </tr>\n",
       "  </thead>\n",
       "  <tbody>\n",
       "    <tr>\n",
       "      <td>0</td>\n",
       "      <td>1</td>\n",
       "      <td>2019-05-03 11:02:14</td>\n",
       "      <td>2019-05-03 11:06:02</td>\n",
       "      <td>0.976059</td>\n",
       "      <td>0.687084</td>\n",
       "    </tr>\n",
       "    <tr>\n",
       "      <td>1</td>\n",
       "      <td>1</td>\n",
       "      <td>2019-05-03 11:07:28</td>\n",
       "      <td>2019-05-03 11:10:33</td>\n",
       "      <td>0.805607</td>\n",
       "      <td>0.520285</td>\n",
       "    </tr>\n",
       "    <tr>\n",
       "      <td>2</td>\n",
       "      <td>1</td>\n",
       "      <td>2019-05-03 11:11:44</td>\n",
       "      <td>2019-05-03 11:14:36</td>\n",
       "      <td>0.744363</td>\n",
       "      <td>0.498805</td>\n",
       "    </tr>\n",
       "    <tr>\n",
       "      <td>3</td>\n",
       "      <td>1</td>\n",
       "      <td>2019-05-03 11:18:14</td>\n",
       "      <td>2019-05-03 11:24:19</td>\n",
       "      <td>1.659363</td>\n",
       "      <td>1.062669</td>\n",
       "    </tr>\n",
       "    <tr>\n",
       "      <td>4</td>\n",
       "      <td>1</td>\n",
       "      <td>2019-05-03 11:26:09</td>\n",
       "      <td>2019-05-03 11:28:37</td>\n",
       "      <td>0.692755</td>\n",
       "      <td>0.414397</td>\n",
       "    </tr>\n",
       "  </tbody>\n",
       "</table>\n",
       "</div>"
      ],
      "text/plain": [
       "   key    Arc heating start      Arc heating end  Active power  Reactive power\n",
       "0    1  2019-05-03 11:02:14  2019-05-03 11:06:02      0.976059        0.687084\n",
       "1    1  2019-05-03 11:07:28  2019-05-03 11:10:33      0.805607        0.520285\n",
       "2    1  2019-05-03 11:11:44  2019-05-03 11:14:36      0.744363        0.498805\n",
       "3    1  2019-05-03 11:18:14  2019-05-03 11:24:19      1.659363        1.062669\n",
       "4    1  2019-05-03 11:26:09  2019-05-03 11:28:37      0.692755        0.414397"
      ]
     },
     "execution_count": 4,
     "metadata": {},
     "output_type": "execute_result"
    }
   ],
   "source": [
    "electrode_df.head()"
   ]
  },
  {
   "cell_type": "code",
   "execution_count": 5,
   "metadata": {},
   "outputs": [
    {
     "name": "stdout",
     "output_type": "stream",
     "text": [
      "<class 'pandas.core.frame.DataFrame'>\n",
      "RangeIndex: 3129 entries, 0 to 3128\n",
      "Data columns (total 16 columns):\n",
      "key        3129 non-null int64\n",
      "Bulk 1     252 non-null float64\n",
      "Bulk 2     22 non-null float64\n",
      "Bulk 3     1298 non-null float64\n",
      "Bulk 4     1014 non-null float64\n",
      "Bulk 5     77 non-null float64\n",
      "Bulk 6     576 non-null float64\n",
      "Bulk 7     25 non-null float64\n",
      "Bulk 8     1 non-null float64\n",
      "Bulk 9     19 non-null float64\n",
      "Bulk 10    176 non-null float64\n",
      "Bulk 11    177 non-null float64\n",
      "Bulk 12    2450 non-null float64\n",
      "Bulk 13    18 non-null float64\n",
      "Bulk 14    2806 non-null float64\n",
      "Bulk 15    2248 non-null float64\n",
      "dtypes: float64(15), int64(1)\n",
      "memory usage: 391.2 KB\n"
     ]
    }
   ],
   "source": [
    "bulk_supply_df.info()"
   ]
  },
  {
   "cell_type": "code",
   "execution_count": 6,
   "metadata": {},
   "outputs": [
    {
     "data": {
      "text/html": [
       "<div>\n",
       "<style scoped>\n",
       "    .dataframe tbody tr th:only-of-type {\n",
       "        vertical-align: middle;\n",
       "    }\n",
       "\n",
       "    .dataframe tbody tr th {\n",
       "        vertical-align: top;\n",
       "    }\n",
       "\n",
       "    .dataframe thead th {\n",
       "        text-align: right;\n",
       "    }\n",
       "</style>\n",
       "<table border=\"1\" class=\"dataframe\">\n",
       "  <thead>\n",
       "    <tr style=\"text-align: right;\">\n",
       "      <th></th>\n",
       "      <th>key</th>\n",
       "      <th>Bulk 1</th>\n",
       "      <th>Bulk 2</th>\n",
       "      <th>Bulk 3</th>\n",
       "      <th>Bulk 4</th>\n",
       "      <th>Bulk 5</th>\n",
       "      <th>Bulk 6</th>\n",
       "      <th>Bulk 7</th>\n",
       "      <th>Bulk 8</th>\n",
       "      <th>Bulk 9</th>\n",
       "      <th>Bulk 10</th>\n",
       "      <th>Bulk 11</th>\n",
       "      <th>Bulk 12</th>\n",
       "      <th>Bulk 13</th>\n",
       "      <th>Bulk 14</th>\n",
       "      <th>Bulk 15</th>\n",
       "    </tr>\n",
       "  </thead>\n",
       "  <tbody>\n",
       "    <tr>\n",
       "      <td>0</td>\n",
       "      <td>1</td>\n",
       "      <td>NaN</td>\n",
       "      <td>NaN</td>\n",
       "      <td>NaN</td>\n",
       "      <td>43.0</td>\n",
       "      <td>NaN</td>\n",
       "      <td>NaN</td>\n",
       "      <td>NaN</td>\n",
       "      <td>NaN</td>\n",
       "      <td>NaN</td>\n",
       "      <td>NaN</td>\n",
       "      <td>NaN</td>\n",
       "      <td>206.0</td>\n",
       "      <td>NaN</td>\n",
       "      <td>150.0</td>\n",
       "      <td>154.0</td>\n",
       "    </tr>\n",
       "    <tr>\n",
       "      <td>1</td>\n",
       "      <td>2</td>\n",
       "      <td>NaN</td>\n",
       "      <td>NaN</td>\n",
       "      <td>NaN</td>\n",
       "      <td>73.0</td>\n",
       "      <td>NaN</td>\n",
       "      <td>NaN</td>\n",
       "      <td>NaN</td>\n",
       "      <td>NaN</td>\n",
       "      <td>NaN</td>\n",
       "      <td>NaN</td>\n",
       "      <td>NaN</td>\n",
       "      <td>206.0</td>\n",
       "      <td>NaN</td>\n",
       "      <td>149.0</td>\n",
       "      <td>154.0</td>\n",
       "    </tr>\n",
       "    <tr>\n",
       "      <td>2</td>\n",
       "      <td>3</td>\n",
       "      <td>NaN</td>\n",
       "      <td>NaN</td>\n",
       "      <td>NaN</td>\n",
       "      <td>34.0</td>\n",
       "      <td>NaN</td>\n",
       "      <td>NaN</td>\n",
       "      <td>NaN</td>\n",
       "      <td>NaN</td>\n",
       "      <td>NaN</td>\n",
       "      <td>NaN</td>\n",
       "      <td>NaN</td>\n",
       "      <td>205.0</td>\n",
       "      <td>NaN</td>\n",
       "      <td>152.0</td>\n",
       "      <td>153.0</td>\n",
       "    </tr>\n",
       "    <tr>\n",
       "      <td>3</td>\n",
       "      <td>4</td>\n",
       "      <td>NaN</td>\n",
       "      <td>NaN</td>\n",
       "      <td>NaN</td>\n",
       "      <td>81.0</td>\n",
       "      <td>NaN</td>\n",
       "      <td>NaN</td>\n",
       "      <td>NaN</td>\n",
       "      <td>NaN</td>\n",
       "      <td>NaN</td>\n",
       "      <td>NaN</td>\n",
       "      <td>NaN</td>\n",
       "      <td>207.0</td>\n",
       "      <td>NaN</td>\n",
       "      <td>153.0</td>\n",
       "      <td>154.0</td>\n",
       "    </tr>\n",
       "    <tr>\n",
       "      <td>4</td>\n",
       "      <td>5</td>\n",
       "      <td>NaN</td>\n",
       "      <td>NaN</td>\n",
       "      <td>NaN</td>\n",
       "      <td>78.0</td>\n",
       "      <td>NaN</td>\n",
       "      <td>NaN</td>\n",
       "      <td>NaN</td>\n",
       "      <td>NaN</td>\n",
       "      <td>NaN</td>\n",
       "      <td>NaN</td>\n",
       "      <td>NaN</td>\n",
       "      <td>203.0</td>\n",
       "      <td>NaN</td>\n",
       "      <td>151.0</td>\n",
       "      <td>152.0</td>\n",
       "    </tr>\n",
       "  </tbody>\n",
       "</table>\n",
       "</div>"
      ],
      "text/plain": [
       "   key  Bulk 1  Bulk 2  Bulk 3  Bulk 4  Bulk 5  Bulk 6  Bulk 7  Bulk 8  \\\n",
       "0    1     NaN     NaN     NaN    43.0     NaN     NaN     NaN     NaN   \n",
       "1    2     NaN     NaN     NaN    73.0     NaN     NaN     NaN     NaN   \n",
       "2    3     NaN     NaN     NaN    34.0     NaN     NaN     NaN     NaN   \n",
       "3    4     NaN     NaN     NaN    81.0     NaN     NaN     NaN     NaN   \n",
       "4    5     NaN     NaN     NaN    78.0     NaN     NaN     NaN     NaN   \n",
       "\n",
       "   Bulk 9  Bulk 10  Bulk 11  Bulk 12  Bulk 13  Bulk 14  Bulk 15  \n",
       "0     NaN      NaN      NaN    206.0      NaN    150.0    154.0  \n",
       "1     NaN      NaN      NaN    206.0      NaN    149.0    154.0  \n",
       "2     NaN      NaN      NaN    205.0      NaN    152.0    153.0  \n",
       "3     NaN      NaN      NaN    207.0      NaN    153.0    154.0  \n",
       "4     NaN      NaN      NaN    203.0      NaN    151.0    152.0  "
      ]
     },
     "execution_count": 6,
     "metadata": {},
     "output_type": "execute_result"
    }
   ],
   "source": [
    "bulk_supply_df.head()"
   ]
  },
  {
   "cell_type": "code",
   "execution_count": 7,
   "metadata": {},
   "outputs": [
    {
     "name": "stdout",
     "output_type": "stream",
     "text": [
      "<class 'pandas.core.frame.DataFrame'>\n",
      "RangeIndex: 3129 entries, 0 to 3128\n",
      "Data columns (total 16 columns):\n",
      "key        3129 non-null int64\n",
      "Bulk 1     252 non-null object\n",
      "Bulk 2     22 non-null object\n",
      "Bulk 3     1298 non-null object\n",
      "Bulk 4     1014 non-null object\n",
      "Bulk 5     77 non-null object\n",
      "Bulk 6     576 non-null object\n",
      "Bulk 7     25 non-null object\n",
      "Bulk 8     1 non-null object\n",
      "Bulk 9     19 non-null object\n",
      "Bulk 10    176 non-null object\n",
      "Bulk 11    177 non-null object\n",
      "Bulk 12    2450 non-null object\n",
      "Bulk 13    18 non-null object\n",
      "Bulk 14    2806 non-null object\n",
      "Bulk 15    2248 non-null object\n",
      "dtypes: int64(1), object(15)\n",
      "memory usage: 391.2+ KB\n"
     ]
    }
   ],
   "source": [
    "bulk_delivery_df.info()"
   ]
  },
  {
   "cell_type": "code",
   "execution_count": 8,
   "metadata": {},
   "outputs": [
    {
     "data": {
      "text/html": [
       "<div>\n",
       "<style scoped>\n",
       "    .dataframe tbody tr th:only-of-type {\n",
       "        vertical-align: middle;\n",
       "    }\n",
       "\n",
       "    .dataframe tbody tr th {\n",
       "        vertical-align: top;\n",
       "    }\n",
       "\n",
       "    .dataframe thead th {\n",
       "        text-align: right;\n",
       "    }\n",
       "</style>\n",
       "<table border=\"1\" class=\"dataframe\">\n",
       "  <thead>\n",
       "    <tr style=\"text-align: right;\">\n",
       "      <th></th>\n",
       "      <th>key</th>\n",
       "      <th>Bulk 1</th>\n",
       "      <th>Bulk 2</th>\n",
       "      <th>Bulk 3</th>\n",
       "      <th>Bulk 4</th>\n",
       "      <th>Bulk 5</th>\n",
       "      <th>Bulk 6</th>\n",
       "      <th>Bulk 7</th>\n",
       "      <th>Bulk 8</th>\n",
       "      <th>Bulk 9</th>\n",
       "      <th>Bulk 10</th>\n",
       "      <th>Bulk 11</th>\n",
       "      <th>Bulk 12</th>\n",
       "      <th>Bulk 13</th>\n",
       "      <th>Bulk 14</th>\n",
       "      <th>Bulk 15</th>\n",
       "    </tr>\n",
       "  </thead>\n",
       "  <tbody>\n",
       "    <tr>\n",
       "      <td>0</td>\n",
       "      <td>1</td>\n",
       "      <td>NaN</td>\n",
       "      <td>NaN</td>\n",
       "      <td>NaN</td>\n",
       "      <td>2019-05-03 11:21:30</td>\n",
       "      <td>NaN</td>\n",
       "      <td>NaN</td>\n",
       "      <td>NaN</td>\n",
       "      <td>NaN</td>\n",
       "      <td>NaN</td>\n",
       "      <td>NaN</td>\n",
       "      <td>NaN</td>\n",
       "      <td>2019-05-03 11:03:52</td>\n",
       "      <td>NaN</td>\n",
       "      <td>2019-05-03 11:03:52</td>\n",
       "      <td>2019-05-03 11:03:52</td>\n",
       "    </tr>\n",
       "    <tr>\n",
       "      <td>1</td>\n",
       "      <td>2</td>\n",
       "      <td>NaN</td>\n",
       "      <td>NaN</td>\n",
       "      <td>NaN</td>\n",
       "      <td>2019-05-03 11:46:38</td>\n",
       "      <td>NaN</td>\n",
       "      <td>NaN</td>\n",
       "      <td>NaN</td>\n",
       "      <td>NaN</td>\n",
       "      <td>NaN</td>\n",
       "      <td>NaN</td>\n",
       "      <td>NaN</td>\n",
       "      <td>2019-05-03 11:40:20</td>\n",
       "      <td>NaN</td>\n",
       "      <td>2019-05-03 11:40:20</td>\n",
       "      <td>2019-05-03 11:40:20</td>\n",
       "    </tr>\n",
       "    <tr>\n",
       "      <td>2</td>\n",
       "      <td>3</td>\n",
       "      <td>NaN</td>\n",
       "      <td>NaN</td>\n",
       "      <td>NaN</td>\n",
       "      <td>2019-05-03 12:31:06</td>\n",
       "      <td>NaN</td>\n",
       "      <td>NaN</td>\n",
       "      <td>NaN</td>\n",
       "      <td>NaN</td>\n",
       "      <td>NaN</td>\n",
       "      <td>NaN</td>\n",
       "      <td>NaN</td>\n",
       "      <td>2019-05-03 12:09:40</td>\n",
       "      <td>NaN</td>\n",
       "      <td>2019-05-03 12:09:40</td>\n",
       "      <td>2019-05-03 12:09:40</td>\n",
       "    </tr>\n",
       "    <tr>\n",
       "      <td>3</td>\n",
       "      <td>4</td>\n",
       "      <td>NaN</td>\n",
       "      <td>NaN</td>\n",
       "      <td>NaN</td>\n",
       "      <td>2019-05-03 12:48:43</td>\n",
       "      <td>NaN</td>\n",
       "      <td>NaN</td>\n",
       "      <td>NaN</td>\n",
       "      <td>NaN</td>\n",
       "      <td>NaN</td>\n",
       "      <td>NaN</td>\n",
       "      <td>NaN</td>\n",
       "      <td>2019-05-03 12:41:24</td>\n",
       "      <td>NaN</td>\n",
       "      <td>2019-05-03 12:41:24</td>\n",
       "      <td>2019-05-03 12:41:24</td>\n",
       "    </tr>\n",
       "    <tr>\n",
       "      <td>4</td>\n",
       "      <td>5</td>\n",
       "      <td>NaN</td>\n",
       "      <td>NaN</td>\n",
       "      <td>NaN</td>\n",
       "      <td>2019-05-03 13:18:50</td>\n",
       "      <td>NaN</td>\n",
       "      <td>NaN</td>\n",
       "      <td>NaN</td>\n",
       "      <td>NaN</td>\n",
       "      <td>NaN</td>\n",
       "      <td>NaN</td>\n",
       "      <td>NaN</td>\n",
       "      <td>2019-05-03 13:12:56</td>\n",
       "      <td>NaN</td>\n",
       "      <td>2019-05-03 13:12:56</td>\n",
       "      <td>2019-05-03 13:12:56</td>\n",
       "    </tr>\n",
       "  </tbody>\n",
       "</table>\n",
       "</div>"
      ],
      "text/plain": [
       "   key Bulk 1 Bulk 2 Bulk 3               Bulk 4 Bulk 5 Bulk 6 Bulk 7 Bulk 8  \\\n",
       "0    1    NaN    NaN    NaN  2019-05-03 11:21:30    NaN    NaN    NaN    NaN   \n",
       "1    2    NaN    NaN    NaN  2019-05-03 11:46:38    NaN    NaN    NaN    NaN   \n",
       "2    3    NaN    NaN    NaN  2019-05-03 12:31:06    NaN    NaN    NaN    NaN   \n",
       "3    4    NaN    NaN    NaN  2019-05-03 12:48:43    NaN    NaN    NaN    NaN   \n",
       "4    5    NaN    NaN    NaN  2019-05-03 13:18:50    NaN    NaN    NaN    NaN   \n",
       "\n",
       "  Bulk 9 Bulk 10 Bulk 11              Bulk 12 Bulk 13              Bulk 14  \\\n",
       "0    NaN     NaN     NaN  2019-05-03 11:03:52     NaN  2019-05-03 11:03:52   \n",
       "1    NaN     NaN     NaN  2019-05-03 11:40:20     NaN  2019-05-03 11:40:20   \n",
       "2    NaN     NaN     NaN  2019-05-03 12:09:40     NaN  2019-05-03 12:09:40   \n",
       "3    NaN     NaN     NaN  2019-05-03 12:41:24     NaN  2019-05-03 12:41:24   \n",
       "4    NaN     NaN     NaN  2019-05-03 13:12:56     NaN  2019-05-03 13:12:56   \n",
       "\n",
       "               Bulk 15  \n",
       "0  2019-05-03 11:03:52  \n",
       "1  2019-05-03 11:40:20  \n",
       "2  2019-05-03 12:09:40  \n",
       "3  2019-05-03 12:41:24  \n",
       "4  2019-05-03 13:12:56  "
      ]
     },
     "execution_count": 8,
     "metadata": {},
     "output_type": "execute_result"
    }
   ],
   "source": [
    "bulk_delivery_df.head()"
   ]
  },
  {
   "cell_type": "code",
   "execution_count": 9,
   "metadata": {},
   "outputs": [
    {
     "name": "stdout",
     "output_type": "stream",
     "text": [
      "<class 'pandas.core.frame.DataFrame'>\n",
      "RangeIndex: 3239 entries, 0 to 3238\n",
      "Data columns (total 2 columns):\n",
      "key      3239 non-null int64\n",
      "Gas 1    3239 non-null float64\n",
      "dtypes: float64(1), int64(1)\n",
      "memory usage: 50.7 KB\n"
     ]
    }
   ],
   "source": [
    "gas_df.info()"
   ]
  },
  {
   "cell_type": "code",
   "execution_count": 10,
   "metadata": {},
   "outputs": [
    {
     "data": {
      "text/html": [
       "<div>\n",
       "<style scoped>\n",
       "    .dataframe tbody tr th:only-of-type {\n",
       "        vertical-align: middle;\n",
       "    }\n",
       "\n",
       "    .dataframe tbody tr th {\n",
       "        vertical-align: top;\n",
       "    }\n",
       "\n",
       "    .dataframe thead th {\n",
       "        text-align: right;\n",
       "    }\n",
       "</style>\n",
       "<table border=\"1\" class=\"dataframe\">\n",
       "  <thead>\n",
       "    <tr style=\"text-align: right;\">\n",
       "      <th></th>\n",
       "      <th>key</th>\n",
       "      <th>Gas 1</th>\n",
       "    </tr>\n",
       "  </thead>\n",
       "  <tbody>\n",
       "    <tr>\n",
       "      <td>0</td>\n",
       "      <td>1</td>\n",
       "      <td>29.749986</td>\n",
       "    </tr>\n",
       "    <tr>\n",
       "      <td>1</td>\n",
       "      <td>2</td>\n",
       "      <td>12.555561</td>\n",
       "    </tr>\n",
       "    <tr>\n",
       "      <td>2</td>\n",
       "      <td>3</td>\n",
       "      <td>28.554793</td>\n",
       "    </tr>\n",
       "    <tr>\n",
       "      <td>3</td>\n",
       "      <td>4</td>\n",
       "      <td>18.841219</td>\n",
       "    </tr>\n",
       "    <tr>\n",
       "      <td>4</td>\n",
       "      <td>5</td>\n",
       "      <td>5.413692</td>\n",
       "    </tr>\n",
       "  </tbody>\n",
       "</table>\n",
       "</div>"
      ],
      "text/plain": [
       "   key      Gas 1\n",
       "0    1  29.749986\n",
       "1    2  12.555561\n",
       "2    3  28.554793\n",
       "3    4  18.841219\n",
       "4    5   5.413692"
      ]
     },
     "execution_count": 10,
     "metadata": {},
     "output_type": "execute_result"
    }
   ],
   "source": [
    "gas_df.head()"
   ]
  },
  {
   "cell_type": "code",
   "execution_count": 11,
   "metadata": {},
   "outputs": [
    {
     "name": "stdout",
     "output_type": "stream",
     "text": [
      "<class 'pandas.core.frame.DataFrame'>\n",
      "RangeIndex: 15907 entries, 0 to 15906\n",
      "Data columns (total 3 columns):\n",
      "key              15907 non-null int64\n",
      "Sampling time    15907 non-null object\n",
      "Temperature      13006 non-null float64\n",
      "dtypes: float64(1), int64(1), object(1)\n",
      "memory usage: 372.9+ KB\n"
     ]
    }
   ],
   "source": [
    "temp_df.info()"
   ]
  },
  {
   "cell_type": "code",
   "execution_count": 12,
   "metadata": {},
   "outputs": [
    {
     "data": {
      "text/html": [
       "<div>\n",
       "<style scoped>\n",
       "    .dataframe tbody tr th:only-of-type {\n",
       "        vertical-align: middle;\n",
       "    }\n",
       "\n",
       "    .dataframe tbody tr th {\n",
       "        vertical-align: top;\n",
       "    }\n",
       "\n",
       "    .dataframe thead th {\n",
       "        text-align: right;\n",
       "    }\n",
       "</style>\n",
       "<table border=\"1\" class=\"dataframe\">\n",
       "  <thead>\n",
       "    <tr style=\"text-align: right;\">\n",
       "      <th></th>\n",
       "      <th>key</th>\n",
       "      <th>Sampling time</th>\n",
       "      <th>Temperature</th>\n",
       "    </tr>\n",
       "  </thead>\n",
       "  <tbody>\n",
       "    <tr>\n",
       "      <td>0</td>\n",
       "      <td>1</td>\n",
       "      <td>2019-05-03 11:16:18</td>\n",
       "      <td>1571.0</td>\n",
       "    </tr>\n",
       "    <tr>\n",
       "      <td>1</td>\n",
       "      <td>1</td>\n",
       "      <td>2019-05-03 11:25:53</td>\n",
       "      <td>1604.0</td>\n",
       "    </tr>\n",
       "    <tr>\n",
       "      <td>2</td>\n",
       "      <td>1</td>\n",
       "      <td>2019-05-03 11:29:11</td>\n",
       "      <td>1618.0</td>\n",
       "    </tr>\n",
       "    <tr>\n",
       "      <td>3</td>\n",
       "      <td>1</td>\n",
       "      <td>2019-05-03 11:30:01</td>\n",
       "      <td>1601.0</td>\n",
       "    </tr>\n",
       "    <tr>\n",
       "      <td>4</td>\n",
       "      <td>1</td>\n",
       "      <td>2019-05-03 11:30:39</td>\n",
       "      <td>1613.0</td>\n",
       "    </tr>\n",
       "  </tbody>\n",
       "</table>\n",
       "</div>"
      ],
      "text/plain": [
       "   key        Sampling time  Temperature\n",
       "0    1  2019-05-03 11:16:18       1571.0\n",
       "1    1  2019-05-03 11:25:53       1604.0\n",
       "2    1  2019-05-03 11:29:11       1618.0\n",
       "3    1  2019-05-03 11:30:01       1601.0\n",
       "4    1  2019-05-03 11:30:39       1613.0"
      ]
     },
     "execution_count": 12,
     "metadata": {},
     "output_type": "execute_result"
    }
   ],
   "source": [
    "temp_df.head()"
   ]
  },
  {
   "cell_type": "code",
   "execution_count": 13,
   "metadata": {},
   "outputs": [
    {
     "name": "stdout",
     "output_type": "stream",
     "text": [
      "<class 'pandas.core.frame.DataFrame'>\n",
      "RangeIndex: 3081 entries, 0 to 3080\n",
      "Data columns (total 10 columns):\n",
      "key       3081 non-null int64\n",
      "Wire 1    3055 non-null float64\n",
      "Wire 2    1079 non-null float64\n",
      "Wire 3    63 non-null float64\n",
      "Wire 4    14 non-null float64\n",
      "Wire 5    1 non-null float64\n",
      "Wire 6    73 non-null float64\n",
      "Wire 7    11 non-null float64\n",
      "Wire 8    19 non-null float64\n",
      "Wire 9    29 non-null float64\n",
      "dtypes: float64(9), int64(1)\n",
      "memory usage: 240.8 KB\n"
     ]
    }
   ],
   "source": [
    "wire_vol_df.info()"
   ]
  },
  {
   "cell_type": "code",
   "execution_count": 14,
   "metadata": {},
   "outputs": [
    {
     "data": {
      "text/html": [
       "<div>\n",
       "<style scoped>\n",
       "    .dataframe tbody tr th:only-of-type {\n",
       "        vertical-align: middle;\n",
       "    }\n",
       "\n",
       "    .dataframe tbody tr th {\n",
       "        vertical-align: top;\n",
       "    }\n",
       "\n",
       "    .dataframe thead th {\n",
       "        text-align: right;\n",
       "    }\n",
       "</style>\n",
       "<table border=\"1\" class=\"dataframe\">\n",
       "  <thead>\n",
       "    <tr style=\"text-align: right;\">\n",
       "      <th></th>\n",
       "      <th>key</th>\n",
       "      <th>Wire 1</th>\n",
       "      <th>Wire 2</th>\n",
       "      <th>Wire 3</th>\n",
       "      <th>Wire 4</th>\n",
       "      <th>Wire 5</th>\n",
       "      <th>Wire 6</th>\n",
       "      <th>Wire 7</th>\n",
       "      <th>Wire 8</th>\n",
       "      <th>Wire 9</th>\n",
       "    </tr>\n",
       "  </thead>\n",
       "  <tbody>\n",
       "    <tr>\n",
       "      <td>0</td>\n",
       "      <td>1</td>\n",
       "      <td>60.059998</td>\n",
       "      <td>NaN</td>\n",
       "      <td>NaN</td>\n",
       "      <td>NaN</td>\n",
       "      <td>NaN</td>\n",
       "      <td>NaN</td>\n",
       "      <td>NaN</td>\n",
       "      <td>NaN</td>\n",
       "      <td>NaN</td>\n",
       "    </tr>\n",
       "    <tr>\n",
       "      <td>1</td>\n",
       "      <td>2</td>\n",
       "      <td>96.052315</td>\n",
       "      <td>NaN</td>\n",
       "      <td>NaN</td>\n",
       "      <td>NaN</td>\n",
       "      <td>NaN</td>\n",
       "      <td>NaN</td>\n",
       "      <td>NaN</td>\n",
       "      <td>NaN</td>\n",
       "      <td>NaN</td>\n",
       "    </tr>\n",
       "    <tr>\n",
       "      <td>2</td>\n",
       "      <td>3</td>\n",
       "      <td>91.160157</td>\n",
       "      <td>NaN</td>\n",
       "      <td>NaN</td>\n",
       "      <td>NaN</td>\n",
       "      <td>NaN</td>\n",
       "      <td>NaN</td>\n",
       "      <td>NaN</td>\n",
       "      <td>NaN</td>\n",
       "      <td>NaN</td>\n",
       "    </tr>\n",
       "    <tr>\n",
       "      <td>3</td>\n",
       "      <td>4</td>\n",
       "      <td>89.063515</td>\n",
       "      <td>NaN</td>\n",
       "      <td>NaN</td>\n",
       "      <td>NaN</td>\n",
       "      <td>NaN</td>\n",
       "      <td>NaN</td>\n",
       "      <td>NaN</td>\n",
       "      <td>NaN</td>\n",
       "      <td>NaN</td>\n",
       "    </tr>\n",
       "    <tr>\n",
       "      <td>4</td>\n",
       "      <td>5</td>\n",
       "      <td>89.238236</td>\n",
       "      <td>9.11456</td>\n",
       "      <td>NaN</td>\n",
       "      <td>NaN</td>\n",
       "      <td>NaN</td>\n",
       "      <td>NaN</td>\n",
       "      <td>NaN</td>\n",
       "      <td>NaN</td>\n",
       "      <td>NaN</td>\n",
       "    </tr>\n",
       "  </tbody>\n",
       "</table>\n",
       "</div>"
      ],
      "text/plain": [
       "   key     Wire 1   Wire 2  Wire 3  Wire 4  Wire 5  Wire 6  Wire 7  Wire 8  \\\n",
       "0    1  60.059998      NaN     NaN     NaN     NaN     NaN     NaN     NaN   \n",
       "1    2  96.052315      NaN     NaN     NaN     NaN     NaN     NaN     NaN   \n",
       "2    3  91.160157      NaN     NaN     NaN     NaN     NaN     NaN     NaN   \n",
       "3    4  89.063515      NaN     NaN     NaN     NaN     NaN     NaN     NaN   \n",
       "4    5  89.238236  9.11456     NaN     NaN     NaN     NaN     NaN     NaN   \n",
       "\n",
       "   Wire 9  \n",
       "0     NaN  \n",
       "1     NaN  \n",
       "2     NaN  \n",
       "3     NaN  \n",
       "4     NaN  "
      ]
     },
     "execution_count": 14,
     "metadata": {},
     "output_type": "execute_result"
    }
   ],
   "source": [
    "wire_vol_df.head()"
   ]
  },
  {
   "cell_type": "code",
   "execution_count": 15,
   "metadata": {},
   "outputs": [
    {
     "name": "stdout",
     "output_type": "stream",
     "text": [
      "<class 'pandas.core.frame.DataFrame'>\n",
      "RangeIndex: 3081 entries, 0 to 3080\n",
      "Data columns (total 10 columns):\n",
      "key       3081 non-null int64\n",
      "Wire 1    3055 non-null object\n",
      "Wire 2    1079 non-null object\n",
      "Wire 3    63 non-null object\n",
      "Wire 4    14 non-null object\n",
      "Wire 5    1 non-null object\n",
      "Wire 6    73 non-null object\n",
      "Wire 7    11 non-null object\n",
      "Wire 8    19 non-null object\n",
      "Wire 9    29 non-null object\n",
      "dtypes: int64(1), object(9)\n",
      "memory usage: 240.8+ KB\n"
     ]
    }
   ],
   "source": [
    "wire_time_df.info()"
   ]
  },
  {
   "cell_type": "code",
   "execution_count": 16,
   "metadata": {},
   "outputs": [
    {
     "data": {
      "text/html": [
       "<div>\n",
       "<style scoped>\n",
       "    .dataframe tbody tr th:only-of-type {\n",
       "        vertical-align: middle;\n",
       "    }\n",
       "\n",
       "    .dataframe tbody tr th {\n",
       "        vertical-align: top;\n",
       "    }\n",
       "\n",
       "    .dataframe thead th {\n",
       "        text-align: right;\n",
       "    }\n",
       "</style>\n",
       "<table border=\"1\" class=\"dataframe\">\n",
       "  <thead>\n",
       "    <tr style=\"text-align: right;\">\n",
       "      <th></th>\n",
       "      <th>key</th>\n",
       "      <th>Wire 1</th>\n",
       "      <th>Wire 2</th>\n",
       "      <th>Wire 3</th>\n",
       "      <th>Wire 4</th>\n",
       "      <th>Wire 5</th>\n",
       "      <th>Wire 6</th>\n",
       "      <th>Wire 7</th>\n",
       "      <th>Wire 8</th>\n",
       "      <th>Wire 9</th>\n",
       "    </tr>\n",
       "  </thead>\n",
       "  <tbody>\n",
       "    <tr>\n",
       "      <td>0</td>\n",
       "      <td>1</td>\n",
       "      <td>2019-05-03 11:11:41</td>\n",
       "      <td>NaN</td>\n",
       "      <td>NaN</td>\n",
       "      <td>NaN</td>\n",
       "      <td>NaN</td>\n",
       "      <td>NaN</td>\n",
       "      <td>NaN</td>\n",
       "      <td>NaN</td>\n",
       "      <td>NaN</td>\n",
       "    </tr>\n",
       "    <tr>\n",
       "      <td>1</td>\n",
       "      <td>2</td>\n",
       "      <td>2019-05-03 11:46:10</td>\n",
       "      <td>NaN</td>\n",
       "      <td>NaN</td>\n",
       "      <td>NaN</td>\n",
       "      <td>NaN</td>\n",
       "      <td>NaN</td>\n",
       "      <td>NaN</td>\n",
       "      <td>NaN</td>\n",
       "      <td>NaN</td>\n",
       "    </tr>\n",
       "    <tr>\n",
       "      <td>2</td>\n",
       "      <td>3</td>\n",
       "      <td>2019-05-03 12:13:47</td>\n",
       "      <td>NaN</td>\n",
       "      <td>NaN</td>\n",
       "      <td>NaN</td>\n",
       "      <td>NaN</td>\n",
       "      <td>NaN</td>\n",
       "      <td>NaN</td>\n",
       "      <td>NaN</td>\n",
       "      <td>NaN</td>\n",
       "    </tr>\n",
       "    <tr>\n",
       "      <td>3</td>\n",
       "      <td>4</td>\n",
       "      <td>2019-05-03 12:48:05</td>\n",
       "      <td>NaN</td>\n",
       "      <td>NaN</td>\n",
       "      <td>NaN</td>\n",
       "      <td>NaN</td>\n",
       "      <td>NaN</td>\n",
       "      <td>NaN</td>\n",
       "      <td>NaN</td>\n",
       "      <td>NaN</td>\n",
       "    </tr>\n",
       "    <tr>\n",
       "      <td>4</td>\n",
       "      <td>5</td>\n",
       "      <td>2019-05-03 13:18:15</td>\n",
       "      <td>2019-05-03 13:32:06</td>\n",
       "      <td>NaN</td>\n",
       "      <td>NaN</td>\n",
       "      <td>NaN</td>\n",
       "      <td>NaN</td>\n",
       "      <td>NaN</td>\n",
       "      <td>NaN</td>\n",
       "      <td>NaN</td>\n",
       "    </tr>\n",
       "  </tbody>\n",
       "</table>\n",
       "</div>"
      ],
      "text/plain": [
       "   key               Wire 1               Wire 2 Wire 3 Wire 4 Wire 5 Wire 6  \\\n",
       "0    1  2019-05-03 11:11:41                  NaN    NaN    NaN    NaN    NaN   \n",
       "1    2  2019-05-03 11:46:10                  NaN    NaN    NaN    NaN    NaN   \n",
       "2    3  2019-05-03 12:13:47                  NaN    NaN    NaN    NaN    NaN   \n",
       "3    4  2019-05-03 12:48:05                  NaN    NaN    NaN    NaN    NaN   \n",
       "4    5  2019-05-03 13:18:15  2019-05-03 13:32:06    NaN    NaN    NaN    NaN   \n",
       "\n",
       "  Wire 7 Wire 8 Wire 9  \n",
       "0    NaN    NaN    NaN  \n",
       "1    NaN    NaN    NaN  \n",
       "2    NaN    NaN    NaN  \n",
       "3    NaN    NaN    NaN  \n",
       "4    NaN    NaN    NaN  "
      ]
     },
     "execution_count": 16,
     "metadata": {},
     "output_type": "execute_result"
    }
   ],
   "source": [
    "wire_time_df.head()"
   ]
  },
  {
   "cell_type": "markdown",
   "metadata": {},
   "source": [
    "Initial review of the data shows a large number of NaN values that will need to be dealt with. The dataframes also need to be joined."
   ]
  },
  {
   "cell_type": "markdown",
   "metadata": {},
   "source": [
    "# 2. Preprocessing"
   ]
  },
  {
   "cell_type": "markdown",
   "metadata": {},
   "source": [
    "### Electrode preprocessing"
   ]
  },
  {
   "cell_type": "code",
   "execution_count": 17,
   "metadata": {},
   "outputs": [],
   "source": [
    "electrode_df['Arc heating start'] = pd.to_datetime(\n",
    "    electrode_df['Arc heating start'], format='%Y-%m-%d %H:%M:%S')\n",
    "electrode_df['Arc heating end'] = pd.to_datetime(\n",
    "    electrode_df['Arc heating end'], format='%Y-%m-%d %H:%M:%S')"
   ]
  },
  {
   "cell_type": "code",
   "execution_count": 18,
   "metadata": {},
   "outputs": [],
   "source": [
    "electrode_df['time_heating'] = (\n",
    "    electrode_df['Arc heating end'] - electrode_df['Arc heating start'])"
   ]
  },
  {
   "cell_type": "code",
   "execution_count": 19,
   "metadata": {},
   "outputs": [],
   "source": [
    "keys = []\n",
    "total_seconds = []\n",
    "avg_actives = []\n",
    "avg_reactives = []\n",
    "\n",
    "for key in range(1,3242):\n",
    "    keys.append(key)\n",
    "    interval = pd.to_timedelta(\n",
    "        electrode_df[electrode_df['key'] == key]['time_heating']).dt.total_seconds().sum()\n",
    "    total_seconds.append(interval)\n",
    "    avg_actives.append(electrode_df[electrode_df['key'] == key]['Active power'].mean())\n",
    "    avg_reactives.append(electrode_df[electrode_df['key'] == key]['Reactive power'].mean())\n",
    "    \n",
    "\n",
    "s1 = pd.Series(keys, name='key')\n",
    "s2 = pd.Series(total_seconds, name='total_seconds')\n",
    "s3 = pd.Series(avg_actives, name='avg_active_power')\n",
    "s4 = pd.Series(avg_reactives, name='avg_reactive_power')\n",
    "\n",
    "electrode_df_agg = pd.concat([s1, s2, s3, s4], axis=1)"
   ]
  },
  {
   "cell_type": "code",
   "execution_count": 20,
   "metadata": {},
   "outputs": [
    {
     "data": {
      "text/html": [
       "<div>\n",
       "<style scoped>\n",
       "    .dataframe tbody tr th:only-of-type {\n",
       "        vertical-align: middle;\n",
       "    }\n",
       "\n",
       "    .dataframe tbody tr th {\n",
       "        vertical-align: top;\n",
       "    }\n",
       "\n",
       "    .dataframe thead th {\n",
       "        text-align: right;\n",
       "    }\n",
       "</style>\n",
       "<table border=\"1\" class=\"dataframe\">\n",
       "  <thead>\n",
       "    <tr style=\"text-align: right;\">\n",
       "      <th></th>\n",
       "      <th>key</th>\n",
       "      <th>total_seconds</th>\n",
       "      <th>avg_active_power</th>\n",
       "      <th>avg_reactive_power</th>\n",
       "    </tr>\n",
       "  </thead>\n",
       "  <tbody>\n",
       "    <tr>\n",
       "      <td>0</td>\n",
       "      <td>1</td>\n",
       "      <td>1098.0</td>\n",
       "      <td>0.975629</td>\n",
       "      <td>0.636648</td>\n",
       "    </tr>\n",
       "    <tr>\n",
       "      <td>1</td>\n",
       "      <td>2</td>\n",
       "      <td>811.0</td>\n",
       "      <td>0.763150</td>\n",
       "      <td>0.499528</td>\n",
       "    </tr>\n",
       "    <tr>\n",
       "      <td>2</td>\n",
       "      <td>3</td>\n",
       "      <td>655.0</td>\n",
       "      <td>0.505176</td>\n",
       "      <td>0.319815</td>\n",
       "    </tr>\n",
       "    <tr>\n",
       "      <td>3</td>\n",
       "      <td>4</td>\n",
       "      <td>741.0</td>\n",
       "      <td>0.802313</td>\n",
       "      <td>0.515074</td>\n",
       "    </tr>\n",
       "    <tr>\n",
       "      <td>4</td>\n",
       "      <td>5</td>\n",
       "      <td>869.0</td>\n",
       "      <td>0.836793</td>\n",
       "      <td>0.563161</td>\n",
       "    </tr>\n",
       "  </tbody>\n",
       "</table>\n",
       "</div>"
      ],
      "text/plain": [
       "   key  total_seconds  avg_active_power  avg_reactive_power\n",
       "0    1         1098.0          0.975629            0.636648\n",
       "1    2          811.0          0.763150            0.499528\n",
       "2    3          655.0          0.505176            0.319815\n",
       "3    4          741.0          0.802313            0.515074\n",
       "4    5          869.0          0.836793            0.563161"
      ]
     },
     "execution_count": 20,
     "metadata": {},
     "output_type": "execute_result"
    }
   ],
   "source": [
    "electrode_df_agg.head()"
   ]
  },
  {
   "cell_type": "code",
   "execution_count": 21,
   "metadata": {},
   "outputs": [],
   "source": [
    "electrode_df_agg.set_index('key', inplace=True)"
   ]
  },
  {
   "cell_type": "markdown",
   "metadata": {},
   "source": [
    "To preprocess the electrode readings, I converted the time readings to the datetime datatype. I also needed to find a way to both aggregate the data and make it numerical, so that I could train a regression model on it. To do so, I first found the time elapsed between \"Arc heating start\" and \"Arc heating end\" to create a new feature that measured the time spent heating, for each observation. Since I could only have one row/observation for each batch key, and this dataset contained multiple readings for many of the batches, I added readings together if there were more than one. The final result was a feature measuring the total heating time for every batch. To aggregate the average active and reactive power readings, I took their means.\n",
    "\n",
    "Since I would be joining the datasets together at the end. I turned the `key` value into the index. I did this for all of the following datasets as well. "
   ]
  },
  {
   "cell_type": "markdown",
   "metadata": {},
   "source": [
    "### Bulk supply/delivery preprocessing"
   ]
  },
  {
   "cell_type": "code",
   "execution_count": 22,
   "metadata": {},
   "outputs": [],
   "source": [
    "bulk_delivery_df[[\n",
    "    'Bulk 3', 'Bulk 4', 'Bulk 12', \n",
    "    'Bulk 13', 'Bulk 14', 'Bulk 15']] = bulk_delivery_df[[\n",
    "                                            'Bulk 3', 'Bulk 4', 'Bulk 12', \n",
    "                                            'Bulk 13', 'Bulk 14', 'Bulk 15']].apply(\n",
    "                                                    pd.to_datetime, format='%Y-%m-%d %H:%M:%S')"
   ]
  },
  {
   "cell_type": "code",
   "execution_count": 23,
   "metadata": {},
   "outputs": [],
   "source": [
    "bulk_delivery_2 = bulk_delivery_df[[\n",
    "    'key', 'Bulk 3', 'Bulk 4', 'Bulk 12', 'Bulk 13', 'Bulk 14', 'Bulk 15']].copy()"
   ]
  },
  {
   "cell_type": "code",
   "execution_count": 24,
   "metadata": {},
   "outputs": [],
   "source": [
    "bulk_supply_2 = bulk_supply_df[[\n",
    "    'key', 'Bulk 3', 'Bulk 4', 'Bulk 12', 'Bulk 13', 'Bulk 14', 'Bulk 15']].copy()"
   ]
  },
  {
   "cell_type": "code",
   "execution_count": 25,
   "metadata": {},
   "outputs": [],
   "source": [
    "bulk_delivery_2.set_index('key', inplace=True)\n",
    "bulk_supply_2.set_index('key', inplace=True)"
   ]
  },
  {
   "cell_type": "code",
   "execution_count": 26,
   "metadata": {},
   "outputs": [],
   "source": [
    "bulk_delivery_2.columns = [\n",
    "    'bulk3_delivery', 'bulk4_delivery', 'bulk12_delivery', 'bulk13_delivery',\n",
    "    'bulk14_delivery', 'bulk15_delivery']\n",
    "bulk_supply_2.columns = ['bulk3_supply', 'bulk4_supply', 'bulk12_supply', 'bulk13_supply', \n",
    "                         'bulk14_supply', 'bulk15_supply']"
   ]
  },
  {
   "cell_type": "markdown",
   "metadata": {},
   "source": [
    "### Wire preprocessing"
   ]
  },
  {
   "cell_type": "code",
   "execution_count": 27,
   "metadata": {},
   "outputs": [],
   "source": [
    "wire_time_df[['Wire 1', 'Wire 2']] = wire_time_df[['Wire 1', 'Wire 2']].apply(\n",
    "                                                    pd.to_datetime, format='%Y-%m-%d %H:%M:%S')"
   ]
  },
  {
   "cell_type": "code",
   "execution_count": 28,
   "metadata": {},
   "outputs": [],
   "source": [
    "wire_vol_2 = wire_vol_df[['key','Wire 1', 'Wire 2']].copy()"
   ]
  },
  {
   "cell_type": "code",
   "execution_count": 29,
   "metadata": {},
   "outputs": [],
   "source": [
    "wire_time_2 = wire_time_df[['key','Wire 1', 'Wire 2']].copy() "
   ]
  },
  {
   "cell_type": "code",
   "execution_count": 30,
   "metadata": {},
   "outputs": [],
   "source": [
    "wire_vol_2.set_index('key', inplace=True)\n",
    "wire_time_2.set_index('key', inplace=True)"
   ]
  },
  {
   "cell_type": "code",
   "execution_count": 31,
   "metadata": {},
   "outputs": [],
   "source": [
    "wire_vol_2.columns = ['wire1_volume', 'wire2_volume']\n",
    "wire_time_2.columns = ['wire1_time', 'wire2_time']"
   ]
  },
  {
   "cell_type": "markdown",
   "metadata": {},
   "source": [
    "To preprocess the bulk delivery and wire readings, I converted the appropriate columns to the datetime datatype, eliminated the ones that were almost entirely NaN values, and renamed the columns. "
   ]
  },
  {
   "cell_type": "markdown",
   "metadata": {},
   "source": [
    "### Temp preprocessing"
   ]
  },
  {
   "cell_type": "code",
   "execution_count": 32,
   "metadata": {},
   "outputs": [],
   "source": [
    "temp_df['Sampling time'] = pd.to_datetime(temp_df['Sampling time'], format='%Y-%m-%d %H:%M:%S')"
   ]
  },
  {
   "cell_type": "code",
   "execution_count": 33,
   "metadata": {},
   "outputs": [],
   "source": [
    "keys = []\n",
    "first_temp_times = []\n",
    "first_temp_readings = []\n",
    "last_temp_times = []\n",
    "last_temp_readings = []\n",
    "\n",
    "for key in temp_df['key'].unique():\n",
    "    keys.append(key)\n",
    "    batch = temp_df[temp_df['key'] == key]\n",
    "    \n",
    "    first_temp_times.append(batch.iloc[0, 1])\n",
    "    first_temp_readings.append(batch.iloc[0, 2])\n",
    "    last_temp_times.append(batch.iloc[-1, 1])\n",
    "    last_temp_readings.append(batch.iloc[-1, 2])\n",
    "    \n",
    "s1 = pd.Series(keys, name='key')\n",
    "s2 = pd.Series(first_temp_times, name='first_reading_time')\n",
    "s3 = pd.Series(first_temp_readings, name='first_temp')\n",
    "s4 = pd.Series(last_temp_times, name='last_reading_time')\n",
    "s5 = pd.Series(last_temp_readings, name='last_temp')\n",
    "\n",
    "temp_df_2 = pd.concat([s1, s2, s3, s4, s5], axis=1)"
   ]
  },
  {
   "cell_type": "code",
   "execution_count": 34,
   "metadata": {},
   "outputs": [
    {
     "data": {
      "text/html": [
       "<div>\n",
       "<style scoped>\n",
       "    .dataframe tbody tr th:only-of-type {\n",
       "        vertical-align: middle;\n",
       "    }\n",
       "\n",
       "    .dataframe tbody tr th {\n",
       "        vertical-align: top;\n",
       "    }\n",
       "\n",
       "    .dataframe thead th {\n",
       "        text-align: right;\n",
       "    }\n",
       "</style>\n",
       "<table border=\"1\" class=\"dataframe\">\n",
       "  <thead>\n",
       "    <tr style=\"text-align: right;\">\n",
       "      <th></th>\n",
       "      <th>key</th>\n",
       "      <th>first_reading_time</th>\n",
       "      <th>first_temp</th>\n",
       "      <th>last_reading_time</th>\n",
       "      <th>last_temp</th>\n",
       "    </tr>\n",
       "  </thead>\n",
       "  <tbody>\n",
       "    <tr>\n",
       "      <td>0</td>\n",
       "      <td>1</td>\n",
       "      <td>2019-05-03 11:16:18</td>\n",
       "      <td>1571.0</td>\n",
       "      <td>2019-05-03 11:30:39</td>\n",
       "      <td>1613.0</td>\n",
       "    </tr>\n",
       "    <tr>\n",
       "      <td>1</td>\n",
       "      <td>2</td>\n",
       "      <td>2019-05-03 11:37:27</td>\n",
       "      <td>1581.0</td>\n",
       "      <td>2019-05-03 11:59:12</td>\n",
       "      <td>1602.0</td>\n",
       "    </tr>\n",
       "    <tr>\n",
       "      <td>2</td>\n",
       "      <td>3</td>\n",
       "      <td>2019-05-03 12:13:17</td>\n",
       "      <td>1596.0</td>\n",
       "      <td>2019-05-03 12:34:57</td>\n",
       "      <td>1599.0</td>\n",
       "    </tr>\n",
       "    <tr>\n",
       "      <td>3</td>\n",
       "      <td>4</td>\n",
       "      <td>2019-05-03 12:52:57</td>\n",
       "      <td>1601.0</td>\n",
       "      <td>2019-05-03 12:59:25</td>\n",
       "      <td>1625.0</td>\n",
       "    </tr>\n",
       "    <tr>\n",
       "      <td>4</td>\n",
       "      <td>5</td>\n",
       "      <td>2019-05-03 13:23:19</td>\n",
       "      <td>1576.0</td>\n",
       "      <td>2019-05-03 13:36:01</td>\n",
       "      <td>1602.0</td>\n",
       "    </tr>\n",
       "  </tbody>\n",
       "</table>\n",
       "</div>"
      ],
      "text/plain": [
       "   key  first_reading_time  first_temp   last_reading_time  last_temp\n",
       "0    1 2019-05-03 11:16:18      1571.0 2019-05-03 11:30:39     1613.0\n",
       "1    2 2019-05-03 11:37:27      1581.0 2019-05-03 11:59:12     1602.0\n",
       "2    3 2019-05-03 12:13:17      1596.0 2019-05-03 12:34:57     1599.0\n",
       "3    4 2019-05-03 12:52:57      1601.0 2019-05-03 12:59:25     1625.0\n",
       "4    5 2019-05-03 13:23:19      1576.0 2019-05-03 13:36:01     1602.0"
      ]
     },
     "execution_count": 34,
     "metadata": {},
     "output_type": "execute_result"
    }
   ],
   "source": [
    "temp_df_2.head()"
   ]
  },
  {
   "cell_type": "code",
   "execution_count": 35,
   "metadata": {},
   "outputs": [],
   "source": [
    "temp_df_2.set_index(keys='key', inplace=True)"
   ]
  },
  {
   "cell_type": "markdown",
   "metadata": {},
   "source": [
    "Similar to the electrode dataset, the one for temperature readings had multiple observations for each batch. Since I only needed the first and last readings, I extracted those to create one row with both the time and temp values. "
   ]
  },
  {
   "cell_type": "markdown",
   "metadata": {},
   "source": [
    "## Join all datasets"
   ]
  },
  {
   "cell_type": "code",
   "execution_count": 36,
   "metadata": {},
   "outputs": [],
   "source": [
    "gas_df.set_index('key', inplace=True)"
   ]
  },
  {
   "cell_type": "code",
   "execution_count": 37,
   "metadata": {},
   "outputs": [],
   "source": [
    "df_full = temp_df_2.join([\n",
    "    electrode_df_agg, bulk_delivery_2, bulk_supply_2, \n",
    "    gas_df, wire_vol_2, wire_time_2])"
   ]
  },
  {
   "cell_type": "code",
   "execution_count": 38,
   "metadata": {},
   "outputs": [
    {
     "name": "stdout",
     "output_type": "stream",
     "text": [
      "<class 'pandas.core.frame.DataFrame'>\n",
      "Int64Index: 3216 entries, 1 to 3241\n",
      "Data columns (total 24 columns):\n",
      "first_reading_time    3216 non-null datetime64[ns]\n",
      "first_temp            3216 non-null float64\n",
      "last_reading_time     3216 non-null datetime64[ns]\n",
      "last_temp             2477 non-null float64\n",
      "total_seconds         3216 non-null float64\n",
      "avg_active_power      3214 non-null float64\n",
      "avg_reactive_power    3214 non-null float64\n",
      "bulk3_delivery        1298 non-null datetime64[ns]\n",
      "bulk4_delivery        1014 non-null datetime64[ns]\n",
      "bulk12_delivery       2450 non-null datetime64[ns]\n",
      "bulk13_delivery       18 non-null datetime64[ns]\n",
      "bulk14_delivery       2806 non-null datetime64[ns]\n",
      "bulk15_delivery       2248 non-null datetime64[ns]\n",
      "bulk3_supply          1298 non-null float64\n",
      "bulk4_supply          1014 non-null float64\n",
      "bulk12_supply         2450 non-null float64\n",
      "bulk13_supply         18 non-null float64\n",
      "bulk14_supply         2806 non-null float64\n",
      "bulk15_supply         2248 non-null float64\n",
      "Gas 1                 3214 non-null float64\n",
      "wire1_volume          3055 non-null float64\n",
      "wire2_volume          1079 non-null float64\n",
      "wire1_time            3055 non-null datetime64[ns]\n",
      "wire2_time            1079 non-null datetime64[ns]\n",
      "dtypes: datetime64[ns](10), float64(14)\n",
      "memory usage: 788.1 KB\n"
     ]
    }
   ],
   "source": [
    "df_full.info()"
   ]
  },
  {
   "cell_type": "markdown",
   "metadata": {},
   "source": [
    "In order to do some final preprocessing, and to prepare the data for a model, I joined all of the data into one dataframe. Each row represents one batch. "
   ]
  },
  {
   "cell_type": "markdown",
   "metadata": {},
   "source": [
    "## Final preprocessing of joined dataframe"
   ]
  },
  {
   "cell_type": "code",
   "execution_count": 39,
   "metadata": {},
   "outputs": [],
   "source": [
    "def get_seconds_since_initial_temp_reading(time):\n",
    "    time_diff = time - df_full['first_reading_time']\n",
    "    return pd.to_timedelta(time_diff).dt.total_seconds()"
   ]
  },
  {
   "cell_type": "code",
   "execution_count": 40,
   "metadata": {},
   "outputs": [],
   "source": [
    "time_cols = ['bulk3_delivery', 'bulk4_delivery', 'bulk12_delivery', 'bulk13_delivery',\n",
    "    'bulk14_delivery', 'bulk15_delivery', 'wire1_time', 'wire2_time']\n",
    "\n",
    "for col in time_cols:\n",
    "    df_full[col] = df_full[col].apply(get_seconds_since_initial_temp_reading)"
   ]
  },
  {
   "cell_type": "code",
   "execution_count": 41,
   "metadata": {},
   "outputs": [
    {
     "data": {
      "text/html": [
       "<div>\n",
       "<style scoped>\n",
       "    .dataframe tbody tr th:only-of-type {\n",
       "        vertical-align: middle;\n",
       "    }\n",
       "\n",
       "    .dataframe tbody tr th {\n",
       "        vertical-align: top;\n",
       "    }\n",
       "\n",
       "    .dataframe thead th {\n",
       "        text-align: right;\n",
       "    }\n",
       "</style>\n",
       "<table border=\"1\" class=\"dataframe\">\n",
       "  <thead>\n",
       "    <tr style=\"text-align: right;\">\n",
       "      <th></th>\n",
       "      <th>first_reading_time</th>\n",
       "      <th>first_temp</th>\n",
       "      <th>last_reading_time</th>\n",
       "      <th>last_temp</th>\n",
       "      <th>total_seconds</th>\n",
       "      <th>avg_active_power</th>\n",
       "      <th>avg_reactive_power</th>\n",
       "      <th>bulk3_delivery</th>\n",
       "      <th>bulk4_delivery</th>\n",
       "      <th>bulk12_delivery</th>\n",
       "      <th>...</th>\n",
       "      <th>bulk4_supply</th>\n",
       "      <th>bulk12_supply</th>\n",
       "      <th>bulk13_supply</th>\n",
       "      <th>bulk14_supply</th>\n",
       "      <th>bulk15_supply</th>\n",
       "      <th>Gas 1</th>\n",
       "      <th>wire1_volume</th>\n",
       "      <th>wire2_volume</th>\n",
       "      <th>wire1_time</th>\n",
       "      <th>wire2_time</th>\n",
       "    </tr>\n",
       "    <tr>\n",
       "      <th>key</th>\n",
       "      <th></th>\n",
       "      <th></th>\n",
       "      <th></th>\n",
       "      <th></th>\n",
       "      <th></th>\n",
       "      <th></th>\n",
       "      <th></th>\n",
       "      <th></th>\n",
       "      <th></th>\n",
       "      <th></th>\n",
       "      <th></th>\n",
       "      <th></th>\n",
       "      <th></th>\n",
       "      <th></th>\n",
       "      <th></th>\n",
       "      <th></th>\n",
       "      <th></th>\n",
       "      <th></th>\n",
       "      <th></th>\n",
       "      <th></th>\n",
       "      <th></th>\n",
       "    </tr>\n",
       "  </thead>\n",
       "  <tbody>\n",
       "    <tr>\n",
       "      <td>1</td>\n",
       "      <td>2019-05-03 11:16:18</td>\n",
       "      <td>1571.0</td>\n",
       "      <td>2019-05-03 11:30:39</td>\n",
       "      <td>1613.0</td>\n",
       "      <td>1098.0</td>\n",
       "      <td>0.975629</td>\n",
       "      <td>0.636648</td>\n",
       "      <td>NaN</td>\n",
       "      <td>312.0</td>\n",
       "      <td>-746.0</td>\n",
       "      <td>...</td>\n",
       "      <td>43.0</td>\n",
       "      <td>206.0</td>\n",
       "      <td>NaN</td>\n",
       "      <td>150.0</td>\n",
       "      <td>154.0</td>\n",
       "      <td>29.749986</td>\n",
       "      <td>60.059998</td>\n",
       "      <td>NaN</td>\n",
       "      <td>-277.0</td>\n",
       "      <td>NaN</td>\n",
       "    </tr>\n",
       "  </tbody>\n",
       "</table>\n",
       "<p>1 rows × 24 columns</p>\n",
       "</div>"
      ],
      "text/plain": [
       "     first_reading_time  first_temp   last_reading_time  last_temp  \\\n",
       "key                                                                  \n",
       "1   2019-05-03 11:16:18      1571.0 2019-05-03 11:30:39     1613.0   \n",
       "\n",
       "     total_seconds  avg_active_power  avg_reactive_power  bulk3_delivery  \\\n",
       "key                                                                        \n",
       "1           1098.0          0.975629            0.636648             NaN   \n",
       "\n",
       "     bulk4_delivery  bulk12_delivery  ...  bulk4_supply  bulk12_supply  \\\n",
       "key                                   ...                                \n",
       "1             312.0           -746.0  ...          43.0          206.0   \n",
       "\n",
       "     bulk13_supply  bulk14_supply  bulk15_supply      Gas 1  wire1_volume  \\\n",
       "key                                                                         \n",
       "1              NaN          150.0          154.0  29.749986     60.059998   \n",
       "\n",
       "     wire2_volume  wire1_time  wire2_time  \n",
       "key                                        \n",
       "1             NaN      -277.0         NaN  \n",
       "\n",
       "[1 rows x 24 columns]"
      ]
     },
     "execution_count": 41,
     "metadata": {},
     "output_type": "execute_result"
    }
   ],
   "source": [
    "df_full.head(1)"
   ]
  },
  {
   "cell_type": "markdown",
   "metadata": {},
   "source": [
    "Once that the data was joined together, I changed the time values to numerical ones. To do so, I calculated the time since the first temperature reading for each column. Ultimately these features still represent time elapsing - in total seconds since the beginning of processing for each batch."
   ]
  },
  {
   "cell_type": "code",
   "execution_count": 42,
   "metadata": {},
   "outputs": [
    {
     "name": "stdout",
     "output_type": "stream",
     "text": [
      "<class 'pandas.core.frame.DataFrame'>\n",
      "Int64Index: 3216 entries, 1 to 3241\n",
      "Data columns (total 24 columns):\n",
      "first_reading_time    3216 non-null datetime64[ns]\n",
      "first_temp            3216 non-null float64\n",
      "last_reading_time     3216 non-null datetime64[ns]\n",
      "last_temp             2477 non-null float64\n",
      "total_seconds         3216 non-null float64\n",
      "avg_active_power      3214 non-null float64\n",
      "avg_reactive_power    3214 non-null float64\n",
      "bulk3_delivery        1298 non-null float64\n",
      "bulk4_delivery        1014 non-null float64\n",
      "bulk12_delivery       2450 non-null float64\n",
      "bulk13_delivery       18 non-null float64\n",
      "bulk14_delivery       2806 non-null float64\n",
      "bulk15_delivery       2248 non-null float64\n",
      "bulk3_supply          1298 non-null float64\n",
      "bulk4_supply          1014 non-null float64\n",
      "bulk12_supply         2450 non-null float64\n",
      "bulk13_supply         18 non-null float64\n",
      "bulk14_supply         2806 non-null float64\n",
      "bulk15_supply         2248 non-null float64\n",
      "Gas 1                 3214 non-null float64\n",
      "wire1_volume          3055 non-null float64\n",
      "wire2_volume          1079 non-null float64\n",
      "wire1_time            3055 non-null float64\n",
      "wire2_time            1079 non-null float64\n",
      "dtypes: datetime64[ns](2), float64(22)\n",
      "memory usage: 788.1 KB\n"
     ]
    }
   ],
   "source": [
    "df_full.info()"
   ]
  },
  {
   "cell_type": "code",
   "execution_count": 43,
   "metadata": {},
   "outputs": [],
   "source": [
    "df_full = df_full.drop(['bulk3_delivery', 'bulk4_delivery', 'bulk3_supply', 'bulk4_supply',\n",
    "             'bulk13_supply', 'bulk13_delivery', 'wire2_volume', 'wire2_time'], axis=1)"
   ]
  },
  {
   "cell_type": "code",
   "execution_count": 44,
   "metadata": {},
   "outputs": [],
   "source": [
    "df_full = df_full[df_full['last_temp'].notnull()]"
   ]
  },
  {
   "cell_type": "code",
   "execution_count": 45,
   "metadata": {},
   "outputs": [],
   "source": [
    "na_dict = {'avg_reactive_power' : df_full['avg_reactive_power'].mean(),\n",
    "          'bulk12_delivery' : df_full['bulk12_delivery'].mean(),\n",
    "          'bulk14_delivery': df_full['bulk14_delivery'].mean(),\n",
    "          'bulk15_delivery' : df_full['bulk15_delivery'].mean(),\n",
    "          'bulk12_supply' : 0,\n",
    "          'bulk14_supply' : 0,\n",
    "          'bulk15_supply' : 0,\n",
    "          'Gas 1' : 0,\n",
    "          'wire1_volume' : 0,\n",
    "          'wire1_time' : df_full['wire1_volume'].mean()}\n",
    "\n",
    "df_full = df_full.fillna(value=na_dict)"
   ]
  },
  {
   "cell_type": "code",
   "execution_count": 46,
   "metadata": {},
   "outputs": [
    {
     "name": "stdout",
     "output_type": "stream",
     "text": [
      "<class 'pandas.core.frame.DataFrame'>\n",
      "Int64Index: 2477 entries, 1 to 2499\n",
      "Data columns (total 16 columns):\n",
      "first_reading_time    2477 non-null datetime64[ns]\n",
      "first_temp            2477 non-null float64\n",
      "last_reading_time     2477 non-null datetime64[ns]\n",
      "last_temp             2477 non-null float64\n",
      "total_seconds         2477 non-null float64\n",
      "avg_active_power      2475 non-null float64\n",
      "avg_reactive_power    2477 non-null float64\n",
      "bulk12_delivery       2477 non-null float64\n",
      "bulk14_delivery       2477 non-null float64\n",
      "bulk15_delivery       2477 non-null float64\n",
      "bulk12_supply         2477 non-null float64\n",
      "bulk14_supply         2477 non-null float64\n",
      "bulk15_supply         2477 non-null float64\n",
      "Gas 1                 2477 non-null float64\n",
      "wire1_volume          2477 non-null float64\n",
      "wire1_time            2477 non-null float64\n",
      "dtypes: datetime64[ns](2), float64(14)\n",
      "memory usage: 329.0 KB\n"
     ]
    }
   ],
   "source": [
    "df_full.info()"
   ]
  },
  {
   "cell_type": "markdown",
   "metadata": {},
   "source": [
    "Since I still had a huge number of NaN values in my data, I dropped more columns that had the highest ratio of them. For the ones that I didn't drop alltogether, I did some imputation. I also dropped all rows where the last temperature reading was missing. Since this is the target value, it would not be helpful to include data that lacks it. \n",
    "\n",
    "For the columns representing the volume of a physical object, I replaced missing values with zero. In my opinon, an absent reading probably means that material wasn't added, so zero is an accurate representation of nothing. For all other columns I imputed the mean. "
   ]
  },
  {
   "cell_type": "markdown",
   "metadata": {},
   "source": [
    "# 3. Further EDA"
   ]
  },
  {
   "cell_type": "code",
   "execution_count": 47,
   "metadata": {},
   "outputs": [
    {
     "name": "stdout",
     "output_type": "stream",
     "text": [
      "first_temp            0.376690\n",
      "last_temp             1.000000\n",
      "total_seconds         0.207950\n",
      "avg_active_power      0.315809\n",
      "avg_reactive_power    0.032415\n",
      "bulk12_delivery      -0.031387\n",
      "bulk14_delivery      -0.056612\n",
      "bulk15_delivery      -0.054435\n",
      "bulk12_supply         0.161764\n",
      "bulk14_supply         0.007057\n",
      "bulk15_supply         0.008312\n",
      "Gas 1                -0.032639\n",
      "wire1_volume         -0.065547\n",
      "wire1_time           -0.248266\n",
      "Name: last_temp, dtype: float64\n"
     ]
    }
   ],
   "source": [
    "corrs = df_full.corr()\n",
    "\n",
    "print(corrs.iloc[:, 1])"
   ]
  },
  {
   "cell_type": "markdown",
   "metadata": {},
   "source": [
    "For some final EDA I wanted to see how variables correlated. That way I could reduce multicollinearity, and get an idea of what kind of regression model would be best. I found that the target value was most correlated with the first temperature reading, total seconds of electrode power, average active electrode power, and wire 1 time. Additionally, the target has a weak inverse relationship with the bulk deliverys, gas 1, and wire volume/time. This probably reflects that as more new material is introduced, the temperature drops. "
   ]
  },
  {
   "cell_type": "code",
   "execution_count": 48,
   "metadata": {},
   "outputs": [
    {
     "data": {
      "text/html": [
       "<div>\n",
       "<style scoped>\n",
       "    .dataframe tbody tr th:only-of-type {\n",
       "        vertical-align: middle;\n",
       "    }\n",
       "\n",
       "    .dataframe tbody tr th {\n",
       "        vertical-align: top;\n",
       "    }\n",
       "\n",
       "    .dataframe thead th {\n",
       "        text-align: right;\n",
       "    }\n",
       "</style>\n",
       "<table border=\"1\" class=\"dataframe\">\n",
       "  <thead>\n",
       "    <tr style=\"text-align: right;\">\n",
       "      <th></th>\n",
       "      <th>first_temp</th>\n",
       "      <th>last_temp</th>\n",
       "      <th>total_seconds</th>\n",
       "      <th>avg_active_power</th>\n",
       "      <th>avg_reactive_power</th>\n",
       "      <th>bulk12_delivery</th>\n",
       "      <th>bulk14_delivery</th>\n",
       "      <th>bulk15_delivery</th>\n",
       "      <th>bulk12_supply</th>\n",
       "      <th>bulk14_supply</th>\n",
       "      <th>bulk15_supply</th>\n",
       "      <th>Gas 1</th>\n",
       "      <th>wire1_volume</th>\n",
       "      <th>wire1_time</th>\n",
       "    </tr>\n",
       "  </thead>\n",
       "  <tbody>\n",
       "    <tr>\n",
       "      <td>first_temp</td>\n",
       "      <td>1.000000</td>\n",
       "      <td>0.376690</td>\n",
       "      <td>-0.295217</td>\n",
       "      <td>-0.303837</td>\n",
       "      <td>-0.005870</td>\n",
       "      <td>-0.011600</td>\n",
       "      <td>-0.009961</td>\n",
       "      <td>-0.022572</td>\n",
       "      <td>-0.068612</td>\n",
       "      <td>-0.154577</td>\n",
       "      <td>-0.115536</td>\n",
       "      <td>-0.001322</td>\n",
       "      <td>0.071969</td>\n",
       "      <td>-0.089355</td>\n",
       "    </tr>\n",
       "    <tr>\n",
       "      <td>last_temp</td>\n",
       "      <td>0.376690</td>\n",
       "      <td>1.000000</td>\n",
       "      <td>0.207950</td>\n",
       "      <td>0.315809</td>\n",
       "      <td>0.032415</td>\n",
       "      <td>-0.031387</td>\n",
       "      <td>-0.056612</td>\n",
       "      <td>-0.054435</td>\n",
       "      <td>0.161764</td>\n",
       "      <td>0.007057</td>\n",
       "      <td>0.008312</td>\n",
       "      <td>-0.032639</td>\n",
       "      <td>-0.065547</td>\n",
       "      <td>-0.248266</td>\n",
       "    </tr>\n",
       "    <tr>\n",
       "      <td>total_seconds</td>\n",
       "      <td>-0.295217</td>\n",
       "      <td>0.207950</td>\n",
       "      <td>1.000000</td>\n",
       "      <td>0.552910</td>\n",
       "      <td>0.044348</td>\n",
       "      <td>-0.023615</td>\n",
       "      <td>-0.031228</td>\n",
       "      <td>-0.023905</td>\n",
       "      <td>0.473242</td>\n",
       "      <td>0.463047</td>\n",
       "      <td>0.306849</td>\n",
       "      <td>0.400571</td>\n",
       "      <td>0.060031</td>\n",
       "      <td>-0.021364</td>\n",
       "    </tr>\n",
       "    <tr>\n",
       "      <td>avg_active_power</td>\n",
       "      <td>-0.303837</td>\n",
       "      <td>0.315809</td>\n",
       "      <td>0.552910</td>\n",
       "      <td>1.000000</td>\n",
       "      <td>0.059903</td>\n",
       "      <td>0.018931</td>\n",
       "      <td>0.010927</td>\n",
       "      <td>0.005751</td>\n",
       "      <td>0.379135</td>\n",
       "      <td>0.324592</td>\n",
       "      <td>0.270746</td>\n",
       "      <td>0.077271</td>\n",
       "      <td>-0.171806</td>\n",
       "      <td>-0.070118</td>\n",
       "    </tr>\n",
       "    <tr>\n",
       "      <td>avg_reactive_power</td>\n",
       "      <td>-0.005870</td>\n",
       "      <td>0.032415</td>\n",
       "      <td>0.044348</td>\n",
       "      <td>0.059903</td>\n",
       "      <td>1.000000</td>\n",
       "      <td>0.002840</td>\n",
       "      <td>-0.025608</td>\n",
       "      <td>0.002033</td>\n",
       "      <td>0.041249</td>\n",
       "      <td>0.000684</td>\n",
       "      <td>0.036608</td>\n",
       "      <td>0.000958</td>\n",
       "      <td>0.001318</td>\n",
       "      <td>-0.027378</td>\n",
       "    </tr>\n",
       "    <tr>\n",
       "      <td>bulk12_delivery</td>\n",
       "      <td>-0.011600</td>\n",
       "      <td>-0.031387</td>\n",
       "      <td>-0.023615</td>\n",
       "      <td>0.018931</td>\n",
       "      <td>0.002840</td>\n",
       "      <td>1.000000</td>\n",
       "      <td>0.930835</td>\n",
       "      <td>0.929148</td>\n",
       "      <td>0.041664</td>\n",
       "      <td>-0.105196</td>\n",
       "      <td>-0.016255</td>\n",
       "      <td>-0.047776</td>\n",
       "      <td>-0.025694</td>\n",
       "      <td>0.802131</td>\n",
       "    </tr>\n",
       "    <tr>\n",
       "      <td>bulk14_delivery</td>\n",
       "      <td>-0.009961</td>\n",
       "      <td>-0.056612</td>\n",
       "      <td>-0.031228</td>\n",
       "      <td>0.010927</td>\n",
       "      <td>-0.025608</td>\n",
       "      <td>0.930835</td>\n",
       "      <td>1.000000</td>\n",
       "      <td>0.894393</td>\n",
       "      <td>0.029247</td>\n",
       "      <td>-0.101933</td>\n",
       "      <td>-0.042444</td>\n",
       "      <td>-0.039148</td>\n",
       "      <td>-0.016626</td>\n",
       "      <td>0.861594</td>\n",
       "    </tr>\n",
       "    <tr>\n",
       "      <td>bulk15_delivery</td>\n",
       "      <td>-0.022572</td>\n",
       "      <td>-0.054435</td>\n",
       "      <td>-0.023905</td>\n",
       "      <td>0.005751</td>\n",
       "      <td>0.002033</td>\n",
       "      <td>0.929148</td>\n",
       "      <td>0.894393</td>\n",
       "      <td>1.000000</td>\n",
       "      <td>0.018468</td>\n",
       "      <td>-0.062981</td>\n",
       "      <td>-0.057174</td>\n",
       "      <td>-0.021206</td>\n",
       "      <td>-0.028978</td>\n",
       "      <td>0.795554</td>\n",
       "    </tr>\n",
       "    <tr>\n",
       "      <td>bulk12_supply</td>\n",
       "      <td>-0.068612</td>\n",
       "      <td>0.161764</td>\n",
       "      <td>0.473242</td>\n",
       "      <td>0.379135</td>\n",
       "      <td>0.041249</td>\n",
       "      <td>0.041664</td>\n",
       "      <td>0.029247</td>\n",
       "      <td>0.018468</td>\n",
       "      <td>1.000000</td>\n",
       "      <td>0.505997</td>\n",
       "      <td>0.607762</td>\n",
       "      <td>0.228350</td>\n",
       "      <td>0.170573</td>\n",
       "      <td>0.041341</td>\n",
       "    </tr>\n",
       "    <tr>\n",
       "      <td>bulk14_supply</td>\n",
       "      <td>-0.154577</td>\n",
       "      <td>0.007057</td>\n",
       "      <td>0.463047</td>\n",
       "      <td>0.324592</td>\n",
       "      <td>0.000684</td>\n",
       "      <td>-0.105196</td>\n",
       "      <td>-0.101933</td>\n",
       "      <td>-0.062981</td>\n",
       "      <td>0.505997</td>\n",
       "      <td>1.000000</td>\n",
       "      <td>0.308339</td>\n",
       "      <td>0.281024</td>\n",
       "      <td>0.001551</td>\n",
       "      <td>-0.065101</td>\n",
       "    </tr>\n",
       "    <tr>\n",
       "      <td>bulk15_supply</td>\n",
       "      <td>-0.115536</td>\n",
       "      <td>0.008312</td>\n",
       "      <td>0.306849</td>\n",
       "      <td>0.270746</td>\n",
       "      <td>0.036608</td>\n",
       "      <td>-0.016255</td>\n",
       "      <td>-0.042444</td>\n",
       "      <td>-0.057174</td>\n",
       "      <td>0.607762</td>\n",
       "      <td>0.308339</td>\n",
       "      <td>1.000000</td>\n",
       "      <td>0.084579</td>\n",
       "      <td>0.205748</td>\n",
       "      <td>0.043216</td>\n",
       "    </tr>\n",
       "    <tr>\n",
       "      <td>Gas 1</td>\n",
       "      <td>-0.001322</td>\n",
       "      <td>-0.032639</td>\n",
       "      <td>0.400571</td>\n",
       "      <td>0.077271</td>\n",
       "      <td>0.000958</td>\n",
       "      <td>-0.047776</td>\n",
       "      <td>-0.039148</td>\n",
       "      <td>-0.021206</td>\n",
       "      <td>0.228350</td>\n",
       "      <td>0.281024</td>\n",
       "      <td>0.084579</td>\n",
       "      <td>1.000000</td>\n",
       "      <td>0.162869</td>\n",
       "      <td>0.009704</td>\n",
       "    </tr>\n",
       "    <tr>\n",
       "      <td>wire1_volume</td>\n",
       "      <td>0.071969</td>\n",
       "      <td>-0.065547</td>\n",
       "      <td>0.060031</td>\n",
       "      <td>-0.171806</td>\n",
       "      <td>0.001318</td>\n",
       "      <td>-0.025694</td>\n",
       "      <td>-0.016626</td>\n",
       "      <td>-0.028978</td>\n",
       "      <td>0.170573</td>\n",
       "      <td>0.001551</td>\n",
       "      <td>0.205748</td>\n",
       "      <td>0.162869</td>\n",
       "      <td>1.000000</td>\n",
       "      <td>0.154952</td>\n",
       "    </tr>\n",
       "    <tr>\n",
       "      <td>wire1_time</td>\n",
       "      <td>-0.089355</td>\n",
       "      <td>-0.248266</td>\n",
       "      <td>-0.021364</td>\n",
       "      <td>-0.070118</td>\n",
       "      <td>-0.027378</td>\n",
       "      <td>0.802131</td>\n",
       "      <td>0.861594</td>\n",
       "      <td>0.795554</td>\n",
       "      <td>0.041341</td>\n",
       "      <td>-0.065101</td>\n",
       "      <td>0.043216</td>\n",
       "      <td>0.009704</td>\n",
       "      <td>0.154952</td>\n",
       "      <td>1.000000</td>\n",
       "    </tr>\n",
       "  </tbody>\n",
       "</table>\n",
       "</div>"
      ],
      "text/plain": [
       "                    first_temp  last_temp  total_seconds  avg_active_power  \\\n",
       "first_temp            1.000000   0.376690      -0.295217         -0.303837   \n",
       "last_temp             0.376690   1.000000       0.207950          0.315809   \n",
       "total_seconds        -0.295217   0.207950       1.000000          0.552910   \n",
       "avg_active_power     -0.303837   0.315809       0.552910          1.000000   \n",
       "avg_reactive_power   -0.005870   0.032415       0.044348          0.059903   \n",
       "bulk12_delivery      -0.011600  -0.031387      -0.023615          0.018931   \n",
       "bulk14_delivery      -0.009961  -0.056612      -0.031228          0.010927   \n",
       "bulk15_delivery      -0.022572  -0.054435      -0.023905          0.005751   \n",
       "bulk12_supply        -0.068612   0.161764       0.473242          0.379135   \n",
       "bulk14_supply        -0.154577   0.007057       0.463047          0.324592   \n",
       "bulk15_supply        -0.115536   0.008312       0.306849          0.270746   \n",
       "Gas 1                -0.001322  -0.032639       0.400571          0.077271   \n",
       "wire1_volume          0.071969  -0.065547       0.060031         -0.171806   \n",
       "wire1_time           -0.089355  -0.248266      -0.021364         -0.070118   \n",
       "\n",
       "                    avg_reactive_power  bulk12_delivery  bulk14_delivery  \\\n",
       "first_temp                   -0.005870        -0.011600        -0.009961   \n",
       "last_temp                     0.032415        -0.031387        -0.056612   \n",
       "total_seconds                 0.044348        -0.023615        -0.031228   \n",
       "avg_active_power              0.059903         0.018931         0.010927   \n",
       "avg_reactive_power            1.000000         0.002840        -0.025608   \n",
       "bulk12_delivery               0.002840         1.000000         0.930835   \n",
       "bulk14_delivery              -0.025608         0.930835         1.000000   \n",
       "bulk15_delivery               0.002033         0.929148         0.894393   \n",
       "bulk12_supply                 0.041249         0.041664         0.029247   \n",
       "bulk14_supply                 0.000684        -0.105196        -0.101933   \n",
       "bulk15_supply                 0.036608        -0.016255        -0.042444   \n",
       "Gas 1                         0.000958        -0.047776        -0.039148   \n",
       "wire1_volume                  0.001318        -0.025694        -0.016626   \n",
       "wire1_time                   -0.027378         0.802131         0.861594   \n",
       "\n",
       "                    bulk15_delivery  bulk12_supply  bulk14_supply  \\\n",
       "first_temp                -0.022572      -0.068612      -0.154577   \n",
       "last_temp                 -0.054435       0.161764       0.007057   \n",
       "total_seconds             -0.023905       0.473242       0.463047   \n",
       "avg_active_power           0.005751       0.379135       0.324592   \n",
       "avg_reactive_power         0.002033       0.041249       0.000684   \n",
       "bulk12_delivery            0.929148       0.041664      -0.105196   \n",
       "bulk14_delivery            0.894393       0.029247      -0.101933   \n",
       "bulk15_delivery            1.000000       0.018468      -0.062981   \n",
       "bulk12_supply              0.018468       1.000000       0.505997   \n",
       "bulk14_supply             -0.062981       0.505997       1.000000   \n",
       "bulk15_supply             -0.057174       0.607762       0.308339   \n",
       "Gas 1                     -0.021206       0.228350       0.281024   \n",
       "wire1_volume              -0.028978       0.170573       0.001551   \n",
       "wire1_time                 0.795554       0.041341      -0.065101   \n",
       "\n",
       "                    bulk15_supply     Gas 1  wire1_volume  wire1_time  \n",
       "first_temp              -0.115536 -0.001322      0.071969   -0.089355  \n",
       "last_temp                0.008312 -0.032639     -0.065547   -0.248266  \n",
       "total_seconds            0.306849  0.400571      0.060031   -0.021364  \n",
       "avg_active_power         0.270746  0.077271     -0.171806   -0.070118  \n",
       "avg_reactive_power       0.036608  0.000958      0.001318   -0.027378  \n",
       "bulk12_delivery         -0.016255 -0.047776     -0.025694    0.802131  \n",
       "bulk14_delivery         -0.042444 -0.039148     -0.016626    0.861594  \n",
       "bulk15_delivery         -0.057174 -0.021206     -0.028978    0.795554  \n",
       "bulk12_supply            0.607762  0.228350      0.170573    0.041341  \n",
       "bulk14_supply            0.308339  0.281024      0.001551   -0.065101  \n",
       "bulk15_supply            1.000000  0.084579      0.205748    0.043216  \n",
       "Gas 1                    0.084579  1.000000      0.162869    0.009704  \n",
       "wire1_volume             0.205748  0.162869      1.000000    0.154952  \n",
       "wire1_time               0.043216  0.009704      0.154952    1.000000  "
      ]
     },
     "execution_count": 48,
     "metadata": {},
     "output_type": "execute_result"
    }
   ],
   "source": [
    "df_full.corr()"
   ]
  },
  {
   "cell_type": "code",
   "execution_count": 49,
   "metadata": {},
   "outputs": [],
   "source": [
    "df_full = df_full.drop(['bulk14_delivery', 'bulk15_delivery', \n",
    "                        'bulk14_supply', 'bulk15_supply'], axis=1)"
   ]
  },
  {
   "cell_type": "code",
   "execution_count": 50,
   "metadata": {},
   "outputs": [
    {
     "data": {
      "text/html": [
       "<div>\n",
       "<style scoped>\n",
       "    .dataframe tbody tr th:only-of-type {\n",
       "        vertical-align: middle;\n",
       "    }\n",
       "\n",
       "    .dataframe tbody tr th {\n",
       "        vertical-align: top;\n",
       "    }\n",
       "\n",
       "    .dataframe thead th {\n",
       "        text-align: right;\n",
       "    }\n",
       "</style>\n",
       "<table border=\"1\" class=\"dataframe\">\n",
       "  <thead>\n",
       "    <tr style=\"text-align: right;\">\n",
       "      <th></th>\n",
       "      <th>first_temp</th>\n",
       "      <th>last_temp</th>\n",
       "      <th>total_seconds</th>\n",
       "      <th>avg_active_power</th>\n",
       "      <th>avg_reactive_power</th>\n",
       "      <th>bulk12_delivery</th>\n",
       "      <th>bulk12_supply</th>\n",
       "      <th>Gas 1</th>\n",
       "      <th>wire1_volume</th>\n",
       "      <th>wire1_time</th>\n",
       "    </tr>\n",
       "  </thead>\n",
       "  <tbody>\n",
       "    <tr>\n",
       "      <td>first_temp</td>\n",
       "      <td>1.000000</td>\n",
       "      <td>0.376690</td>\n",
       "      <td>-0.295217</td>\n",
       "      <td>-0.303837</td>\n",
       "      <td>-0.005870</td>\n",
       "      <td>-0.011600</td>\n",
       "      <td>-0.068612</td>\n",
       "      <td>-0.001322</td>\n",
       "      <td>0.071969</td>\n",
       "      <td>-0.089355</td>\n",
       "    </tr>\n",
       "    <tr>\n",
       "      <td>last_temp</td>\n",
       "      <td>0.376690</td>\n",
       "      <td>1.000000</td>\n",
       "      <td>0.207950</td>\n",
       "      <td>0.315809</td>\n",
       "      <td>0.032415</td>\n",
       "      <td>-0.031387</td>\n",
       "      <td>0.161764</td>\n",
       "      <td>-0.032639</td>\n",
       "      <td>-0.065547</td>\n",
       "      <td>-0.248266</td>\n",
       "    </tr>\n",
       "    <tr>\n",
       "      <td>total_seconds</td>\n",
       "      <td>-0.295217</td>\n",
       "      <td>0.207950</td>\n",
       "      <td>1.000000</td>\n",
       "      <td>0.552910</td>\n",
       "      <td>0.044348</td>\n",
       "      <td>-0.023615</td>\n",
       "      <td>0.473242</td>\n",
       "      <td>0.400571</td>\n",
       "      <td>0.060031</td>\n",
       "      <td>-0.021364</td>\n",
       "    </tr>\n",
       "    <tr>\n",
       "      <td>avg_active_power</td>\n",
       "      <td>-0.303837</td>\n",
       "      <td>0.315809</td>\n",
       "      <td>0.552910</td>\n",
       "      <td>1.000000</td>\n",
       "      <td>0.059903</td>\n",
       "      <td>0.018931</td>\n",
       "      <td>0.379135</td>\n",
       "      <td>0.077271</td>\n",
       "      <td>-0.171806</td>\n",
       "      <td>-0.070118</td>\n",
       "    </tr>\n",
       "    <tr>\n",
       "      <td>avg_reactive_power</td>\n",
       "      <td>-0.005870</td>\n",
       "      <td>0.032415</td>\n",
       "      <td>0.044348</td>\n",
       "      <td>0.059903</td>\n",
       "      <td>1.000000</td>\n",
       "      <td>0.002840</td>\n",
       "      <td>0.041249</td>\n",
       "      <td>0.000958</td>\n",
       "      <td>0.001318</td>\n",
       "      <td>-0.027378</td>\n",
       "    </tr>\n",
       "    <tr>\n",
       "      <td>bulk12_delivery</td>\n",
       "      <td>-0.011600</td>\n",
       "      <td>-0.031387</td>\n",
       "      <td>-0.023615</td>\n",
       "      <td>0.018931</td>\n",
       "      <td>0.002840</td>\n",
       "      <td>1.000000</td>\n",
       "      <td>0.041664</td>\n",
       "      <td>-0.047776</td>\n",
       "      <td>-0.025694</td>\n",
       "      <td>0.802131</td>\n",
       "    </tr>\n",
       "    <tr>\n",
       "      <td>bulk12_supply</td>\n",
       "      <td>-0.068612</td>\n",
       "      <td>0.161764</td>\n",
       "      <td>0.473242</td>\n",
       "      <td>0.379135</td>\n",
       "      <td>0.041249</td>\n",
       "      <td>0.041664</td>\n",
       "      <td>1.000000</td>\n",
       "      <td>0.228350</td>\n",
       "      <td>0.170573</td>\n",
       "      <td>0.041341</td>\n",
       "    </tr>\n",
       "    <tr>\n",
       "      <td>Gas 1</td>\n",
       "      <td>-0.001322</td>\n",
       "      <td>-0.032639</td>\n",
       "      <td>0.400571</td>\n",
       "      <td>0.077271</td>\n",
       "      <td>0.000958</td>\n",
       "      <td>-0.047776</td>\n",
       "      <td>0.228350</td>\n",
       "      <td>1.000000</td>\n",
       "      <td>0.162869</td>\n",
       "      <td>0.009704</td>\n",
       "    </tr>\n",
       "    <tr>\n",
       "      <td>wire1_volume</td>\n",
       "      <td>0.071969</td>\n",
       "      <td>-0.065547</td>\n",
       "      <td>0.060031</td>\n",
       "      <td>-0.171806</td>\n",
       "      <td>0.001318</td>\n",
       "      <td>-0.025694</td>\n",
       "      <td>0.170573</td>\n",
       "      <td>0.162869</td>\n",
       "      <td>1.000000</td>\n",
       "      <td>0.154952</td>\n",
       "    </tr>\n",
       "    <tr>\n",
       "      <td>wire1_time</td>\n",
       "      <td>-0.089355</td>\n",
       "      <td>-0.248266</td>\n",
       "      <td>-0.021364</td>\n",
       "      <td>-0.070118</td>\n",
       "      <td>-0.027378</td>\n",
       "      <td>0.802131</td>\n",
       "      <td>0.041341</td>\n",
       "      <td>0.009704</td>\n",
       "      <td>0.154952</td>\n",
       "      <td>1.000000</td>\n",
       "    </tr>\n",
       "  </tbody>\n",
       "</table>\n",
       "</div>"
      ],
      "text/plain": [
       "                    first_temp  last_temp  total_seconds  avg_active_power  \\\n",
       "first_temp            1.000000   0.376690      -0.295217         -0.303837   \n",
       "last_temp             0.376690   1.000000       0.207950          0.315809   \n",
       "total_seconds        -0.295217   0.207950       1.000000          0.552910   \n",
       "avg_active_power     -0.303837   0.315809       0.552910          1.000000   \n",
       "avg_reactive_power   -0.005870   0.032415       0.044348          0.059903   \n",
       "bulk12_delivery      -0.011600  -0.031387      -0.023615          0.018931   \n",
       "bulk12_supply        -0.068612   0.161764       0.473242          0.379135   \n",
       "Gas 1                -0.001322  -0.032639       0.400571          0.077271   \n",
       "wire1_volume          0.071969  -0.065547       0.060031         -0.171806   \n",
       "wire1_time           -0.089355  -0.248266      -0.021364         -0.070118   \n",
       "\n",
       "                    avg_reactive_power  bulk12_delivery  bulk12_supply  \\\n",
       "first_temp                   -0.005870        -0.011600      -0.068612   \n",
       "last_temp                     0.032415        -0.031387       0.161764   \n",
       "total_seconds                 0.044348        -0.023615       0.473242   \n",
       "avg_active_power              0.059903         0.018931       0.379135   \n",
       "avg_reactive_power            1.000000         0.002840       0.041249   \n",
       "bulk12_delivery               0.002840         1.000000       0.041664   \n",
       "bulk12_supply                 0.041249         0.041664       1.000000   \n",
       "Gas 1                         0.000958        -0.047776       0.228350   \n",
       "wire1_volume                  0.001318        -0.025694       0.170573   \n",
       "wire1_time                   -0.027378         0.802131       0.041341   \n",
       "\n",
       "                       Gas 1  wire1_volume  wire1_time  \n",
       "first_temp         -0.001322      0.071969   -0.089355  \n",
       "last_temp          -0.032639     -0.065547   -0.248266  \n",
       "total_seconds       0.400571      0.060031   -0.021364  \n",
       "avg_active_power    0.077271     -0.171806   -0.070118  \n",
       "avg_reactive_power  0.000958      0.001318   -0.027378  \n",
       "bulk12_delivery    -0.047776     -0.025694    0.802131  \n",
       "bulk12_supply       0.228350      0.170573    0.041341  \n",
       "Gas 1               1.000000      0.162869    0.009704  \n",
       "wire1_volume        0.162869      1.000000    0.154952  \n",
       "wire1_time          0.009704      0.154952    1.000000  "
      ]
     },
     "execution_count": 50,
     "metadata": {},
     "output_type": "execute_result"
    }
   ],
   "source": [
    "df_full.corr()"
   ]
  },
  {
   "cell_type": "code",
   "execution_count": 51,
   "metadata": {},
   "outputs": [
    {
     "data": {
      "text/plain": [
       "2"
      ]
     },
     "execution_count": 51,
     "metadata": {},
     "output_type": "execute_result"
    }
   ],
   "source": [
    "df_full.isnull().sum().sum()"
   ]
  },
  {
   "cell_type": "code",
   "execution_count": 52,
   "metadata": {},
   "outputs": [],
   "source": [
    "df_full = df_full.dropna()"
   ]
  },
  {
   "cell_type": "markdown",
   "metadata": {},
   "source": [
    "After reviewing the Pearson correlation coefficients for the entire dataset, I could eliminate the bulk 14 and 15 delivery/supply columns, because they were highly correlated with bulk 12 and wire 1 time. This correlation between independent variables could affect my model quality and I still have plenty of features without them. \n",
    "\n",
    "Since there is not a strong dependency between the target and all of the features, only some, the relationship is probably not best represented by a multiple linear regression model. "
   ]
  },
  {
   "cell_type": "markdown",
   "metadata": {},
   "source": [
    "# 4. Train models"
   ]
  },
  {
   "cell_type": "code",
   "execution_count": 54,
   "metadata": {},
   "outputs": [
    {
     "data": {
      "text/plain": [
       "0"
      ]
     },
     "execution_count": 54,
     "metadata": {},
     "output_type": "execute_result"
    }
   ],
   "source": [
    "features.isnull().sum().sum()"
   ]
  },
  {
   "cell_type": "code",
   "execution_count": 75,
   "metadata": {},
   "outputs": [],
   "source": [
    "features = df_full.drop(['first_reading_time', 'last_reading_time', 'last_temp'], axis=1)\n",
    "target = df_full['last_temp']"
   ]
  },
  {
   "cell_type": "code",
   "execution_count": 76,
   "metadata": {},
   "outputs": [],
   "source": [
    "features_train, features_test, target_train, target_test = train_test_split(features, target,\n",
    "                                                            test_size=.25)"
   ]
  },
  {
   "cell_type": "code",
   "execution_count": 77,
   "metadata": {},
   "outputs": [],
   "source": [
    "features_train, features_valid, target_train, target_valid = train_test_split(features_train, \n",
    "                                                                target_train, test_size=.25)"
   ]
  },
  {
   "cell_type": "code",
   "execution_count": 78,
   "metadata": {},
   "outputs": [],
   "source": [
    "scaler = StandardScaler()\n",
    "\n",
    "scaler.fit(features_train)\n",
    "train = scaler.transform(features_train)\n",
    "valid = scaler.transform(features_valid)\n",
    "test = scaler.transform(features_test)"
   ]
  },
  {
   "cell_type": "code",
   "execution_count": 79,
   "metadata": {},
   "outputs": [
    {
     "name": "stdout",
     "output_type": "stream",
     "text": [
      "MAE for constant (mean) temperature prediction:  10.406336702338477\n"
     ]
    }
   ],
   "source": [
    "dummy = DummyRegressor(strategy='mean')\n",
    "\n",
    "dummy.fit(features_train, target_train)\n",
    "predictions = dummy.predict(features_valid)\n",
    "print('MAE for constant (mean) temperature prediction: ', mean_absolute_error(\n",
    "                                                            predictions, target_valid))"
   ]
  },
  {
   "cell_type": "markdown",
   "metadata": {},
   "source": [
    "After standardizing and splitting my data up into features/target and train/valid/test, I \"trained\" one dummy regressor to have a baseline to evaluate other models by. This resulted in an MAE of ~9.7 degrees, which is just under the interquartile range (10 degrees)."
   ]
  },
  {
   "cell_type": "code",
   "execution_count": 80,
   "metadata": {},
   "outputs": [
    {
     "name": "stdout",
     "output_type": "stream",
     "text": [
      "MAE for Linear Regression predictions:  8.055000604741883\n"
     ]
    }
   ],
   "source": [
    "linear_model = LinearRegression()\n",
    "\n",
    "linear_model.fit(features_train, target_train)\n",
    "predictions = linear_model.predict(features_valid)\n",
    "print('MAE for Linear Regression predictions: ', mean_absolute_error(predictions, target_valid))"
   ]
  },
  {
   "cell_type": "code",
   "execution_count": 82,
   "metadata": {},
   "outputs": [
    {
     "data": {
      "text/plain": [
       "{'max_depth': 10, 'n_estimators': 50}"
      ]
     },
     "execution_count": 82,
     "metadata": {},
     "output_type": "execute_result"
    }
   ],
   "source": [
    "params = {'max_depth': [10], 'n_estimators': [10, 20, 30, 40, 50]}\n",
    "\n",
    "rf_model = GridSearchCV(RandomForestRegressor(random_state=12345), params, \n",
    "                        scoring='neg_mean_absolute_error', cv=3)\n",
    "\n",
    "rf_model.fit(features_train, target_train)\n",
    "rf_model.best_params_"
   ]
  },
  {
   "cell_type": "code",
   "execution_count": 83,
   "metadata": {},
   "outputs": [
    {
     "name": "stdout",
     "output_type": "stream",
     "text": [
      "MAE for Random Forest predictions:  6.189428387368768\n"
     ]
    }
   ],
   "source": [
    "predictions = rf_model.predict(features_valid)\n",
    "print('MAE for Random Forest predictions: ', mean_absolute_error(predictions, target_valid))"
   ]
  },
  {
   "cell_type": "code",
   "execution_count": 85,
   "metadata": {},
   "outputs": [
    {
     "data": {
      "text/plain": [
       "{'learn': {'MAE': 3.4772097177028822, 'RMSE': 4.689021992900412},\n",
       " 'validation': {'MAE': 6.369791875659766, 'RMSE': 8.748303840341682}}"
      ]
     },
     "execution_count": 85,
     "metadata": {},
     "output_type": "execute_result"
    }
   ],
   "source": [
    "cat_model = CatBoostRegressor(boosting_type='Ordered', verbose=False,\n",
    "                             depth=10, eval_metric='MAE', random_state=12345)\n",
    "\n",
    "cat_model.fit(features_train, target_train, use_best_model=True, \n",
    "              eval_set=(features_valid, target_valid))\n",
    "cat_model.get_best_score()"
   ]
  },
  {
   "cell_type": "markdown",
   "metadata": {},
   "source": [
    "I trained three models on this data: Linear Regression, Random Forest Regressor, and CatBoost Regressor. As predicted, the linear model performed the worst of the three. The Random Forest model had the lowest validation MAE by ~.19 degrees, with the CatBoost model in a close second."
   ]
  },
  {
   "cell_type": "markdown",
   "metadata": {},
   "source": [
    "# 5. Final testing of best models"
   ]
  },
  {
   "cell_type": "code",
   "execution_count": 86,
   "metadata": {},
   "outputs": [],
   "source": [
    "rf_predictions = rf_model.predict(features_test)\n",
    "\n",
    "cat_predictions = cat_model.predict(features_test, verbose=False) "
   ]
  },
  {
   "cell_type": "code",
   "execution_count": 87,
   "metadata": {},
   "outputs": [
    {
     "name": "stdout",
     "output_type": "stream",
     "text": [
      "MAE for Random Forest test set predictions:  6.71700110361495\n",
      "MAE for CatBoost test set predictions:  6.6404293471608\n"
     ]
    }
   ],
   "source": [
    "print('MAE for Random Forest test set predictions: ', mean_absolute_error(\n",
    "                                                        rf_predictions, target_test))\n",
    "print('MAE for CatBoost test set predictions: ', mean_absolute_error(\n",
    "                                                        cat_predictions, target_test))"
   ]
  },
  {
   "cell_type": "markdown",
   "metadata": {},
   "source": [
    "The CatBoost model very slightly outperformed the Random Forest model on the test set, with an MAE that was .08 degrees lower. The Random Forest model seems to suffer more overfitting - the percent increase between its validation and test MAE (\\~8.5%) is double that of the Catboost model (~4.25%). "
   ]
  },
  {
   "cell_type": "markdown",
   "metadata": {},
   "source": [
    "# 6. Conclusion"
   ]
  },
  {
   "cell_type": "markdown",
   "metadata": {},
   "source": [
    "The CatBoost model's test MAE was approximately 6.64 degrees. This is an improvement of 3.766 degrees over the baseline of a constant prediction, or an improvement of about 36%. However, when comparing the CatBoost test MAE to the Random Forest model's, it is only a ~1.15% improvement. Since gradient boosting is computationally expensive, it could be argued that the using the CatBoost model is not cost effective given such a small improvment between it and a simpler algorithm. This would have to be weighed against the CatBoost model's greater reliablity when generalized. \n",
    "\n",
    "It is also worth mentioning that my method of filling in missing time and electrode power values was a very simple one. A deeper understanding of the context and processing procedure could improve model quality for this project."
   ]
  }
 ],
 "metadata": {
  "kernelspec": {
   "display_name": "Python 3",
   "language": "python",
   "name": "python3"
  },
  "language_info": {
   "codemirror_mode": {
    "name": "ipython",
    "version": 3
   },
   "file_extension": ".py",
   "mimetype": "text/x-python",
   "name": "python",
   "nbconvert_exporter": "python",
   "pygments_lexer": "ipython3",
   "version": "3.7.8"
  },
  "toc": {
   "base_numbering": 1,
   "nav_menu": {},
   "number_sections": true,
   "sideBar": true,
   "skip_h1_title": true,
   "title_cell": "Table of Contents",
   "title_sidebar": "Contents",
   "toc_cell": false,
   "toc_position": {},
   "toc_section_display": true,
   "toc_window_display": false
  }
 },
 "nbformat": 4,
 "nbformat_minor": 2
}
